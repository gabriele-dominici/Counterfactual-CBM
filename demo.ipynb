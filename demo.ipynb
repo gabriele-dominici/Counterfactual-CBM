{
 "cells": [
  {
   "cell_type": "code",
   "execution_count": 1,
   "metadata": {},
   "outputs": [],
   "source": [
    "import os\n",
    "import wandb\n",
    "import yaml\n",
    "import torch\n",
    "from torch.nn.functional import one_hot\n",
    "from torch.utils.data import TensorDataset\n",
    "from pytorch_lightning.utilities.seed import seed_everything\n",
    "from pytorch_lightning.loggers import WandbLogger\n",
    "from ccbm.utils import randomize_class, load_data, RandomSamplerClassBatch, save_set_c_and_cf, FEATURE_NAMES, DATASET, CLASS_TO_VISUALISE, print_concept_importance\n",
    "from ccbm.models import (StandardE2E, StandardCBM, Oracle, \n",
    "                         CounterfactualCBM_V3, CounterfactualCBM_V3_1,\n",
    "                         VAE_CF, CCHVAE, ConceptVCNet)\n",
    "import math\n",
    "import numpy as np\n",
    "import pytorch_lightning as pl\n",
    "from sklearn.metrics import roc_auc_score\n",
    "from ccbm.metrics import (variability, \n",
    "                          difference_over_union, \n",
    "                          intersection_over_union, \n",
    "                          cf_in_distribution, distance_train)\n",
    "import matplotlib.pyplot as plt\n",
    "from sklearn.linear_model import LinearRegression\n",
    "\n",
    "\n",
    "from train import train_model, train_oracle"
   ]
  },
  {
   "cell_type": "code",
   "execution_count": 2,
   "metadata": {},
   "outputs": [
    {
     "name": "stderr",
     "output_type": "stream",
     "text": [
      "Failed to detect the name of this notebook, you can set it manually with the WANDB_NOTEBOOK_NAME environment variable to enable code saving.\n",
      "\u001b[34m\u001b[1mwandb\u001b[0m: Currently logged in as: \u001b[33mgdominici\u001b[0m (\u001b[33macbm\u001b[0m). Use \u001b[1m`wandb login --relogin`\u001b[0m to force relogin\n",
      "\u001b[34m\u001b[1mwandb\u001b[0m: \u001b[33mWARNING\u001b[0m Path ./wandb/wandb/ wasn't writable, using system temp directory.\n",
      "wandb: WARNING Path ./wandb/wandb/ wasn't writable, using system temp directory\n"
     ]
    },
    {
     "data": {
      "text/html": [
       "wandb version 0.16.2 is available!  To upgrade, please run:\n",
       " $ pip install wandb --upgrade"
      ],
      "text/plain": [
       "<IPython.core.display.HTML object>"
      ]
     },
     "metadata": {},
     "output_type": "display_data"
    },
    {
     "data": {
      "text/html": [
       "Tracking run with wandb version 0.16.0"
      ],
      "text/plain": [
       "<IPython.core.display.HTML object>"
      ]
     },
     "metadata": {},
     "output_type": "display_data"
    },
    {
     "data": {
      "text/html": [
       "Run data is saved locally in <code>/var/folders/zy/8kppgl856s54352ptnhsp3zh0000gn/T/wandb/run-20240118_161008-boglad0j</code>"
      ],
      "text/plain": [
       "<IPython.core.display.HTML object>"
      ]
     },
     "metadata": {},
     "output_type": "display_data"
    },
    {
     "data": {
      "text/html": [
       "Syncing run <strong><a href='https://wandb.ai/acbm/uncategorized/runs/boglad0j' target=\"_blank\">exalted-leaf-34</a></strong> to <a href='https://wandb.ai/acbm/uncategorized' target=\"_blank\">Weights & Biases</a> (<a href='https://wandb.me/run' target=\"_blank\">docs</a>)<br/>"
      ],
      "text/plain": [
       "<IPython.core.display.HTML object>"
      ]
     },
     "metadata": {},
     "output_type": "display_data"
    },
    {
     "data": {
      "text/html": [
       " View project at <a href='https://wandb.ai/acbm/uncategorized' target=\"_blank\">https://wandb.ai/acbm/uncategorized</a>"
      ],
      "text/plain": [
       "<IPython.core.display.HTML object>"
      ]
     },
     "metadata": {},
     "output_type": "display_data"
    },
    {
     "data": {
      "text/html": [
       " View run at <a href='https://wandb.ai/acbm/uncategorized/runs/boglad0j' target=\"_blank\">https://wandb.ai/acbm/uncategorized/runs/boglad0j</a>"
      ],
      "text/plain": [
       "<IPython.core.display.HTML object>"
      ]
     },
     "metadata": {},
     "output_type": "display_data"
    },
    {
     "name": "stderr",
     "output_type": "stream",
     "text": [
      "There is a wandb run already in progress and newly created instances of `WandbLogger` will reuse this run. If this is not desired, call `wandb.finish()` before instantiating `WandbLogger`.\n"
     ]
    }
   ],
   "source": [
    "# Initialize wandb\n",
    "wandb.login()\n",
    "\n",
    "run = wandb.init(dir='./wandb')\n",
    "wandb_logger = WandbLogger()"
   ]
  },
  {
   "cell_type": "code",
   "execution_count": 3,
   "metadata": {},
   "outputs": [
    {
     "name": "stderr",
     "output_type": "stream",
     "text": [
      "`pytorch_lightning.utilities.seed.seed_everything` has been deprecated in v1.8.0 and will be removed in v1.10.0. Please use `lightning_lite.utilities.seed.seed_everything` instead.\n",
      "Global seed set to 0\n"
     ]
    },
    {
     "data": {
      "text/plain": [
       "0"
      ]
     },
     "execution_count": 3,
     "metadata": {},
     "output_type": "execute_result"
    }
   ],
   "source": [
    "# Get config variables\n",
    "seed = 0\n",
    "batch_size = 1024\n",
    "dataset_name = 'dsprites'\n",
    "model = 'CFCBM'\n",
    "emb_size = 128\n",
    "device = accelerator = 'cpu'\n",
    "learning_rate = 0.005\n",
    "epochs = 75\n",
    "fold = 0\n",
    "\n",
    "# Set seed\n",
    "seed_everything(seed, workers=True)"
   ]
  },
  {
   "attachments": {},
   "cell_type": "markdown",
   "metadata": {},
   "source": [
    "# dSprites"
   ]
  },
  {
   "attachments": {},
   "cell_type": "markdown",
   "metadata": {},
   "source": [
    "### Saving image embeddings"
   ]
  },
  {
   "cell_type": "code",
   "execution_count": null,
   "metadata": {},
   "outputs": [],
   "source": [
    "# !python3 experiments/dsprites/save_embeddings.py"
   ]
  },
  {
   "attachments": {},
   "cell_type": "markdown",
   "metadata": {},
   "source": [
    "### Creating directories"
   ]
  },
  {
   "cell_type": "code",
   "execution_count": null,
   "metadata": {},
   "outputs": [],
   "source": [
    "# creates directory for results\n",
    "results_root_dir = f\"./results/\"\n",
    "os.makedirs(results_root_dir, exist_ok=True)\n",
    "results_dir = f\"./results/{dataset_name}/\"\n",
    "os.makedirs(results_dir, exist_ok=True)\n",
    "figures_dir = f\"./results/{dataset_name}/figures/\"\n",
    "os.makedirs(figures_dir, exist_ok=True)\n",
    "log_dir = f\"./results/{dataset_name}/logs/\"\n",
    "os.makedirs(log_dir, exist_ok=True) "
   ]
  },
  {
   "attachments": {},
   "cell_type": "markdown",
   "metadata": {},
   "source": [
    "### Loading data"
   ]
  },
  {
   "cell_type": "code",
   "execution_count": null,
   "metadata": {},
   "outputs": [],
   "source": [
    "# Load train data\n",
    "X, c, y = load_data(dataset_name)\n",
    "if len(y.shape) == 1:\n",
    "    y = y.unsqueeze(1)\n",
    "    # Unique [concepts, labels]\n",
    "    c_cf_set = torch.unique(torch.cat((c, y), dim=-1), dim=0)\n",
    "    concept_labels = c_cf_set[:, -1]\n",
    "    c_cf_set = c_cf_set[:, :-1]\n",
    "else:\n",
    "    c_cf_set = torch.unique(torch.cat((c, torch.argmax(y, dim=-1).unsqueeze(-1)), dim=-1), dim=0)\n",
    "    concept_labels = c_cf_set[:, -1]\n",
    "    c_cf_set = c_cf_set[:, :-1]\n",
    "    concept_labels = one_hot(concept_labels.long(), num_classes=y.shape[1]).float()\n",
    "\n",
    "# Load test data\n",
    "X_test, c_test, y_test = load_data(dataset_name, split='test')\n",
    "if len(y_test.shape) == 1:\n",
    "    y_test = y_test.unsqueeze(1)"
   ]
  },
  {
   "attachments": {},
   "cell_type": "markdown",
   "metadata": {},
   "source": [
    "### Selecting model"
   ]
  },
  {
   "cell_type": "code",
   "execution_count": null,
   "metadata": {},
   "outputs": [],
   "source": [
    "# Define models\n",
    "models = {\n",
    "            'Oracle': Oracle(),\n",
    "            'DeepNN': StandardE2E(X.shape[1], y.shape[1], emb_size, learning_rate),\n",
    "            'StandardCBM': StandardCBM(X.shape[1], c.shape[1], y.shape[1], emb_size, learning_rate, bool_concepts=True, deep=False),\n",
    "            'CFCBM': CounterfactualCBM_V3(X.shape[1], c.shape[1], y.shape[1], emb_size, c_cf_set, concept_labels, learning_rate=learning_rate, resample=0, bernulli=False, deep=False, reconstruction=False),\n",
    "            'VAECF': (StandardCBM(X.shape[1], c.shape[1], y.shape[1], emb_size, learning_rate, bool_concepts=True, deep=True), \n",
    "                      VAE_CF(c.shape[1], y.shape[1], emb_size, None, learning_rate)),\n",
    "            'CCHVAE': (StandardCBM(X.shape[1], c.shape[1], y.shape[1], emb_size, learning_rate, bool_concepts=True, deep=True),\n",
    "                       CCHVAE(c.shape[1], y.shape[1], emb_size, None, learning_rate)),\n",
    "            'VCNET': ConceptVCNet(X.shape[1], c.shape[1], y.shape[1], emb_size, learning_rate, bool_concepts=True, deep=True),\n",
    "            'BayCon': StandardCBM(X.shape[1], c.shape[1], y.shape[1], emb_size, learning_rate, bool_concepts=True, deep=True),\n",
    "        }\n",
    "net = models[model]"
   ]
  },
  {
   "attachments": {},
   "cell_type": "markdown",
   "metadata": {},
   "source": [
    "### Setting up dataloader"
   ]
  },
  {
   "cell_type": "code",
   "execution_count": null,
   "metadata": {},
   "outputs": [],
   "source": [
    "# Create DataLoader\n",
    "train_data = TensorDataset(X, c, y)\n",
    "train_dl = torch.utils.data.DataLoader(train_data, batch_sampler=torch.utils.data.BatchSampler(RandomSamplerClassBatch(y, batch_size=batch_size, replacement=False), batch_size=batch_size, drop_last=True), pin_memory=True)\n",
    "test_data = TensorDataset(X_test, c_test, y_test)\n",
    "test_dl = torch.utils.data.DataLoader(test_data, batch_sampler=torch.utils.data.BatchSampler(RandomSamplerClassBatch(y_test, batch_size=batch_size, replacement=False), batch_size=batch_size,  drop_last=True), pin_memory=True)"
   ]
  },
  {
   "attachments": {},
   "cell_type": "markdown",
   "metadata": {},
   "source": [
    "### Traing the model"
   ]
  },
  {
   "cell_type": "code",
   "execution_count": null,
   "metadata": {},
   "outputs": [
    {
     "name": "stderr",
     "output_type": "stream",
     "text": [
      "GPU available: True (mps), used: False\n",
      "TPU available: False, using: 0 TPU cores\n",
      "IPU available: False, using: 0 IPUs\n",
      "HPU available: False, using: 0 HPUs\n",
      "MPS available but not used. Set `accelerator` and `devices` using `Trainer(accelerator='mps', devices=1)`.\n",
      "`Trainer(limit_train_batches=1.0)` was configured so 100% of the batches per epoch will be used..\n",
      "`Trainer(limit_val_batches=1.0)` was configured so 100% of the batches will be used..\n",
      "Global seed set to 0\n"
     ]
    },
    {
     "name": "stdout",
     "output_type": "stream",
     "text": [
      "Running CounterfactualCBM_V3(\n",
      "  (cross_entropy): CrossEntropyLoss()\n",
      "  (bce): BCELoss()\n",
      "  (bce_log): BCEWithLogitsLoss()\n",
      "  (model): Sequential(\n",
      "    (0): Linear(in_features=512, out_features=128, bias=True)\n",
      "    (1): LeakyReLU(negative_slope=0.01)\n",
      "    (2): Linear(in_features=128, out_features=128, bias=True)\n",
      "    (3): LeakyReLU(negative_slope=0.01)\n",
      "    (4): Linear(in_features=128, out_features=2, bias=True)\n",
      "  )\n",
      "  (encoder): Sequential(\n",
      "    (0): Linear(in_features=512, out_features=128, bias=True)\n",
      "    (1): LeakyReLU(negative_slope=0.01)\n",
      "    (2): Linear(in_features=128, out_features=128, bias=True)\n",
      "    (3): LeakyReLU(negative_slope=0.01)\n",
      "  )\n",
      "  (relation_classifiers): Sequential(\n",
      "    (0): Linear(in_features=128, out_features=7, bias=True)\n",
      "  )\n",
      "  (reasoner): Sequential(\n",
      "    (0): Linear(in_features=7, out_features=2, bias=True)\n",
      "  )\n",
      "  (classification_loss): BCELoss()\n",
      "  (concept_mean_predictor): Sequential(\n",
      "    (0): Linear(in_features=128, out_features=128, bias=True)\n",
      "    (1): LeakyReLU(negative_slope=0.01)\n",
      "    (2): Linear(in_features=128, out_features=128, bias=True)\n",
      "  )\n",
      "  (concept_var_predictor): Sequential(\n",
      "    (0): Linear(in_features=128, out_features=128, bias=True)\n",
      "    (1): LeakyReLU(negative_slope=0.01)\n",
      "    (2): Linear(in_features=128, out_features=128, bias=True)\n",
      "  )\n",
      "  (concept_mean_z3_predictor): Sequential(\n",
      "    (0): Linear(in_features=137, out_features=128, bias=True)\n",
      "    (1): LeakyReLU(negative_slope=0.01)\n",
      "    (2): Linear(in_features=128, out_features=128, bias=True)\n",
      "  )\n",
      "  (concept_var_z3_predictor): Sequential(\n",
      "    (0): Linear(in_features=137, out_features=128, bias=True)\n",
      "    (1): LeakyReLU(negative_slope=0.01)\n",
      "    (2): Linear(in_features=128, out_features=128, bias=True)\n",
      "  )\n",
      "  (concept_mean_qz3_predictor): Sequential(\n",
      "    (0): Linear(in_features=139, out_features=128, bias=True)\n",
      "    (1): LeakyReLU(negative_slope=0.01)\n",
      "    (2): Linear(in_features=128, out_features=128, bias=True)\n",
      "  )\n",
      "  (concept_var_qz3_predictor): Sequential(\n",
      "    (0): Linear(in_features=139, out_features=128, bias=True)\n",
      "    (1): LeakyReLU(negative_slope=0.01)\n",
      "    (2): Linear(in_features=128, out_features=128, bias=True)\n",
      "  )\n",
      "  (concept_predictor): Sequential(\n",
      "    (0): Linear(in_features=128, out_features=128, bias=True)\n",
      "    (1): LeakyReLU(negative_slope=0.01)\n",
      "    (2): Linear(in_features=128, out_features=7, bias=True)\n",
      "  )\n",
      "), epochs=75, learning_rate=0.005\n"
     ]
    },
    {
     "name": "stderr",
     "output_type": "stream",
     "text": [
      "\n",
      "   | Name                       | Type              | Params\n",
      "------------------------------------------------------------------\n",
      "0  | cross_entropy              | CrossEntropyLoss  | 0     \n",
      "1  | bce                        | BCELoss           | 0     \n",
      "2  | bce_log                    | BCEWithLogitsLoss | 0     \n",
      "3  | model                      | Sequential        | 82.4 K\n",
      "4  | encoder                    | Sequential        | 82.2 K\n",
      "5  | relation_classifiers       | Sequential        | 903   \n",
      "6  | reasoner                   | Sequential        | 16    \n",
      "7  | concept_mean_predictor     | Sequential        | 33.0 K\n",
      "8  | concept_var_predictor      | Sequential        | 33.0 K\n",
      "9  | concept_mean_z3_predictor  | Sequential        | 34.2 K\n",
      "10 | concept_var_z3_predictor   | Sequential        | 34.2 K\n",
      "11 | concept_mean_qz3_predictor | Sequential        | 34.4 K\n",
      "12 | concept_var_qz3_predictor  | Sequential        | 34.4 K\n",
      "13 | concept_predictor          | Sequential        | 17.4 K\n",
      "------------------------------------------------------------------\n",
      "386 K     Trainable params\n",
      "0         Non-trainable params\n",
      "386 K     Total params\n",
      "1.545     Total estimated model params size (MB)\n"
     ]
    },
    {
     "data": {
      "application/vnd.jupyter.widget-view+json": {
       "model_id": "9f4311930fe04b3d8b748997abe159f1",
       "version_major": 2,
       "version_minor": 0
      },
      "text/plain": [
       "Sanity Checking: 0it [00:00, ?it/s]"
      ]
     },
     "metadata": {},
     "output_type": "display_data"
    },
    {
     "name": "stderr",
     "output_type": "stream",
     "text": [
      "The dataloader, val_dataloader 0, does not have many workers which may be a bottleneck. Consider increasing the value of the `num_workers` argument` (try 8 which is the number of cpus on this machine) in the `DataLoader` init to improve performance.\n",
      "The dataloader, train_dataloader, does not have many workers which may be a bottleneck. Consider increasing the value of the `num_workers` argument` (try 8 which is the number of cpus on this machine) in the `DataLoader` init to improve performance.\n",
      "The number of training batches (7) is smaller than the logging interval Trainer(log_every_n_steps=50). Set a lower value for log_every_n_steps if you want to see logs for the training epoch.\n"
     ]
    },
    {
     "data": {
      "application/vnd.jupyter.widget-view+json": {
       "model_id": "d2db2556524c4c6baa62dfea6b142c89",
       "version_major": 2,
       "version_minor": 0
      },
      "text/plain": [
       "Training: 0it [00:00, ?it/s]"
      ]
     },
     "metadata": {},
     "output_type": "display_data"
    },
    {
     "data": {
      "application/vnd.jupyter.widget-view+json": {
       "model_id": "f744bbae76bf445398e6d118512ac64b",
       "version_major": 2,
       "version_minor": 0
      },
      "text/plain": [
       "Validation: 0it [00:00, ?it/s]"
      ]
     },
     "metadata": {},
     "output_type": "display_data"
    },
    {
     "data": {
      "application/vnd.jupyter.widget-view+json": {
       "model_id": "7a64583bf0a94af3a4d82b9e58be8a31",
       "version_major": 2,
       "version_minor": 0
      },
      "text/plain": [
       "Validation: 0it [00:00, ?it/s]"
      ]
     },
     "metadata": {},
     "output_type": "display_data"
    },
    {
     "data": {
      "application/vnd.jupyter.widget-view+json": {
       "model_id": "64751b2a8caa4ef19508555b862bb949",
       "version_major": 2,
       "version_minor": 0
      },
      "text/plain": [
       "Validation: 0it [00:00, ?it/s]"
      ]
     },
     "metadata": {},
     "output_type": "display_data"
    },
    {
     "data": {
      "application/vnd.jupyter.widget-view+json": {
       "model_id": "3b9de55034d94d77a1b39aa5d320507a",
       "version_major": 2,
       "version_minor": 0
      },
      "text/plain": [
       "Validation: 0it [00:00, ?it/s]"
      ]
     },
     "metadata": {},
     "output_type": "display_data"
    },
    {
     "data": {
      "application/vnd.jupyter.widget-view+json": {
       "model_id": "015c5dd16e4045b0984c4acd139714e0",
       "version_major": 2,
       "version_minor": 0
      },
      "text/plain": [
       "Validation: 0it [00:00, ?it/s]"
      ]
     },
     "metadata": {},
     "output_type": "display_data"
    },
    {
     "data": {
      "application/vnd.jupyter.widget-view+json": {
       "model_id": "37ed13c5f68d414593cf4e01ad84e389",
       "version_major": 2,
       "version_minor": 0
      },
      "text/plain": [
       "Validation: 0it [00:00, ?it/s]"
      ]
     },
     "metadata": {},
     "output_type": "display_data"
    },
    {
     "data": {
      "application/vnd.jupyter.widget-view+json": {
       "model_id": "6283c8c81f9a466884eebb2a9587d4f1",
       "version_major": 2,
       "version_minor": 0
      },
      "text/plain": [
       "Validation: 0it [00:00, ?it/s]"
      ]
     },
     "metadata": {},
     "output_type": "display_data"
    },
    {
     "data": {
      "application/vnd.jupyter.widget-view+json": {
       "model_id": "a570b88924c24ef88e51e2e1f1a27ee4",
       "version_major": 2,
       "version_minor": 0
      },
      "text/plain": [
       "Validation: 0it [00:00, ?it/s]"
      ]
     },
     "metadata": {},
     "output_type": "display_data"
    },
    {
     "data": {
      "application/vnd.jupyter.widget-view+json": {
       "model_id": "04476ff194d84b01a6dab7dc8157603f",
       "version_major": 2,
       "version_minor": 0
      },
      "text/plain": [
       "Validation: 0it [00:00, ?it/s]"
      ]
     },
     "metadata": {},
     "output_type": "display_data"
    },
    {
     "data": {
      "application/vnd.jupyter.widget-view+json": {
       "model_id": "0f638a706e5a4a55982f9e9c380a9d72",
       "version_major": 2,
       "version_minor": 0
      },
      "text/plain": [
       "Validation: 0it [00:00, ?it/s]"
      ]
     },
     "metadata": {},
     "output_type": "display_data"
    },
    {
     "data": {
      "application/vnd.jupyter.widget-view+json": {
       "model_id": "4601eae3bb8b444db7a6c7854ba678df",
       "version_major": 2,
       "version_minor": 0
      },
      "text/plain": [
       "Validation: 0it [00:00, ?it/s]"
      ]
     },
     "metadata": {},
     "output_type": "display_data"
    },
    {
     "data": {
      "application/vnd.jupyter.widget-view+json": {
       "model_id": "1dfc4aa75f5347a99e6de4b72ff88e0d",
       "version_major": 2,
       "version_minor": 0
      },
      "text/plain": [
       "Validation: 0it [00:00, ?it/s]"
      ]
     },
     "metadata": {},
     "output_type": "display_data"
    },
    {
     "data": {
      "application/vnd.jupyter.widget-view+json": {
       "model_id": "fb543c4031654c5f90a6aadc96dc52dd",
       "version_major": 2,
       "version_minor": 0
      },
      "text/plain": [
       "Validation: 0it [00:00, ?it/s]"
      ]
     },
     "metadata": {},
     "output_type": "display_data"
    },
    {
     "data": {
      "application/vnd.jupyter.widget-view+json": {
       "model_id": "2048d5b2f1234f2696779f26da2fc9cd",
       "version_major": 2,
       "version_minor": 0
      },
      "text/plain": [
       "Validation: 0it [00:00, ?it/s]"
      ]
     },
     "metadata": {},
     "output_type": "display_data"
    },
    {
     "data": {
      "application/vnd.jupyter.widget-view+json": {
       "model_id": "f226ad1d452e4575abe7ea6f3963592f",
       "version_major": 2,
       "version_minor": 0
      },
      "text/plain": [
       "Validation: 0it [00:00, ?it/s]"
      ]
     },
     "metadata": {},
     "output_type": "display_data"
    },
    {
     "data": {
      "application/vnd.jupyter.widget-view+json": {
       "model_id": "9ba2ea0fb5584391a95e141e1b57270a",
       "version_major": 2,
       "version_minor": 0
      },
      "text/plain": [
       "Validation: 0it [00:00, ?it/s]"
      ]
     },
     "metadata": {},
     "output_type": "display_data"
    },
    {
     "data": {
      "application/vnd.jupyter.widget-view+json": {
       "model_id": "17714b696cea4142a59a836491f02cdd",
       "version_major": 2,
       "version_minor": 0
      },
      "text/plain": [
       "Validation: 0it [00:00, ?it/s]"
      ]
     },
     "metadata": {},
     "output_type": "display_data"
    },
    {
     "data": {
      "application/vnd.jupyter.widget-view+json": {
       "model_id": "5d76940978544f6397d7698ecc3cdcba",
       "version_major": 2,
       "version_minor": 0
      },
      "text/plain": [
       "Validation: 0it [00:00, ?it/s]"
      ]
     },
     "metadata": {},
     "output_type": "display_data"
    },
    {
     "data": {
      "application/vnd.jupyter.widget-view+json": {
       "model_id": "17eaa7852d1644c2801a12424861bd26",
       "version_major": 2,
       "version_minor": 0
      },
      "text/plain": [
       "Validation: 0it [00:00, ?it/s]"
      ]
     },
     "metadata": {},
     "output_type": "display_data"
    },
    {
     "data": {
      "application/vnd.jupyter.widget-view+json": {
       "model_id": "28d5bc0ac6ef4056a0eac87f7ede7f60",
       "version_major": 2,
       "version_minor": 0
      },
      "text/plain": [
       "Validation: 0it [00:00, ?it/s]"
      ]
     },
     "metadata": {},
     "output_type": "display_data"
    },
    {
     "data": {
      "application/vnd.jupyter.widget-view+json": {
       "model_id": "2ef77e24994341e985048bb7dd0509dd",
       "version_major": 2,
       "version_minor": 0
      },
      "text/plain": [
       "Validation: 0it [00:00, ?it/s]"
      ]
     },
     "metadata": {},
     "output_type": "display_data"
    },
    {
     "data": {
      "application/vnd.jupyter.widget-view+json": {
       "model_id": "9f9c1c4d43f24267bb8481b34093e128",
       "version_major": 2,
       "version_minor": 0
      },
      "text/plain": [
       "Validation: 0it [00:00, ?it/s]"
      ]
     },
     "metadata": {},
     "output_type": "display_data"
    },
    {
     "data": {
      "application/vnd.jupyter.widget-view+json": {
       "model_id": "9f432427c3fb458791bd850f9219da06",
       "version_major": 2,
       "version_minor": 0
      },
      "text/plain": [
       "Validation: 0it [00:00, ?it/s]"
      ]
     },
     "metadata": {},
     "output_type": "display_data"
    },
    {
     "data": {
      "application/vnd.jupyter.widget-view+json": {
       "model_id": "7eb1b5efabf043e1b0615a547b358356",
       "version_major": 2,
       "version_minor": 0
      },
      "text/plain": [
       "Validation: 0it [00:00, ?it/s]"
      ]
     },
     "metadata": {},
     "output_type": "display_data"
    },
    {
     "data": {
      "application/vnd.jupyter.widget-view+json": {
       "model_id": "022c1d5f5bcd4562ab5fbaa080faef11",
       "version_major": 2,
       "version_minor": 0
      },
      "text/plain": [
       "Validation: 0it [00:00, ?it/s]"
      ]
     },
     "metadata": {},
     "output_type": "display_data"
    },
    {
     "data": {
      "application/vnd.jupyter.widget-view+json": {
       "model_id": "931ec4a729c9499a889dd1d8c4390166",
       "version_major": 2,
       "version_minor": 0
      },
      "text/plain": [
       "Validation: 0it [00:00, ?it/s]"
      ]
     },
     "metadata": {},
     "output_type": "display_data"
    },
    {
     "data": {
      "application/vnd.jupyter.widget-view+json": {
       "model_id": "8b2fddb3ad304bf68a3796c61bda73a0",
       "version_major": 2,
       "version_minor": 0
      },
      "text/plain": [
       "Validation: 0it [00:00, ?it/s]"
      ]
     },
     "metadata": {},
     "output_type": "display_data"
    },
    {
     "data": {
      "application/vnd.jupyter.widget-view+json": {
       "model_id": "9ad59a8ef6f64f57a5e73ea2eae9d014",
       "version_major": 2,
       "version_minor": 0
      },
      "text/plain": [
       "Validation: 0it [00:00, ?it/s]"
      ]
     },
     "metadata": {},
     "output_type": "display_data"
    },
    {
     "data": {
      "application/vnd.jupyter.widget-view+json": {
       "model_id": "eeec7a30501542b0bb206ead29308101",
       "version_major": 2,
       "version_minor": 0
      },
      "text/plain": [
       "Validation: 0it [00:00, ?it/s]"
      ]
     },
     "metadata": {},
     "output_type": "display_data"
    },
    {
     "data": {
      "application/vnd.jupyter.widget-view+json": {
       "model_id": "caa8ced8a6b049d588ffdb8f4a52c0b8",
       "version_major": 2,
       "version_minor": 0
      },
      "text/plain": [
       "Validation: 0it [00:00, ?it/s]"
      ]
     },
     "metadata": {},
     "output_type": "display_data"
    },
    {
     "data": {
      "application/vnd.jupyter.widget-view+json": {
       "model_id": "a8af35c287334d1ebf49c05249f76d79",
       "version_major": 2,
       "version_minor": 0
      },
      "text/plain": [
       "Validation: 0it [00:00, ?it/s]"
      ]
     },
     "metadata": {},
     "output_type": "display_data"
    },
    {
     "data": {
      "application/vnd.jupyter.widget-view+json": {
       "model_id": "4495ee4bd65547e895d3948768fbe42d",
       "version_major": 2,
       "version_minor": 0
      },
      "text/plain": [
       "Validation: 0it [00:00, ?it/s]"
      ]
     },
     "metadata": {},
     "output_type": "display_data"
    },
    {
     "data": {
      "application/vnd.jupyter.widget-view+json": {
       "model_id": "215b74622aaf43099b76ea5e90e42fe4",
       "version_major": 2,
       "version_minor": 0
      },
      "text/plain": [
       "Validation: 0it [00:00, ?it/s]"
      ]
     },
     "metadata": {},
     "output_type": "display_data"
    },
    {
     "data": {
      "application/vnd.jupyter.widget-view+json": {
       "model_id": "6d65f0f95c804dcc819d6e6aaf4a4e2b",
       "version_major": 2,
       "version_minor": 0
      },
      "text/plain": [
       "Validation: 0it [00:00, ?it/s]"
      ]
     },
     "metadata": {},
     "output_type": "display_data"
    },
    {
     "data": {
      "application/vnd.jupyter.widget-view+json": {
       "model_id": "214744c5ecb84372a74e031580cc1639",
       "version_major": 2,
       "version_minor": 0
      },
      "text/plain": [
       "Validation: 0it [00:00, ?it/s]"
      ]
     },
     "metadata": {},
     "output_type": "display_data"
    },
    {
     "data": {
      "application/vnd.jupyter.widget-view+json": {
       "model_id": "8d64e008d3fe4904958a5a624c0f92c9",
       "version_major": 2,
       "version_minor": 0
      },
      "text/plain": [
       "Validation: 0it [00:00, ?it/s]"
      ]
     },
     "metadata": {},
     "output_type": "display_data"
    },
    {
     "data": {
      "application/vnd.jupyter.widget-view+json": {
       "model_id": "307fe0e1bac7489b9a70df67e4bf60e1",
       "version_major": 2,
       "version_minor": 0
      },
      "text/plain": [
       "Validation: 0it [00:00, ?it/s]"
      ]
     },
     "metadata": {},
     "output_type": "display_data"
    },
    {
     "data": {
      "application/vnd.jupyter.widget-view+json": {
       "model_id": "0ea009cf91de46ffb834dcf2567e6f5b",
       "version_major": 2,
       "version_minor": 0
      },
      "text/plain": [
       "Validation: 0it [00:00, ?it/s]"
      ]
     },
     "metadata": {},
     "output_type": "display_data"
    },
    {
     "data": {
      "application/vnd.jupyter.widget-view+json": {
       "model_id": "8ee76bb072a74fbabdaa28b6d4f345fb",
       "version_major": 2,
       "version_minor": 0
      },
      "text/plain": [
       "Validation: 0it [00:00, ?it/s]"
      ]
     },
     "metadata": {},
     "output_type": "display_data"
    },
    {
     "data": {
      "application/vnd.jupyter.widget-view+json": {
       "model_id": "0cd2ec8b9bd24241ba0a09de11eb6794",
       "version_major": 2,
       "version_minor": 0
      },
      "text/plain": [
       "Validation: 0it [00:00, ?it/s]"
      ]
     },
     "metadata": {},
     "output_type": "display_data"
    },
    {
     "data": {
      "application/vnd.jupyter.widget-view+json": {
       "model_id": "9dd2dca221994ba9839ebc56425b070c",
       "version_major": 2,
       "version_minor": 0
      },
      "text/plain": [
       "Validation: 0it [00:00, ?it/s]"
      ]
     },
     "metadata": {},
     "output_type": "display_data"
    },
    {
     "data": {
      "application/vnd.jupyter.widget-view+json": {
       "model_id": "b61df963fe5a40398aded6f018c04231",
       "version_major": 2,
       "version_minor": 0
      },
      "text/plain": [
       "Validation: 0it [00:00, ?it/s]"
      ]
     },
     "metadata": {},
     "output_type": "display_data"
    },
    {
     "data": {
      "application/vnd.jupyter.widget-view+json": {
       "model_id": "f97eca4017ee42b1a9f45b87efa07e0c",
       "version_major": 2,
       "version_minor": 0
      },
      "text/plain": [
       "Validation: 0it [00:00, ?it/s]"
      ]
     },
     "metadata": {},
     "output_type": "display_data"
    },
    {
     "data": {
      "application/vnd.jupyter.widget-view+json": {
       "model_id": "2160f8f458444c2ebd361c288c013af6",
       "version_major": 2,
       "version_minor": 0
      },
      "text/plain": [
       "Validation: 0it [00:00, ?it/s]"
      ]
     },
     "metadata": {},
     "output_type": "display_data"
    },
    {
     "data": {
      "application/vnd.jupyter.widget-view+json": {
       "model_id": "4239fc6f84234523916a62d627116441",
       "version_major": 2,
       "version_minor": 0
      },
      "text/plain": [
       "Validation: 0it [00:00, ?it/s]"
      ]
     },
     "metadata": {},
     "output_type": "display_data"
    },
    {
     "data": {
      "application/vnd.jupyter.widget-view+json": {
       "model_id": "b6abd718665848da88292e60b14f275b",
       "version_major": 2,
       "version_minor": 0
      },
      "text/plain": [
       "Validation: 0it [00:00, ?it/s]"
      ]
     },
     "metadata": {},
     "output_type": "display_data"
    },
    {
     "data": {
      "application/vnd.jupyter.widget-view+json": {
       "model_id": "1aeda59569c74f65bb7190793c1ac6c9",
       "version_major": 2,
       "version_minor": 0
      },
      "text/plain": [
       "Validation: 0it [00:00, ?it/s]"
      ]
     },
     "metadata": {},
     "output_type": "display_data"
    },
    {
     "data": {
      "application/vnd.jupyter.widget-view+json": {
       "model_id": "e3b7cfe248a34d39951adcfc2befda60",
       "version_major": 2,
       "version_minor": 0
      },
      "text/plain": [
       "Validation: 0it [00:00, ?it/s]"
      ]
     },
     "metadata": {},
     "output_type": "display_data"
    },
    {
     "data": {
      "application/vnd.jupyter.widget-view+json": {
       "model_id": "6c99dc4a030743648b7fed286a784edd",
       "version_major": 2,
       "version_minor": 0
      },
      "text/plain": [
       "Validation: 0it [00:00, ?it/s]"
      ]
     },
     "metadata": {},
     "output_type": "display_data"
    },
    {
     "data": {
      "application/vnd.jupyter.widget-view+json": {
       "model_id": "317ea89af7fc448c987cfd9b8436e77a",
       "version_major": 2,
       "version_minor": 0
      },
      "text/plain": [
       "Validation: 0it [00:00, ?it/s]"
      ]
     },
     "metadata": {},
     "output_type": "display_data"
    },
    {
     "data": {
      "application/vnd.jupyter.widget-view+json": {
       "model_id": "b840f9e6d65f45ecb674e026b86dc0de",
       "version_major": 2,
       "version_minor": 0
      },
      "text/plain": [
       "Validation: 0it [00:00, ?it/s]"
      ]
     },
     "metadata": {},
     "output_type": "display_data"
    },
    {
     "data": {
      "application/vnd.jupyter.widget-view+json": {
       "model_id": "1ce5a414e58b425d813be1684b90d63c",
       "version_major": 2,
       "version_minor": 0
      },
      "text/plain": [
       "Validation: 0it [00:00, ?it/s]"
      ]
     },
     "metadata": {},
     "output_type": "display_data"
    },
    {
     "data": {
      "application/vnd.jupyter.widget-view+json": {
       "model_id": "6c917544ed614ec3a46c2d51454dedad",
       "version_major": 2,
       "version_minor": 0
      },
      "text/plain": [
       "Validation: 0it [00:00, ?it/s]"
      ]
     },
     "metadata": {},
     "output_type": "display_data"
    },
    {
     "data": {
      "application/vnd.jupyter.widget-view+json": {
       "model_id": "48f83faca6894c8185bea013620d3b5b",
       "version_major": 2,
       "version_minor": 0
      },
      "text/plain": [
       "Validation: 0it [00:00, ?it/s]"
      ]
     },
     "metadata": {},
     "output_type": "display_data"
    },
    {
     "data": {
      "application/vnd.jupyter.widget-view+json": {
       "model_id": "ff997bc486514c2ba8d88fe0aafeb635",
       "version_major": 2,
       "version_minor": 0
      },
      "text/plain": [
       "Validation: 0it [00:00, ?it/s]"
      ]
     },
     "metadata": {},
     "output_type": "display_data"
    },
    {
     "data": {
      "application/vnd.jupyter.widget-view+json": {
       "model_id": "86d63e31ce864132b8e19906fa9c4de6",
       "version_major": 2,
       "version_minor": 0
      },
      "text/plain": [
       "Validation: 0it [00:00, ?it/s]"
      ]
     },
     "metadata": {},
     "output_type": "display_data"
    },
    {
     "data": {
      "application/vnd.jupyter.widget-view+json": {
       "model_id": "71bfa78afb6f4169b3f065e0352cb085",
       "version_major": 2,
       "version_minor": 0
      },
      "text/plain": [
       "Validation: 0it [00:00, ?it/s]"
      ]
     },
     "metadata": {},
     "output_type": "display_data"
    },
    {
     "data": {
      "application/vnd.jupyter.widget-view+json": {
       "model_id": "8c0721a3018349b6abc50c0ad20787ab",
       "version_major": 2,
       "version_minor": 0
      },
      "text/plain": [
       "Validation: 0it [00:00, ?it/s]"
      ]
     },
     "metadata": {},
     "output_type": "display_data"
    },
    {
     "data": {
      "application/vnd.jupyter.widget-view+json": {
       "model_id": "43ade954fae245179e4b279ec8fca770",
       "version_major": 2,
       "version_minor": 0
      },
      "text/plain": [
       "Validation: 0it [00:00, ?it/s]"
      ]
     },
     "metadata": {},
     "output_type": "display_data"
    },
    {
     "data": {
      "application/vnd.jupyter.widget-view+json": {
       "model_id": "0ce0bb8cbdde416090e043317d84ee4b",
       "version_major": 2,
       "version_minor": 0
      },
      "text/plain": [
       "Validation: 0it [00:00, ?it/s]"
      ]
     },
     "metadata": {},
     "output_type": "display_data"
    },
    {
     "data": {
      "application/vnd.jupyter.widget-view+json": {
       "model_id": "ace70ee2570f491ca15c59570fce4178",
       "version_major": 2,
       "version_minor": 0
      },
      "text/plain": [
       "Validation: 0it [00:00, ?it/s]"
      ]
     },
     "metadata": {},
     "output_type": "display_data"
    },
    {
     "data": {
      "application/vnd.jupyter.widget-view+json": {
       "model_id": "1a0e2f9ce1f94dddb2d0908898ec3640",
       "version_major": 2,
       "version_minor": 0
      },
      "text/plain": [
       "Validation: 0it [00:00, ?it/s]"
      ]
     },
     "metadata": {},
     "output_type": "display_data"
    },
    {
     "data": {
      "application/vnd.jupyter.widget-view+json": {
       "model_id": "6f98177977864ec5b817904f9582edf0",
       "version_major": 2,
       "version_minor": 0
      },
      "text/plain": [
       "Validation: 0it [00:00, ?it/s]"
      ]
     },
     "metadata": {},
     "output_type": "display_data"
    },
    {
     "data": {
      "application/vnd.jupyter.widget-view+json": {
       "model_id": "4131205b351848b1bf6f8542c907298c",
       "version_major": 2,
       "version_minor": 0
      },
      "text/plain": [
       "Validation: 0it [00:00, ?it/s]"
      ]
     },
     "metadata": {},
     "output_type": "display_data"
    },
    {
     "data": {
      "application/vnd.jupyter.widget-view+json": {
       "model_id": "1bb0c46d71e04aaa92f7b36b220ce250",
       "version_major": 2,
       "version_minor": 0
      },
      "text/plain": [
       "Validation: 0it [00:00, ?it/s]"
      ]
     },
     "metadata": {},
     "output_type": "display_data"
    },
    {
     "data": {
      "application/vnd.jupyter.widget-view+json": {
       "model_id": "d18b91bf028f4d21b98dcdec3c5a0a5a",
       "version_major": 2,
       "version_minor": 0
      },
      "text/plain": [
       "Validation: 0it [00:00, ?it/s]"
      ]
     },
     "metadata": {},
     "output_type": "display_data"
    },
    {
     "data": {
      "application/vnd.jupyter.widget-view+json": {
       "model_id": "49bed86f66654299bd76420044d8b326",
       "version_major": 2,
       "version_minor": 0
      },
      "text/plain": [
       "Validation: 0it [00:00, ?it/s]"
      ]
     },
     "metadata": {},
     "output_type": "display_data"
    },
    {
     "data": {
      "application/vnd.jupyter.widget-view+json": {
       "model_id": "ebece709ef024e27a27295d0f908544f",
       "version_major": 2,
       "version_minor": 0
      },
      "text/plain": [
       "Validation: 0it [00:00, ?it/s]"
      ]
     },
     "metadata": {},
     "output_type": "display_data"
    },
    {
     "data": {
      "application/vnd.jupyter.widget-view+json": {
       "model_id": "344144c689f34438b57311801d98fb98",
       "version_major": 2,
       "version_minor": 0
      },
      "text/plain": [
       "Validation: 0it [00:00, ?it/s]"
      ]
     },
     "metadata": {},
     "output_type": "display_data"
    },
    {
     "data": {
      "application/vnd.jupyter.widget-view+json": {
       "model_id": "9dd2d58837144ae1be11777c4b562e32",
       "version_major": 2,
       "version_minor": 0
      },
      "text/plain": [
       "Validation: 0it [00:00, ?it/s]"
      ]
     },
     "metadata": {},
     "output_type": "display_data"
    },
    {
     "data": {
      "application/vnd.jupyter.widget-view+json": {
       "model_id": "90e8ac96da8d4a6a819d5f0636ca3e39",
       "version_major": 2,
       "version_minor": 0
      },
      "text/plain": [
       "Validation: 0it [00:00, ?it/s]"
      ]
     },
     "metadata": {},
     "output_type": "display_data"
    },
    {
     "data": {
      "application/vnd.jupyter.widget-view+json": {
       "model_id": "4f592390fdb749c9b75f47fa87616159",
       "version_major": 2,
       "version_minor": 0
      },
      "text/plain": [
       "Validation: 0it [00:00, ?it/s]"
      ]
     },
     "metadata": {},
     "output_type": "display_data"
    },
    {
     "data": {
      "application/vnd.jupyter.widget-view+json": {
       "model_id": "1a84a73ee91b4a5ba5e42bb849776e25",
       "version_major": 2,
       "version_minor": 0
      },
      "text/plain": [
       "Validation: 0it [00:00, ?it/s]"
      ]
     },
     "metadata": {},
     "output_type": "display_data"
    },
    {
     "data": {
      "application/vnd.jupyter.widget-view+json": {
       "model_id": "b2e2da4496394206bee08cd9e8892400",
       "version_major": 2,
       "version_minor": 0
      },
      "text/plain": [
       "Validation: 0it [00:00, ?it/s]"
      ]
     },
     "metadata": {},
     "output_type": "display_data"
    },
    {
     "data": {
      "application/vnd.jupyter.widget-view+json": {
       "model_id": "6734b7d097f54aeaaba69d3b30efa445",
       "version_major": 2,
       "version_minor": 0
      },
      "text/plain": [
       "Validation: 0it [00:00, ?it/s]"
      ]
     },
     "metadata": {},
     "output_type": "display_data"
    },
    {
     "name": "stderr",
     "output_type": "stream",
     "text": [
      "`Trainer.fit` stopped: `max_epochs=75` reached.\n"
     ]
    },
    {
     "name": "stdout",
     "output_type": "stream",
     "text": [
      "Best train acc: 0.9738578796386719, Epoch: 56\n"
     ]
    }
   ],
   "source": [
    "net = train_model(net, epochs, learning_rate, seed, train_dl, test_dl, results_dir, accelerator, wandb_logger)"
   ]
  },
  {
   "attachments": {},
   "cell_type": "markdown",
   "metadata": {},
   "source": [
    "### Testing the model and saving the outputs"
   ]
  },
  {
   "cell_type": "code",
   "execution_count": null,
   "metadata": {},
   "outputs": [],
   "source": [
    "# Testing the model \n",
    "c_preds_total = torch.empty(0, train_dl.dataset[0][1].shape[-1])\n",
    "c_total = torch.empty(0, train_dl.dataset[0][1].shape[-1])\n",
    "y_preds_total = torch.empty(0, train_dl.dataset[0][-1].shape[-1])\n",
    "y_total = torch.empty(0, train_dl.dataset[0][-1].shape[-1])\n",
    "y_cf_total = torch.empty(0, train_dl.dataset[0][-1].shape[-1])\n",
    "y_cf_target_total = torch.empty(0, train_dl.dataset[0][-1].shape[-1])\n",
    "c_cf_total = torch.empty(0, train_dl.dataset[0][1].shape[-1])\n",
    "z2_total = torch.empty(0, net.emb_size)\n",
    "z3_total = torch.empty(0, net.emb_size)\n",
    "\n",
    "for X_test, c_test, y_test in test_dl:\n",
    "    y_prime = randomize_class(y_test, include=False)\n",
    "    if y_test.shape[-1] == 1:\n",
    "        y_prime = None\n",
    "    (c_preds, y_preds, explanations,\n",
    "    c_cf, y_cf, y_cf_target, explanation_cf, \n",
    "    p_z2, qz2_x, pz3_z2_c_y, qz3_z2_c_y_y_prime,\n",
    "    pcprime_z3, py_c, py_c_cf, pc_z2, c_cf_true, weights, z2, z3, c_pred_d) = net.forward(X_test, test=True, y_prime=y_prime, explain=True, include=False, inference=True)\n",
    "\n",
    "    c_preds_total = torch.cat((c_preds_total, c_preds), dim=0)\n",
    "    c_total = torch.cat((c_total, c_test), dim=0)\n",
    "    y_preds_total = torch.cat((y_preds_total, y_preds), dim=0)\n",
    "    y_total = torch.cat((y_total, y_test), dim=0)\n",
    "    y_cf_total = torch.cat((y_cf_total, y_cf), dim=0)\n",
    "    y_cf_target_total = torch.cat((y_cf_target_total, y_cf_target), dim=0)\n",
    "    c_cf_total = torch.cat((c_cf_total, c_cf), dim=0)\n",
    "    z2_total = torch.cat((z2_total, z2), dim=0)\n",
    "    z3_total = torch.cat((z3_total, z3), dim=0)\n"
   ]
  },
  {
   "attachments": {},
   "cell_type": "markdown",
   "metadata": {},
   "source": [
    "### Computing metrics"
   ]
  },
  {
   "cell_type": "code",
   "execution_count": null,
   "metadata": {},
   "outputs": [
    {
     "name": "stdout",
     "output_type": "stream",
     "text": [
      "ROC AUC Concept Accuracy (%):  97.85359784937881\n",
      "Entire Concept Accuracy (%):  79.00390625\n",
      "ROC AUC Task Accuracy (%):  99.35452363881126\n",
      "Validity (%):  100.0\n",
      "Variability:  0.5714285714285714\n",
      "IOU (%):  56.00000000000001\n",
      "Proximity (%):  0.9835379464285714\n",
      "Delta Sparsity (%):  4.338727678571429\n",
      "CF Time:  0.0291440486907959\n"
     ]
    }
   ],
   "source": [
    "# Compute metrics\n",
    "concept_accuracy = roc_auc_score(c_total.cpu(), c_preds_total.detach().cpu())\n",
    "print('ROC AUC Concept Accuracy (%): ', concept_accuracy*100)\n",
    "concept_acc = (c_preds_total > 0.5).float().eq(c_total).float().all(dim=-1).float().mean().item()\n",
    "print('Entire Concept Accuracy (%): ', concept_acc*100)\n",
    "task_accuracy = roc_auc_score(y_total.cpu(), y_preds_total.detach().cpu())\n",
    "print('ROC AUC Task Accuracy (%): ', task_accuracy*100)\n",
    "task_cf_accuracy = roc_auc_score(y_cf_target_total.squeeze().cpu(), y_cf_total.detach().cpu())\n",
    "print('Validity (%): ', task_cf_accuracy*100)\n",
    "cf_variability = variability(c_cf_total.cpu(), c_preds_total.cpu())\n",
    "print('Variability: ', cf_variability)\n",
    "cf_iou = intersection_over_union(c_cf_total.cpu(), c_total.cpu())\n",
    "print('IOU (%): ', cf_iou*100)\n",
    "mean_distance_train = distance_train(c_cf_total.cpu(), c_cf_set.cpu(), y_cf_total.detach().cpu(), concept_labels.cpu()).item() / c_cf_total.shape[-1]\n",
    "print('Proximity (%): ', mean_distance_train*100)\n",
    "\n",
    "pdist = torch.nn.PairwiseDistance(p=2)\n",
    "hamming_distance = torch.norm((c_preds_total>0.5).float().cpu() - (c_cf_total>0.5).float().cpu(), p=0, dim=-1).mean().item() \n",
    "oracle = Oracle()\n",
    "oracle_results, oracle = train_oracle(oracle, test_dl, c_cf_set, concept_labels, wandb_logger)\n",
    "oracle_sparsity = oracle_results['hamming_distance']\n",
    "delta_sparsity = abs(hamming_distance - oracle_sparsity) / c_cf_total.shape[-1]\n",
    "print('Delta Sparsity (%): ', delta_sparsity*100)\n",
    "\n",
    "cf_time_total, cf_found = net.counterfactual_times(test_dl, accelerator, rerun=False)\n",
    "print('CF Time: ', cf_time_total)"
   ]
  },
  {
   "cell_type": "code",
   "execution_count": null,
   "metadata": {},
   "outputs": [],
   "source": [
    "save_set_c_and_cf(c_preds_total, y_preds_total, y_cf_total, c_cf_total, model, fold, log_dir)"
   ]
  },
  {
   "attachments": {},
   "cell_type": "markdown",
   "metadata": {},
   "source": [
    "### Computing feature importance"
   ]
  },
  {
   "cell_type": "code",
   "execution_count": null,
   "metadata": {},
   "outputs": [
    {
     "name": "stderr",
     "output_type": "stream",
     "text": [
      "Matplotlib is currently using module://matplotlib_inline.backend_inline, which is a non-GUI backend, so cannot show the figure.\n"
     ]
    },
    {
     "data": {
      "image/png": "[encoded data removed]",
      "text/plain": [
       "<Figure size 800x430 with 2 Axes>"
      ]
     },
     "metadata": {},
     "output_type": "display_data"
    }
   ],
   "source": [
    "c_preds_total_train = torch.empty(0, train_dl.dataset[0][1].shape[-1])\n",
    "for X_train, c_train, y_train in train_dl:\n",
    "    \n",
    "    y_prime = randomize_class(y_test, include=False)\n",
    "    if y_train.shape[-1] == 1:\n",
    "        y_prime = None\n",
    "    (c_preds, y_preds, explanations,\n",
    "    c_cf, y_cf, y_cf_target, explanation_cf, \n",
    "    p_z2, qz2_x, pz3_z2_c_y, qz3_z2_c_y_y_prime,\n",
    "    pcprime_z3, py_c, py_c_cf, pc_z2, c_cf_true, weights, z2, z3, c_pred_d) = net.forward(X_train, test=True, y_prime=y_prime, explain=True, include=False, inference=True)\n",
    "\n",
    "    if not net.bool_concepts:\n",
    "        c_preds = torch.sigmoid(c_preds)\n",
    "\n",
    "    c_preds_total_train = torch.cat((c_preds_total_train, c_preds), dim=0)\n",
    "\n",
    "idx = CLASS_TO_VISUALISE[str(c_preds_total_train.shape[-1])]\n",
    "print_concept_importance(net, idx, c_preds_total_train, c_preds_total, show=True)"
   ]
  },
  {
   "attachments": {},
   "cell_type": "markdown",
   "metadata": {},
   "source": [
    "### Computing mesures sampling more than once"
   ]
  },
  {
   "cell_type": "code",
   "execution_count": null,
   "metadata": {},
   "outputs": [
    {
     "name": "stdout",
     "output_type": "stream",
     "text": [
      "--------------5 SAMPLES-----------------\n",
      "CF Time 5 samples:  0.05852007865905762\n",
      "Variability 5 samples:  1.3243243243243243\n",
      "IOU 5 samples (%):  65.38461538461539\n",
      "Proximity 5 samples (%):  1.4090401785714286\n",
      "Delta Sparsity 5 samples (%):  4.310825892857143\n",
      "--------------10 SAMPLES-----------------\n",
      "CF Time 10 samples:  0.0797576904296875\n",
      "Variability 10 samples:  1.3333333333333333\n",
      "IOU 10 samples (%):  58.490566037735846\n",
      "Proximity 10 samples (%):  1.3950892857142858\n",
      "Delta Sparsity 10 samples (%):  4.401506696428571\n",
      "--------------100 SAMPLES-----------------\n",
      "CF Time 100 samples:  0.543816328048706\n",
      "Variability 100 samples:  1.3714285714285714\n",
      "IOU 100 samples (%):  62.745098039215684\n",
      "Proximity 100 samples (%):  1.5904017857142856\n",
      "Delta Sparsity 100 samples (%):  4.408482142857143\n"
     ]
    }
   ],
   "source": [
    "n_times_list = [5, 10, 100]\n",
    "for n in n_times_list: \n",
    "    print(f'--------------{n} SAMPLES-----------------')\n",
    "    c_preds_total = torch.empty(0, train_dl.dataset[0][1].shape[-1])\n",
    "    c_total = torch.empty(0, train_dl.dataset[0][1].shape[-1])\n",
    "    y_preds_total = torch.empty(0, train_dl.dataset[0][-1].shape[-1])\n",
    "    y_total = torch.empty(0, train_dl.dataset[0][-1].shape[-1])\n",
    "    for X_test, c_test, y_test in test_dl:\n",
    "        y_prime = randomize_class(y_test, include=False)\n",
    "        (c_preds, y_preds, explanations,\n",
    "        c_cf, y_cf, y_cf_target, explanation_cf, \n",
    "        p_z2, qz2_x, pz3_z2_c_y, qz3_z2_c_y_y_prime,\n",
    "        pcprime_z3, py_c, py_c_cf, pc_z2, c_cf_true, weights, z2, z3, c_pred_d) = net.forward(X_test, test=True, y_prime=y_prime, explain=True, include=False, resample=n)\n",
    "\n",
    "        c_preds_total = torch.cat((c_preds_total, c_preds), dim=0)\n",
    "        c_total = torch.cat((c_total, c_test), dim=0)\n",
    "        y_preds_total = torch.cat((y_preds_total, y_preds), dim=0)\n",
    "        y_total = torch.cat((y_total, y_test), dim=0)\n",
    "\n",
    "    cf_time, cf_found, cf, c_preds_total, y_cf_total = net.counterfactual_times(test_dl, accelerator, rerun=False, n_times=n, return_cf=True)\n",
    "    print(f'CF Time {n} samples: ', cf_time)\n",
    "    \n",
    "    cf_variability = variability(cf.cpu(), c_preds_total.cpu())\n",
    "    print(f'Variability {n} samples: ', cf_variability)\n",
    "    cf_iou = intersection_over_union(cf.cpu(), c_preds_total.cpu())\n",
    "    print(f'IOU {n} samples (%): ', cf_iou*100)\n",
    "    mean_distance_train = distance_train(cf.cpu(), c_cf_set.cpu(), y_cf_total.detach().cpu(), concept_labels.cpu()).item() / cf.shape[-1]\n",
    "    print(f'Proximity {n} samples (%): ', mean_distance_train*100)\n",
    "    hamming_distance = torch.norm((c_preds_total>0.5).float().cpu() - (cf>0.5).float().cpu(), p=0, dim=-1).mean().item() \n",
    "    delta_sparsity = abs(hamming_distance - oracle_sparsity) / c_cf_total.shape[-1]\n",
    "    print(f'Delta Sparsity {n} samples (%): ', delta_sparsity*100)"
   ]
  },
  {
   "attachments": {},
   "cell_type": "markdown",
   "metadata": {},
   "source": [
    "### Computing metrics for task driven interventions"
   ]
  },
  {
   "cell_type": "code",
   "execution_count": null,
   "metadata": {},
   "outputs": [
    {
     "name": "stdout",
     "output_type": "stream",
     "text": [
      "--------------0.1 NOISE LEVEL-----------------\n",
      "ROC AUC Task Accuracy 0.1 noise level (%):  98.45068273239454\n",
      "ROC AUC Task Accuracy CF 0.1 noise level (%):  100.0\n",
      "Accuracy Intervention 0.1 noise level (%):  79.39453125\n",
      "Proximity Intervention 0.1 noise level (%):  0.32784598214285715\n",
      "--------------0.2 NOISE LEVEL-----------------\n",
      "ROC AUC Task Accuracy 0.2 noise level (%):  67.41483394068133\n",
      "ROC AUC Task Accuracy CF 0.2 noise level (%):  100.0\n",
      "Accuracy Intervention 0.2 noise level (%):  79.443359375\n",
      "Proximity Intervention 0.2 noise level (%):  0.4045758928571429\n",
      "--------------0.5 NOISE LEVEL-----------------\n",
      "ROC AUC Task Accuracy 0.5 noise level (%):  78.32774817337803\n",
      "ROC AUC Task Accuracy CF 0.5 noise level (%):  99.99468952004248\n",
      "Accuracy Intervention 0.5 noise level (%):  79.345703125\n",
      "Proximity Intervention 0.5 noise level (%):  0.34877232142857145\n",
      "--------------1.0 NOISE LEVEL-----------------\n",
      "ROC AUC Task Accuracy 1.0 noise level (%):  0.6957549475907374\n",
      "ROC AUC Task Accuracy CF 1.0 noise level (%):  99.9695664502503\n",
      "Accuracy Intervention 1.0 noise level (%):  78.759765625\n",
      "Proximity Intervention 1.0 noise level (%):  0.32784598214285715\n"
     ]
    }
   ],
   "source": [
    "p_list = [0.1, 0.2, 0.5, 1.0]\n",
    "for p in p_list:\n",
    "    print(f'--------------{p} NOISE LEVEL-----------------')\n",
    "    c_preds_total_noise = torch.empty(0, train_dl.dataset[0][1].shape[-1])\n",
    "    c_total = torch.empty(0, train_dl.dataset[0][1].shape[-1])\n",
    "    y_preds_total = torch.empty(0, train_dl.dataset[0][-1].shape[-1])\n",
    "    y_prime_total = torch.empty(0, train_dl.dataset[0][-1].shape[-1])\n",
    "    y_cf_total = torch.empty(0, train_dl.dataset[0][-1].shape[-1])\n",
    "    c_cf_total = torch.empty(0, train_dl.dataset[0][1].shape[-1])\n",
    "    for X_test, c_test, y_test in test_dl:\n",
    "        y_prime = y_test.clone()\n",
    "        y_cf_logits, c_cf, y_preds, c_preds = net.predict_counterfactuals(\n",
    "            X_test, y_prime=y_prime, resample=1, return_cf=True, auto_intervention=p, full=True\n",
    "        )\n",
    "\n",
    "        c_preds_total_noise = torch.cat((c_preds_total_noise, c_preds), dim=0)\n",
    "        c_total = torch.cat((c_total, c_test), dim=0)\n",
    "        y_preds_total = torch.cat((y_preds_total, y_preds), dim=0)\n",
    "        y_prime_total = torch.cat((y_prime_total, y_test), dim=0)\n",
    "        y_cf_total = torch.cat((y_cf_total, y_cf_logits), dim=0)\n",
    "        c_cf_total = torch.cat((c_cf_total, c_cf), dim=0)\n",
    "    \n",
    "    task_accuracy = roc_auc_score(y_prime_total.cpu(), y_preds_total.detach().cpu())\n",
    "    print(f'ROC AUC Task Accuracy {p} noise level (%): ', task_accuracy*100)\n",
    "    task_accuracy_cf = roc_auc_score(y_prime_total.cpu(), y_cf_total.detach().cpu())\n",
    "    print(f'ROC AUC Task Accuracy CF {p} noise level (%): ', task_accuracy_cf*100)\n",
    "    cf_concept_acc = (c_cf_total > 0.5).float().eq(c_total).float().all(dim=-1).float().mean().item()\n",
    "    print(f'Accuracy Intervention {p} noise level (%): ', cf_concept_acc*100)\n",
    "    mean_distance_train = distance_train(c_cf_total.cpu(), c_cf_set.cpu(), y_cf_total.detach().cpu(), concept_labels.cpu()).item() / c_cf_total.shape[-1]\n",
    "    print(f'Proximity Intervention {p} noise level (%): ', mean_distance_train*100)"
   ]
  },
  {
   "attachments": {},
   "cell_type": "markdown",
   "metadata": {},
   "source": [
    "# dSprites with high correlation between color and task"
   ]
  },
  {
   "attachments": {},
   "cell_type": "markdown",
   "metadata": {},
   "source": [
    "## Counterfactual CBM "
   ]
  },
  {
   "cell_type": "code",
   "execution_count": null,
   "metadata": {},
   "outputs": [],
   "source": [
    "# !python3 experiments/dsprites/save_embeddings_mod.py"
   ]
  },
  {
   "cell_type": "code",
   "execution_count": 4,
   "metadata": {},
   "outputs": [
    {
     "name": "stderr",
     "output_type": "stream",
     "text": [
      "Global seed set to 0\n"
     ]
    },
    {
     "data": {
      "text/plain": [
       "0"
      ]
     },
     "execution_count": 4,
     "metadata": {},
     "output_type": "execute_result"
    }
   ],
   "source": [
    "model = 'CFCBM'\n",
    "\n",
    "# Set seed\n",
    "seed_everything(seed, workers=True)"
   ]
  },
  {
   "attachments": {},
   "cell_type": "markdown",
   "metadata": {},
   "source": [
    "### Loading modified data"
   ]
  },
  {
   "cell_type": "code",
   "execution_count": 5,
   "metadata": {},
   "outputs": [],
   "source": [
    "# Load train data\n",
    "dataset_name = 'dsprites_mod'\n",
    "X, c, y = load_data(dataset_name)\n",
    "if len(y.shape) == 1:\n",
    "    y = y.unsqueeze(1)\n",
    "    # Unique [concepts, labels]\n",
    "    c_cf_set = torch.unique(torch.cat((c, y), dim=-1), dim=0)\n",
    "    concept_labels = c_cf_set[:, -1]\n",
    "    c_cf_set = c_cf_set[:, :-1]\n",
    "else:\n",
    "    c_cf_set = torch.unique(torch.cat((c, torch.argmax(y, dim=-1).unsqueeze(-1)), dim=-1), dim=0)\n",
    "    concept_labels = c_cf_set[:, -1]\n",
    "    c_cf_set = c_cf_set[:, :-1]\n",
    "    concept_labels = one_hot(concept_labels.long(), num_classes=y.shape[1]).float()\n",
    "\n",
    "# Load test data\n",
    "X_test, c_test, y_test = load_data(dataset_name, split='test')\n",
    "if len(y_test.shape) == 1:\n",
    "    y_test = y_test.unsqueeze(1)"
   ]
  },
  {
   "attachments": {},
   "cell_type": "markdown",
   "metadata": {},
   "source": [
    "### Creating directories for results"
   ]
  },
  {
   "cell_type": "code",
   "execution_count": 6,
   "metadata": {},
   "outputs": [],
   "source": [
    "# creates directory for results\n",
    "results_root_dir = f\"./results/\"\n",
    "os.makedirs(results_root_dir, exist_ok=True)\n",
    "results_dir = f\"./results/{dataset_name}/\"\n",
    "os.makedirs(results_dir, exist_ok=True)\n",
    "figures_dir = f\"./results/{dataset_name}/figures/\"\n",
    "os.makedirs(figures_dir, exist_ok=True)\n",
    "log_dir = f\"./results/{dataset_name}/logs/\"\n",
    "os.makedirs(log_dir, exist_ok=True) "
   ]
  },
  {
   "attachments": {},
   "cell_type": "markdown",
   "metadata": {},
   "source": [
    "### Setting up dataloader"
   ]
  },
  {
   "cell_type": "code",
   "execution_count": 7,
   "metadata": {},
   "outputs": [],
   "source": [
    "# Create DataLoader\n",
    "train_data = TensorDataset(X, c, y)\n",
    "train_dl = torch.utils.data.DataLoader(train_data, batch_sampler=torch.utils.data.BatchSampler(RandomSamplerClassBatch(y, batch_size=batch_size, replacement=False), batch_size=batch_size, drop_last=True), pin_memory=True)\n",
    "test_data = TensorDataset(X_test, c_test, y_test)\n",
    "test_dl = torch.utils.data.DataLoader(test_data, batch_sampler=torch.utils.data.BatchSampler(RandomSamplerClassBatch(y_test, batch_size=batch_size, replacement=False), batch_size=batch_size,  drop_last=True), pin_memory=True)"
   ]
  },
  {
   "attachments": {},
   "cell_type": "markdown",
   "metadata": {},
   "source": [
    "### Choosing and training the model"
   ]
  },
  {
   "cell_type": "code",
   "execution_count": 8,
   "metadata": {},
   "outputs": [
    {
     "name": "stderr",
     "output_type": "stream",
     "text": [
      "GPU available: True (mps), used: False\n",
      "TPU available: False, using: 0 TPU cores\n",
      "IPU available: False, using: 0 IPUs\n",
      "HPU available: False, using: 0 HPUs\n",
      "MPS available but not used. Set `accelerator` and `devices` using `Trainer(accelerator='mps', devices=1)`.\n",
      "`Trainer(limit_train_batches=1.0)` was configured so 100% of the batches per epoch will be used..\n",
      "`Trainer(limit_val_batches=1.0)` was configured so 100% of the batches will be used..\n",
      "Global seed set to 0\n"
     ]
    },
    {
     "name": "stdout",
     "output_type": "stream",
     "text": [
      "Running CounterfactualCBM_V3(\n",
      "  (cross_entropy): BCEWithLogitsLoss()\n",
      "  (bce): BCELoss()\n",
      "  (bce_log): BCEWithLogitsLoss()\n",
      "  (model): Sequential(\n",
      "    (0): Linear(in_features=512, out_features=128, bias=True)\n",
      "    (1): LeakyReLU(negative_slope=0.01)\n",
      "    (2): Linear(in_features=128, out_features=128, bias=True)\n",
      "    (3): LeakyReLU(negative_slope=0.01)\n",
      "    (4): Linear(in_features=128, out_features=1, bias=True)\n",
      "  )\n",
      "  (encoder): Sequential(\n",
      "    (0): Linear(in_features=512, out_features=128, bias=True)\n",
      "    (1): LeakyReLU(negative_slope=0.01)\n",
      "    (2): Linear(in_features=128, out_features=128, bias=True)\n",
      "    (3): LeakyReLU(negative_slope=0.01)\n",
      "  )\n",
      "  (relation_classifiers): Sequential(\n",
      "    (0): Linear(in_features=128, out_features=7, bias=True)\n",
      "  )\n",
      "  (reasoner): Sequential(\n",
      "    (0): Linear(in_features=7, out_features=1, bias=True)\n",
      "  )\n",
      "  (classification_loss): BCELoss()\n",
      "  (concept_mean_predictor): Sequential(\n",
      "    (0): Linear(in_features=128, out_features=128, bias=True)\n",
      "    (1): LeakyReLU(negative_slope=0.01)\n",
      "    (2): Linear(in_features=128, out_features=128, bias=True)\n",
      "  )\n",
      "  (concept_var_predictor): Sequential(\n",
      "    (0): Linear(in_features=128, out_features=128, bias=True)\n",
      "    (1): LeakyReLU(negative_slope=0.01)\n",
      "    (2): Linear(in_features=128, out_features=128, bias=True)\n",
      "  )\n",
      "  (concept_mean_z3_predictor): Sequential(\n",
      "    (0): Linear(in_features=136, out_features=128, bias=True)\n",
      "    (1): LeakyReLU(negative_slope=0.01)\n",
      "    (2): Linear(in_features=128, out_features=128, bias=True)\n",
      "  )\n",
      "  (concept_var_z3_predictor): Sequential(\n",
      "    (0): Linear(in_features=136, out_features=128, bias=True)\n",
      "    (1): LeakyReLU(negative_slope=0.01)\n",
      "    (2): Linear(in_features=128, out_features=128, bias=True)\n",
      "  )\n",
      "  (concept_mean_qz3_predictor): Sequential(\n",
      "    (0): Linear(in_features=137, out_features=128, bias=True)\n",
      "    (1): LeakyReLU(negative_slope=0.01)\n",
      "    (2): Linear(in_features=128, out_features=128, bias=True)\n",
      "  )\n",
      "  (concept_var_qz3_predictor): Sequential(\n",
      "    (0): Linear(in_features=137, out_features=128, bias=True)\n",
      "    (1): LeakyReLU(negative_slope=0.01)\n",
      "    (2): Linear(in_features=128, out_features=128, bias=True)\n",
      "  )\n",
      "  (concept_predictor): Sequential(\n",
      "    (0): Linear(in_features=128, out_features=128, bias=True)\n",
      "    (1): LeakyReLU(negative_slope=0.01)\n",
      "    (2): Linear(in_features=128, out_features=7, bias=True)\n",
      "  )\n",
      "), epochs=90, learning_rate=0.005\n"
     ]
    },
    {
     "name": "stderr",
     "output_type": "stream",
     "text": [
      "\n",
      "   | Name                       | Type              | Params\n",
      "------------------------------------------------------------------\n",
      "0  | cross_entropy              | BCEWithLogitsLoss | 0     \n",
      "1  | bce                        | BCELoss           | 0     \n",
      "2  | bce_log                    | BCEWithLogitsLoss | 0     \n",
      "3  | model                      | Sequential        | 82.3 K\n",
      "4  | encoder                    | Sequential        | 82.2 K\n",
      "5  | relation_classifiers       | Sequential        | 903   \n",
      "6  | reasoner                   | Sequential        | 8     \n",
      "7  | concept_mean_predictor     | Sequential        | 33.0 K\n",
      "8  | concept_var_predictor      | Sequential        | 33.0 K\n",
      "9  | concept_mean_z3_predictor  | Sequential        | 34.0 K\n",
      "10 | concept_var_z3_predictor   | Sequential        | 34.0 K\n",
      "11 | concept_mean_qz3_predictor | Sequential        | 34.2 K\n",
      "12 | concept_var_qz3_predictor  | Sequential        | 34.2 K\n",
      "13 | concept_predictor          | Sequential        | 17.4 K\n",
      "------------------------------------------------------------------\n",
      "385 K     Trainable params\n",
      "0         Non-trainable params\n",
      "385 K     Total params\n",
      "1.541     Total estimated model params size (MB)\n"
     ]
    },
    {
     "data": {
      "application/vnd.jupyter.widget-view+json": {
       "model_id": "20defe69e14546549a3d6c0a93ff2bd8",
       "version_major": 2,
       "version_minor": 0
      },
      "text/plain": [
       "Sanity Checking: 0it [00:00, ?it/s]"
      ]
     },
     "metadata": {},
     "output_type": "display_data"
    },
    {
     "name": "stderr",
     "output_type": "stream",
     "text": [
      "The dataloader, val_dataloader 0, does not have many workers which may be a bottleneck. Consider increasing the value of the `num_workers` argument` (try 8 which is the number of cpus on this machine) in the `DataLoader` init to improve performance.\n",
      "The dataloader, train_dataloader, does not have many workers which may be a bottleneck. Consider increasing the value of the `num_workers` argument` (try 8 which is the number of cpus on this machine) in the `DataLoader` init to improve performance.\n",
      "The number of training batches (7) is smaller than the logging interval Trainer(log_every_n_steps=50). Set a lower value for log_every_n_steps if you want to see logs for the training epoch.\n"
     ]
    },
    {
     "data": {
      "application/vnd.jupyter.widget-view+json": {
       "model_id": "244ea014c9224980afc1210c50e5272c",
       "version_major": 2,
       "version_minor": 0
      },
      "text/plain": [
       "Training: 0it [00:00, ?it/s]"
      ]
     },
     "metadata": {},
     "output_type": "display_data"
    },
    {
     "data": {
      "application/vnd.jupyter.widget-view+json": {
       "model_id": "c9c1268ca7e345dc920782bbfdeb6c26",
       "version_major": 2,
       "version_minor": 0
      },
      "text/plain": [
       "Validation: 0it [00:00, ?it/s]"
      ]
     },
     "metadata": {},
     "output_type": "display_data"
    },
    {
     "data": {
      "application/vnd.jupyter.widget-view+json": {
       "model_id": "b326b215d5a04d4e88e312878df0ec1d",
       "version_major": 2,
       "version_minor": 0
      },
      "text/plain": [
       "Validation: 0it [00:00, ?it/s]"
      ]
     },
     "metadata": {},
     "output_type": "display_data"
    },
    {
     "data": {
      "application/vnd.jupyter.widget-view+json": {
       "model_id": "149adeb90464407dbea530ffc245ef25",
       "version_major": 2,
       "version_minor": 0
      },
      "text/plain": [
       "Validation: 0it [00:00, ?it/s]"
      ]
     },
     "metadata": {},
     "output_type": "display_data"
    },
    {
     "data": {
      "application/vnd.jupyter.widget-view+json": {
       "model_id": "f406873ea7ad4492b96d8bf237138881",
       "version_major": 2,
       "version_minor": 0
      },
      "text/plain": [
       "Validation: 0it [00:00, ?it/s]"
      ]
     },
     "metadata": {},
     "output_type": "display_data"
    },
    {
     "data": {
      "application/vnd.jupyter.widget-view+json": {
       "model_id": "5cf7e9225db0484ea95a1e07ab7a94b2",
       "version_major": 2,
       "version_minor": 0
      },
      "text/plain": [
       "Validation: 0it [00:00, ?it/s]"
      ]
     },
     "metadata": {},
     "output_type": "display_data"
    },
    {
     "data": {
      "application/vnd.jupyter.widget-view+json": {
       "model_id": "0deb717ead8d406cb6d2454c3710be73",
       "version_major": 2,
       "version_minor": 0
      },
      "text/plain": [
       "Validation: 0it [00:00, ?it/s]"
      ]
     },
     "metadata": {},
     "output_type": "display_data"
    },
    {
     "data": {
      "application/vnd.jupyter.widget-view+json": {
       "model_id": "d7f2d7dac44d4ed28f26357b1871ea65",
       "version_major": 2,
       "version_minor": 0
      },
      "text/plain": [
       "Validation: 0it [00:00, ?it/s]"
      ]
     },
     "metadata": {},
     "output_type": "display_data"
    },
    {
     "data": {
      "application/vnd.jupyter.widget-view+json": {
       "model_id": "20c7df5fdf1143dda472fb5c52c0863f",
       "version_major": 2,
       "version_minor": 0
      },
      "text/plain": [
       "Validation: 0it [00:00, ?it/s]"
      ]
     },
     "metadata": {},
     "output_type": "display_data"
    },
    {
     "data": {
      "application/vnd.jupyter.widget-view+json": {
       "model_id": "941ab9a29dd54deab4b5f65c113cb498",
       "version_major": 2,
       "version_minor": 0
      },
      "text/plain": [
       "Validation: 0it [00:00, ?it/s]"
      ]
     },
     "metadata": {},
     "output_type": "display_data"
    },
    {
     "data": {
      "application/vnd.jupyter.widget-view+json": {
       "model_id": "3cb7d1cf220d4c6bbeb37a06688821ff",
       "version_major": 2,
       "version_minor": 0
      },
      "text/plain": [
       "Validation: 0it [00:00, ?it/s]"
      ]
     },
     "metadata": {},
     "output_type": "display_data"
    },
    {
     "data": {
      "application/vnd.jupyter.widget-view+json": {
       "model_id": "f20045f8088c49efb256324f5c2ff097",
       "version_major": 2,
       "version_minor": 0
      },
      "text/plain": [
       "Validation: 0it [00:00, ?it/s]"
      ]
     },
     "metadata": {},
     "output_type": "display_data"
    },
    {
     "data": {
      "application/vnd.jupyter.widget-view+json": {
       "model_id": "14824d0edc6a494ca75e1b0e41cc4daa",
       "version_major": 2,
       "version_minor": 0
      },
      "text/plain": [
       "Validation: 0it [00:00, ?it/s]"
      ]
     },
     "metadata": {},
     "output_type": "display_data"
    },
    {
     "data": {
      "application/vnd.jupyter.widget-view+json": {
       "model_id": "b02002b71a1142958b0d98e3dbfc0a2c",
       "version_major": 2,
       "version_minor": 0
      },
      "text/plain": [
       "Validation: 0it [00:00, ?it/s]"
      ]
     },
     "metadata": {},
     "output_type": "display_data"
    },
    {
     "data": {
      "application/vnd.jupyter.widget-view+json": {
       "model_id": "41ec870e80a743ba9728474daa72c7bc",
       "version_major": 2,
       "version_minor": 0
      },
      "text/plain": [
       "Validation: 0it [00:00, ?it/s]"
      ]
     },
     "metadata": {},
     "output_type": "display_data"
    },
    {
     "data": {
      "application/vnd.jupyter.widget-view+json": {
       "model_id": "0f0946cba56b4996b85df564419ca6ec",
       "version_major": 2,
       "version_minor": 0
      },
      "text/plain": [
       "Validation: 0it [00:00, ?it/s]"
      ]
     },
     "metadata": {},
     "output_type": "display_data"
    },
    {
     "data": {
      "application/vnd.jupyter.widget-view+json": {
       "model_id": "32e9d06242024ea0b4288fe331cf8d31",
       "version_major": 2,
       "version_minor": 0
      },
      "text/plain": [
       "Validation: 0it [00:00, ?it/s]"
      ]
     },
     "metadata": {},
     "output_type": "display_data"
    },
    {
     "data": {
      "application/vnd.jupyter.widget-view+json": {
       "model_id": "bb6db63dc0b143ecafa785749648cb77",
       "version_major": 2,
       "version_minor": 0
      },
      "text/plain": [
       "Validation: 0it [00:00, ?it/s]"
      ]
     },
     "metadata": {},
     "output_type": "display_data"
    },
    {
     "data": {
      "application/vnd.jupyter.widget-view+json": {
       "model_id": "47687bde1ca34b5a8ca06d4bee306c20",
       "version_major": 2,
       "version_minor": 0
      },
      "text/plain": [
       "Validation: 0it [00:00, ?it/s]"
      ]
     },
     "metadata": {},
     "output_type": "display_data"
    },
    {
     "data": {
      "application/vnd.jupyter.widget-view+json": {
       "model_id": "59aa5abfbe83424d85188a0854507772",
       "version_major": 2,
       "version_minor": 0
      },
      "text/plain": [
       "Validation: 0it [00:00, ?it/s]"
      ]
     },
     "metadata": {},
     "output_type": "display_data"
    },
    {
     "data": {
      "application/vnd.jupyter.widget-view+json": {
       "model_id": "21e5c7bc42a84d8591fc480c3735adf4",
       "version_major": 2,
       "version_minor": 0
      },
      "text/plain": [
       "Validation: 0it [00:00, ?it/s]"
      ]
     },
     "metadata": {},
     "output_type": "display_data"
    },
    {
     "data": {
      "application/vnd.jupyter.widget-view+json": {
       "model_id": "6cc9ae8990664238a78831aea9c30a98",
       "version_major": 2,
       "version_minor": 0
      },
      "text/plain": [
       "Validation: 0it [00:00, ?it/s]"
      ]
     },
     "metadata": {},
     "output_type": "display_data"
    },
    {
     "data": {
      "application/vnd.jupyter.widget-view+json": {
       "model_id": "b7eb0ea0fb394ccfb83473f636f5d5ec",
       "version_major": 2,
       "version_minor": 0
      },
      "text/plain": [
       "Validation: 0it [00:00, ?it/s]"
      ]
     },
     "metadata": {},
     "output_type": "display_data"
    },
    {
     "data": {
      "application/vnd.jupyter.widget-view+json": {
       "model_id": "426e45df289845d5b2d7d872f9f129a6",
       "version_major": 2,
       "version_minor": 0
      },
      "text/plain": [
       "Validation: 0it [00:00, ?it/s]"
      ]
     },
     "metadata": {},
     "output_type": "display_data"
    },
    {
     "data": {
      "application/vnd.jupyter.widget-view+json": {
       "model_id": "c38c82283ce94b70b86a1bded6388e53",
       "version_major": 2,
       "version_minor": 0
      },
      "text/plain": [
       "Validation: 0it [00:00, ?it/s]"
      ]
     },
     "metadata": {},
     "output_type": "display_data"
    },
    {
     "data": {
      "application/vnd.jupyter.widget-view+json": {
       "model_id": "6ab7e6fa38bc42bda552e8d810068a90",
       "version_major": 2,
       "version_minor": 0
      },
      "text/plain": [
       "Validation: 0it [00:00, ?it/s]"
      ]
     },
     "metadata": {},
     "output_type": "display_data"
    },
    {
     "data": {
      "application/vnd.jupyter.widget-view+json": {
       "model_id": "f49fa52b6d3d4ceda81eacc87e9ba76c",
       "version_major": 2,
       "version_minor": 0
      },
      "text/plain": [
       "Validation: 0it [00:00, ?it/s]"
      ]
     },
     "metadata": {},
     "output_type": "display_data"
    },
    {
     "data": {
      "application/vnd.jupyter.widget-view+json": {
       "model_id": "e33abd0900fb4d89944351e1687c5951",
       "version_major": 2,
       "version_minor": 0
      },
      "text/plain": [
       "Validation: 0it [00:00, ?it/s]"
      ]
     },
     "metadata": {},
     "output_type": "display_data"
    },
    {
     "data": {
      "application/vnd.jupyter.widget-view+json": {
       "model_id": "1e593b0a23a74c219cafe12613cfdb11",
       "version_major": 2,
       "version_minor": 0
      },
      "text/plain": [
       "Validation: 0it [00:00, ?it/s]"
      ]
     },
     "metadata": {},
     "output_type": "display_data"
    },
    {
     "data": {
      "application/vnd.jupyter.widget-view+json": {
       "model_id": "75b07e29ec3447078ba79586e1139449",
       "version_major": 2,
       "version_minor": 0
      },
      "text/plain": [
       "Validation: 0it [00:00, ?it/s]"
      ]
     },
     "metadata": {},
     "output_type": "display_data"
    },
    {
     "data": {
      "application/vnd.jupyter.widget-view+json": {
       "model_id": "bc7f0f4cad1144a5a00fcfec17e0de96",
       "version_major": 2,
       "version_minor": 0
      },
      "text/plain": [
       "Validation: 0it [00:00, ?it/s]"
      ]
     },
     "metadata": {},
     "output_type": "display_data"
    },
    {
     "data": {
      "application/vnd.jupyter.widget-view+json": {
       "model_id": "0cbcfbd144834537a2c8b89191f97589",
       "version_major": 2,
       "version_minor": 0
      },
      "text/plain": [
       "Validation: 0it [00:00, ?it/s]"
      ]
     },
     "metadata": {},
     "output_type": "display_data"
    },
    {
     "data": {
      "application/vnd.jupyter.widget-view+json": {
       "model_id": "7f65f1d34c71428db85758f78d96deb7",
       "version_major": 2,
       "version_minor": 0
      },
      "text/plain": [
       "Validation: 0it [00:00, ?it/s]"
      ]
     },
     "metadata": {},
     "output_type": "display_data"
    },
    {
     "data": {
      "application/vnd.jupyter.widget-view+json": {
       "model_id": "e2f60f0b03fe477a942296a2ccbaf8cc",
       "version_major": 2,
       "version_minor": 0
      },
      "text/plain": [
       "Validation: 0it [00:00, ?it/s]"
      ]
     },
     "metadata": {},
     "output_type": "display_data"
    },
    {
     "data": {
      "application/vnd.jupyter.widget-view+json": {
       "model_id": "85f9ef214d244bc2b3e803bed4856cdf",
       "version_major": 2,
       "version_minor": 0
      },
      "text/plain": [
       "Validation: 0it [00:00, ?it/s]"
      ]
     },
     "metadata": {},
     "output_type": "display_data"
    },
    {
     "data": {
      "application/vnd.jupyter.widget-view+json": {
       "model_id": "ba72d611b8924cb99e315886875be2b9",
       "version_major": 2,
       "version_minor": 0
      },
      "text/plain": [
       "Validation: 0it [00:00, ?it/s]"
      ]
     },
     "metadata": {},
     "output_type": "display_data"
    },
    {
     "data": {
      "application/vnd.jupyter.widget-view+json": {
       "model_id": "f0e513e03fbe4363b539b8e607c3d5f3",
       "version_major": 2,
       "version_minor": 0
      },
      "text/plain": [
       "Validation: 0it [00:00, ?it/s]"
      ]
     },
     "metadata": {},
     "output_type": "display_data"
    },
    {
     "data": {
      "application/vnd.jupyter.widget-view+json": {
       "model_id": "c1361108a6fd4d859539a82f7b63754f",
       "version_major": 2,
       "version_minor": 0
      },
      "text/plain": [
       "Validation: 0it [00:00, ?it/s]"
      ]
     },
     "metadata": {},
     "output_type": "display_data"
    },
    {
     "data": {
      "application/vnd.jupyter.widget-view+json": {
       "model_id": "01072a73bf4d43159c38504a073614a0",
       "version_major": 2,
       "version_minor": 0
      },
      "text/plain": [
       "Validation: 0it [00:00, ?it/s]"
      ]
     },
     "metadata": {},
     "output_type": "display_data"
    },
    {
     "data": {
      "application/vnd.jupyter.widget-view+json": {
       "model_id": "d696aa9485f14849869a96ddd50b2144",
       "version_major": 2,
       "version_minor": 0
      },
      "text/plain": [
       "Validation: 0it [00:00, ?it/s]"
      ]
     },
     "metadata": {},
     "output_type": "display_data"
    },
    {
     "data": {
      "application/vnd.jupyter.widget-view+json": {
       "model_id": "8d1c5d98decd47eeb42691c58295850d",
       "version_major": 2,
       "version_minor": 0
      },
      "text/plain": [
       "Validation: 0it [00:00, ?it/s]"
      ]
     },
     "metadata": {},
     "output_type": "display_data"
    },
    {
     "data": {
      "application/vnd.jupyter.widget-view+json": {
       "model_id": "3d46bbe781344020809e0a8c02f5826b",
       "version_major": 2,
       "version_minor": 0
      },
      "text/plain": [
       "Validation: 0it [00:00, ?it/s]"
      ]
     },
     "metadata": {},
     "output_type": "display_data"
    },
    {
     "data": {
      "application/vnd.jupyter.widget-view+json": {
       "model_id": "c758a69827d048c7bd282bad0efc0744",
       "version_major": 2,
       "version_minor": 0
      },
      "text/plain": [
       "Validation: 0it [00:00, ?it/s]"
      ]
     },
     "metadata": {},
     "output_type": "display_data"
    },
    {
     "data": {
      "application/vnd.jupyter.widget-view+json": {
       "model_id": "6efd50cd5d0448e4b2a974c18f852e20",
       "version_major": 2,
       "version_minor": 0
      },
      "text/plain": [
       "Validation: 0it [00:00, ?it/s]"
      ]
     },
     "metadata": {},
     "output_type": "display_data"
    },
    {
     "data": {
      "application/vnd.jupyter.widget-view+json": {
       "model_id": "dd5b6834de0c4881803e796f4b709b0f",
       "version_major": 2,
       "version_minor": 0
      },
      "text/plain": [
       "Validation: 0it [00:00, ?it/s]"
      ]
     },
     "metadata": {},
     "output_type": "display_data"
    },
    {
     "data": {
      "application/vnd.jupyter.widget-view+json": {
       "model_id": "1e4b4ffb9d4c4ce8ba05a80f982dadf3",
       "version_major": 2,
       "version_minor": 0
      },
      "text/plain": [
       "Validation: 0it [00:00, ?it/s]"
      ]
     },
     "metadata": {},
     "output_type": "display_data"
    },
    {
     "data": {
      "application/vnd.jupyter.widget-view+json": {
       "model_id": "df939c7a336443e2ba0ba73ec1eb4014",
       "version_major": 2,
       "version_minor": 0
      },
      "text/plain": [
       "Validation: 0it [00:00, ?it/s]"
      ]
     },
     "metadata": {},
     "output_type": "display_data"
    },
    {
     "data": {
      "application/vnd.jupyter.widget-view+json": {
       "model_id": "88110eff398b4402ae5a0a4476139511",
       "version_major": 2,
       "version_minor": 0
      },
      "text/plain": [
       "Validation: 0it [00:00, ?it/s]"
      ]
     },
     "metadata": {},
     "output_type": "display_data"
    },
    {
     "data": {
      "application/vnd.jupyter.widget-view+json": {
       "model_id": "83698d032f6c49dfa600e52ccfb7b707",
       "version_major": 2,
       "version_minor": 0
      },
      "text/plain": [
       "Validation: 0it [00:00, ?it/s]"
      ]
     },
     "metadata": {},
     "output_type": "display_data"
    },
    {
     "data": {
      "application/vnd.jupyter.widget-view+json": {
       "model_id": "f92e216ea7004909aef5afc084f60d50",
       "version_major": 2,
       "version_minor": 0
      },
      "text/plain": [
       "Validation: 0it [00:00, ?it/s]"
      ]
     },
     "metadata": {},
     "output_type": "display_data"
    },
    {
     "data": {
      "application/vnd.jupyter.widget-view+json": {
       "model_id": "8682a64f9d4a47f3b8b1baee65b770d5",
       "version_major": 2,
       "version_minor": 0
      },
      "text/plain": [
       "Validation: 0it [00:00, ?it/s]"
      ]
     },
     "metadata": {},
     "output_type": "display_data"
    },
    {
     "data": {
      "application/vnd.jupyter.widget-view+json": {
       "model_id": "0b3b8bbdda644b08af72f8023ad46727",
       "version_major": 2,
       "version_minor": 0
      },
      "text/plain": [
       "Validation: 0it [00:00, ?it/s]"
      ]
     },
     "metadata": {},
     "output_type": "display_data"
    },
    {
     "data": {
      "application/vnd.jupyter.widget-view+json": {
       "model_id": "9fccc8cf616c47dda961bd63227b6018",
       "version_major": 2,
       "version_minor": 0
      },
      "text/plain": [
       "Validation: 0it [00:00, ?it/s]"
      ]
     },
     "metadata": {},
     "output_type": "display_data"
    },
    {
     "data": {
      "application/vnd.jupyter.widget-view+json": {
       "model_id": "4bf408a96717434084e835ad7fec16e5",
       "version_major": 2,
       "version_minor": 0
      },
      "text/plain": [
       "Validation: 0it [00:00, ?it/s]"
      ]
     },
     "metadata": {},
     "output_type": "display_data"
    },
    {
     "data": {
      "application/vnd.jupyter.widget-view+json": {
       "model_id": "29f433a376df48b884e3acb8327aec65",
       "version_major": 2,
       "version_minor": 0
      },
      "text/plain": [
       "Validation: 0it [00:00, ?it/s]"
      ]
     },
     "metadata": {},
     "output_type": "display_data"
    },
    {
     "data": {
      "application/vnd.jupyter.widget-view+json": {
       "model_id": "2e64778d597b40e3ac989007c8ab64e8",
       "version_major": 2,
       "version_minor": 0
      },
      "text/plain": [
       "Validation: 0it [00:00, ?it/s]"
      ]
     },
     "metadata": {},
     "output_type": "display_data"
    },
    {
     "data": {
      "application/vnd.jupyter.widget-view+json": {
       "model_id": "035fefef8ee248098aa8b3a1692fb304",
       "version_major": 2,
       "version_minor": 0
      },
      "text/plain": [
       "Validation: 0it [00:00, ?it/s]"
      ]
     },
     "metadata": {},
     "output_type": "display_data"
    },
    {
     "data": {
      "application/vnd.jupyter.widget-view+json": {
       "model_id": "4fb51506b49c43118c020f6663c477ef",
       "version_major": 2,
       "version_minor": 0
      },
      "text/plain": [
       "Validation: 0it [00:00, ?it/s]"
      ]
     },
     "metadata": {},
     "output_type": "display_data"
    },
    {
     "data": {
      "application/vnd.jupyter.widget-view+json": {
       "model_id": "54a1878ca7054432ad399be227712548",
       "version_major": 2,
       "version_minor": 0
      },
      "text/plain": [
       "Validation: 0it [00:00, ?it/s]"
      ]
     },
     "metadata": {},
     "output_type": "display_data"
    },
    {
     "data": {
      "application/vnd.jupyter.widget-view+json": {
       "model_id": "5277fe835181452b8e79b805c73763c0",
       "version_major": 2,
       "version_minor": 0
      },
      "text/plain": [
       "Validation: 0it [00:00, ?it/s]"
      ]
     },
     "metadata": {},
     "output_type": "display_data"
    },
    {
     "data": {
      "application/vnd.jupyter.widget-view+json": {
       "model_id": "63886053800c4731b9a6c3db3bcce862",
       "version_major": 2,
       "version_minor": 0
      },
      "text/plain": [
       "Validation: 0it [00:00, ?it/s]"
      ]
     },
     "metadata": {},
     "output_type": "display_data"
    },
    {
     "data": {
      "application/vnd.jupyter.widget-view+json": {
       "model_id": "5c1b99e6912d4565b9d6fa70db4484b2",
       "version_major": 2,
       "version_minor": 0
      },
      "text/plain": [
       "Validation: 0it [00:00, ?it/s]"
      ]
     },
     "metadata": {},
     "output_type": "display_data"
    },
    {
     "data": {
      "application/vnd.jupyter.widget-view+json": {
       "model_id": "3200c043229246ebbe866bf00adfe639",
       "version_major": 2,
       "version_minor": 0
      },
      "text/plain": [
       "Validation: 0it [00:00, ?it/s]"
      ]
     },
     "metadata": {},
     "output_type": "display_data"
    },
    {
     "data": {
      "application/vnd.jupyter.widget-view+json": {
       "model_id": "be81d01dae17401b8380a3760fa95f77",
       "version_major": 2,
       "version_minor": 0
      },
      "text/plain": [
       "Validation: 0it [00:00, ?it/s]"
      ]
     },
     "metadata": {},
     "output_type": "display_data"
    },
    {
     "data": {
      "application/vnd.jupyter.widget-view+json": {
       "model_id": "f66da00ddca74e26a8d873f8612a58f1",
       "version_major": 2,
       "version_minor": 0
      },
      "text/plain": [
       "Validation: 0it [00:00, ?it/s]"
      ]
     },
     "metadata": {},
     "output_type": "display_data"
    },
    {
     "data": {
      "application/vnd.jupyter.widget-view+json": {
       "model_id": "4a864c5db6ac46bb81d9bc6aaabec62d",
       "version_major": 2,
       "version_minor": 0
      },
      "text/plain": [
       "Validation: 0it [00:00, ?it/s]"
      ]
     },
     "metadata": {},
     "output_type": "display_data"
    },
    {
     "data": {
      "application/vnd.jupyter.widget-view+json": {
       "model_id": "35fbfd374eec433bad8d4f41239aa229",
       "version_major": 2,
       "version_minor": 0
      },
      "text/plain": [
       "Validation: 0it [00:00, ?it/s]"
      ]
     },
     "metadata": {},
     "output_type": "display_data"
    },
    {
     "data": {
      "application/vnd.jupyter.widget-view+json": {
       "model_id": "781783d364184a6f84a3768bcbcbc594",
       "version_major": 2,
       "version_minor": 0
      },
      "text/plain": [
       "Validation: 0it [00:00, ?it/s]"
      ]
     },
     "metadata": {},
     "output_type": "display_data"
    },
    {
     "data": {
      "application/vnd.jupyter.widget-view+json": {
       "model_id": "e422eec57e90434e9d8e43406bb3e778",
       "version_major": 2,
       "version_minor": 0
      },
      "text/plain": [
       "Validation: 0it [00:00, ?it/s]"
      ]
     },
     "metadata": {},
     "output_type": "display_data"
    },
    {
     "data": {
      "application/vnd.jupyter.widget-view+json": {
       "model_id": "22fee1ad67fe4370b383a7582653faaa",
       "version_major": 2,
       "version_minor": 0
      },
      "text/plain": [
       "Validation: 0it [00:00, ?it/s]"
      ]
     },
     "metadata": {},
     "output_type": "display_data"
    },
    {
     "data": {
      "application/vnd.jupyter.widget-view+json": {
       "model_id": "708939e1897a4de6b5c50c3116097d5b",
       "version_major": 2,
       "version_minor": 0
      },
      "text/plain": [
       "Validation: 0it [00:00, ?it/s]"
      ]
     },
     "metadata": {},
     "output_type": "display_data"
    },
    {
     "data": {
      "application/vnd.jupyter.widget-view+json": {
       "model_id": "c461c8aa722249b7a23f74e6acd7c34d",
       "version_major": 2,
       "version_minor": 0
      },
      "text/plain": [
       "Validation: 0it [00:00, ?it/s]"
      ]
     },
     "metadata": {},
     "output_type": "display_data"
    },
    {
     "data": {
      "application/vnd.jupyter.widget-view+json": {
       "model_id": "b849339f0066424cb66a6864e422aae2",
       "version_major": 2,
       "version_minor": 0
      },
      "text/plain": [
       "Validation: 0it [00:00, ?it/s]"
      ]
     },
     "metadata": {},
     "output_type": "display_data"
    },
    {
     "data": {
      "application/vnd.jupyter.widget-view+json": {
       "model_id": "668132b7954749df847160017b0a0757",
       "version_major": 2,
       "version_minor": 0
      },
      "text/plain": [
       "Validation: 0it [00:00, ?it/s]"
      ]
     },
     "metadata": {},
     "output_type": "display_data"
    },
    {
     "data": {
      "application/vnd.jupyter.widget-view+json": {
       "model_id": "dd46b568f051486eaf31cb179196d58b",
       "version_major": 2,
       "version_minor": 0
      },
      "text/plain": [
       "Validation: 0it [00:00, ?it/s]"
      ]
     },
     "metadata": {},
     "output_type": "display_data"
    },
    {
     "data": {
      "application/vnd.jupyter.widget-view+json": {
       "model_id": "dab216f54fff4378807d17bffb54c7fc",
       "version_major": 2,
       "version_minor": 0
      },
      "text/plain": [
       "Validation: 0it [00:00, ?it/s]"
      ]
     },
     "metadata": {},
     "output_type": "display_data"
    },
    {
     "data": {
      "application/vnd.jupyter.widget-view+json": {
       "model_id": "6b8f6bc229b541e8b35269003e9c30a3",
       "version_major": 2,
       "version_minor": 0
      },
      "text/plain": [
       "Validation: 0it [00:00, ?it/s]"
      ]
     },
     "metadata": {},
     "output_type": "display_data"
    },
    {
     "data": {
      "application/vnd.jupyter.widget-view+json": {
       "model_id": "b14f1f7b18cc48f9b909e893b8007bc8",
       "version_major": 2,
       "version_minor": 0
      },
      "text/plain": [
       "Validation: 0it [00:00, ?it/s]"
      ]
     },
     "metadata": {},
     "output_type": "display_data"
    },
    {
     "data": {
      "application/vnd.jupyter.widget-view+json": {
       "model_id": "4d1a3f0cface4b9aa7be0621a33058b6",
       "version_major": 2,
       "version_minor": 0
      },
      "text/plain": [
       "Validation: 0it [00:00, ?it/s]"
      ]
     },
     "metadata": {},
     "output_type": "display_data"
    },
    {
     "data": {
      "application/vnd.jupyter.widget-view+json": {
       "model_id": "9ce143f4fd11438cbfecd14537b38f13",
       "version_major": 2,
       "version_minor": 0
      },
      "text/plain": [
       "Validation: 0it [00:00, ?it/s]"
      ]
     },
     "metadata": {},
     "output_type": "display_data"
    },
    {
     "data": {
      "application/vnd.jupyter.widget-view+json": {
       "model_id": "2e160cdf8edd4d6aaf4efdb984a79bdf",
       "version_major": 2,
       "version_minor": 0
      },
      "text/plain": [
       "Validation: 0it [00:00, ?it/s]"
      ]
     },
     "metadata": {},
     "output_type": "display_data"
    },
    {
     "data": {
      "application/vnd.jupyter.widget-view+json": {
       "model_id": "92ac3291b3fb4ab48b3492dd6bc110d6",
       "version_major": 2,
       "version_minor": 0
      },
      "text/plain": [
       "Validation: 0it [00:00, ?it/s]"
      ]
     },
     "metadata": {},
     "output_type": "display_data"
    },
    {
     "data": {
      "application/vnd.jupyter.widget-view+json": {
       "model_id": "accb33cc35de4161868b066478789406",
       "version_major": 2,
       "version_minor": 0
      },
      "text/plain": [
       "Validation: 0it [00:00, ?it/s]"
      ]
     },
     "metadata": {},
     "output_type": "display_data"
    },
    {
     "data": {
      "application/vnd.jupyter.widget-view+json": {
       "model_id": "ccf4a88b55714548981b6ec44068d6e8",
       "version_major": 2,
       "version_minor": 0
      },
      "text/plain": [
       "Validation: 0it [00:00, ?it/s]"
      ]
     },
     "metadata": {},
     "output_type": "display_data"
    },
    {
     "data": {
      "application/vnd.jupyter.widget-view+json": {
       "model_id": "bd310e72b1344ce5bc0e868e4811800e",
       "version_major": 2,
       "version_minor": 0
      },
      "text/plain": [
       "Validation: 0it [00:00, ?it/s]"
      ]
     },
     "metadata": {},
     "output_type": "display_data"
    },
    {
     "data": {
      "application/vnd.jupyter.widget-view+json": {
       "model_id": "5abc698fbeef44c7bdc92a63c3c89f17",
       "version_major": 2,
       "version_minor": 0
      },
      "text/plain": [
       "Validation: 0it [00:00, ?it/s]"
      ]
     },
     "metadata": {},
     "output_type": "display_data"
    },
    {
     "data": {
      "application/vnd.jupyter.widget-view+json": {
       "model_id": "df14d65dc20547c488280922c2eb71c9",
       "version_major": 2,
       "version_minor": 0
      },
      "text/plain": [
       "Validation: 0it [00:00, ?it/s]"
      ]
     },
     "metadata": {},
     "output_type": "display_data"
    },
    {
     "data": {
      "application/vnd.jupyter.widget-view+json": {
       "model_id": "b1f628ae5c264eb19a68bf637d5e254e",
       "version_major": 2,
       "version_minor": 0
      },
      "text/plain": [
       "Validation: 0it [00:00, ?it/s]"
      ]
     },
     "metadata": {},
     "output_type": "display_data"
    },
    {
     "data": {
      "application/vnd.jupyter.widget-view+json": {
       "model_id": "ffcc74391816488fa2bf53cca7c3ab3a",
       "version_major": 2,
       "version_minor": 0
      },
      "text/plain": [
       "Validation: 0it [00:00, ?it/s]"
      ]
     },
     "metadata": {},
     "output_type": "display_data"
    },
    {
     "data": {
      "application/vnd.jupyter.widget-view+json": {
       "model_id": "0b882577e95f4f678ae4853d82741781",
       "version_major": 2,
       "version_minor": 0
      },
      "text/plain": [
       "Validation: 0it [00:00, ?it/s]"
      ]
     },
     "metadata": {},
     "output_type": "display_data"
    },
    {
     "data": {
      "application/vnd.jupyter.widget-view+json": {
       "model_id": "4f4aa226136142cba6f158b1b70ac5ee",
       "version_major": 2,
       "version_minor": 0
      },
      "text/plain": [
       "Validation: 0it [00:00, ?it/s]"
      ]
     },
     "metadata": {},
     "output_type": "display_data"
    },
    {
     "name": "stderr",
     "output_type": "stream",
     "text": [
      "`Trainer.fit` stopped: `max_epochs=90` reached.\n"
     ]
    },
    {
     "name": "stdout",
     "output_type": "stream",
     "text": [
      "Best train acc: 0.9216848611831665, Epoch: 88\n"
     ]
    }
   ],
   "source": [
    "# Define models\n",
    "models = {\n",
    "            'Oracle': Oracle(),\n",
    "            'DeepNN': StandardE2E(X.shape[1], y.shape[1], emb_size, learning_rate),\n",
    "            'StandardCBM': StandardCBM(X.shape[1], c.shape[1], y.shape[1], emb_size, learning_rate, bool_concepts=True, deep=False),\n",
    "            'CFCBM': CounterfactualCBM_V3(X.shape[1], c.shape[1], y.shape[1], emb_size, c_cf_set, concept_labels, learning_rate=learning_rate, resample=0, bernulli=False, deep=False, reconstruction=False),\n",
    "            'VAECF': (StandardCBM(X.shape[1], c.shape[1], y.shape[1], emb_size, learning_rate, bool_concepts=True, deep=True), \n",
    "                      VAE_CF(c.shape[1], y.shape[1], emb_size, None, learning_rate)),\n",
    "            'CCHVAE': (StandardCBM(X.shape[1], c.shape[1], y.shape[1], emb_size, learning_rate, bool_concepts=True, deep=True),\n",
    "                       CCHVAE(c.shape[1], y.shape[1], emb_size, None, learning_rate)),\n",
    "            'VCNET': ConceptVCNet(X.shape[1], c.shape[1], y.shape[1], emb_size, learning_rate, bool_concepts=True, deep=True),\n",
    "            'BayCon': StandardCBM(X.shape[1], c.shape[1], y.shape[1], emb_size, learning_rate, bool_concepts=True, deep=True),\n",
    "        }\n",
    "net = models[model]\n",
    "net = train_model(net, 90, learning_rate, seed, train_dl, test_dl, results_dir, accelerator, wandb_logger)"
   ]
  },
  {
   "attachments": {},
   "cell_type": "markdown",
   "metadata": {},
   "source": [
    "### Testing the model and saving the output"
   ]
  },
  {
   "cell_type": "code",
   "execution_count": 9,
   "metadata": {},
   "outputs": [],
   "source": [
    "# Testing the model \n",
    "c_preds_total = torch.empty(0, train_dl.dataset[0][1].shape[-1])\n",
    "c_total = torch.empty(0, train_dl.dataset[0][1].shape[-1])\n",
    "y_preds_total = torch.empty(0, train_dl.dataset[0][-1].shape[-1])\n",
    "y_total = torch.empty(0, train_dl.dataset[0][-1].shape[-1])\n",
    "y_cf_total = torch.empty(0, train_dl.dataset[0][-1].shape[-1])\n",
    "y_cf_target_total = torch.empty(0, train_dl.dataset[0][-1].shape[-1])\n",
    "c_cf_total = torch.empty(0, train_dl.dataset[0][1].shape[-1])\n",
    "z2_total = torch.empty(0, net.emb_size)\n",
    "z3_total = torch.empty(0, net.emb_size)\n",
    "\n",
    "for X_test, c_test, y_test in test_dl:\n",
    "    y_prime = randomize_class(y_test, include=False)\n",
    "    if y_test.shape[-1] == 1:\n",
    "        y_prime = None\n",
    "    (c_preds, y_preds, explanations,\n",
    "    c_cf, y_cf, y_cf_target, explanation_cf, \n",
    "    p_z2, qz2_x, pz3_z2_c_y, qz3_z2_c_y_y_prime,\n",
    "    pcprime_z3, py_c, py_c_cf, pc_z2, c_cf_true, weights, z2, z3, c_pred_d) = net.forward(X_test, test=True, y_prime=y_prime, explain=True, include=False, inference=True)\n",
    "\n",
    "    c_preds_total = torch.cat((c_preds_total, c_preds), dim=0)\n",
    "    c_total = torch.cat((c_total, c_test), dim=0)\n",
    "    y_preds_total = torch.cat((y_preds_total, y_preds), dim=0)\n",
    "    y_total = torch.cat((y_total, y_test), dim=0)\n",
    "    y_cf_total = torch.cat((y_cf_total, y_cf), dim=0)\n",
    "    y_cf_target_total = torch.cat((y_cf_target_total, y_cf_target), dim=0)\n",
    "    c_cf_total = torch.cat((c_cf_total, c_cf), dim=0)\n",
    "    z2_total = torch.cat((z2_total, z2), dim=0)\n",
    "    z3_total = torch.cat((z3_total, z3), dim=0)\n"
   ]
  },
  {
   "attachments": {},
   "cell_type": "markdown",
   "metadata": {},
   "source": [
    "### Computing common metrics"
   ]
  },
  {
   "cell_type": "code",
   "execution_count": 10,
   "metadata": {},
   "outputs": [
    {
     "name": "stdout",
     "output_type": "stream",
     "text": [
      "ROC AUC Concept Accuracy (%):  98.3177937914769\n",
      "Entire Concept Accuracy (%):  79.833984375\n",
      "ROC AUC Task Accuracy (%):  99.86408792240302\n",
      "Validity (%):  94.87202721838014\n",
      "Variability:  0.7916666666666666\n",
      "IOU (%):  48.275862068965516\n",
      "Proximity (%):  1.0672433035714286\n",
      "Delta Sparsity (%):  2.7553013392857144\n",
      "CF Time:  0.012737035751342773\n"
     ]
    }
   ],
   "source": [
    "# Compute metrics\n",
    "concept_accuracy = roc_auc_score(c_total.cpu(), c_preds_total.detach().cpu())\n",
    "print('ROC AUC Concept Accuracy (%): ', concept_accuracy*100)\n",
    "concept_acc = (c_preds_total > 0.5).float().eq(c_total).float().all(dim=-1).float().mean().item()\n",
    "print('Entire Concept Accuracy (%): ', concept_acc*100)\n",
    "task_accuracy = roc_auc_score(y_total.cpu(), y_preds_total.detach().cpu())\n",
    "print('ROC AUC Task Accuracy (%): ', task_accuracy*100)\n",
    "task_cf_accuracy = roc_auc_score(y_cf_target_total.squeeze().cpu(), y_cf_total.detach().cpu())\n",
    "print('Validity (%): ', task_cf_accuracy*100)\n",
    "cf_variability = variability(c_cf_total.cpu(), c_preds_total.cpu())\n",
    "print('Variability: ', cf_variability)\n",
    "cf_iou = intersection_over_union(c_cf_total.cpu(), c_total.cpu())\n",
    "print('IOU (%): ', cf_iou*100)\n",
    "mean_distance_train = distance_train(c_cf_total.cpu(), c_cf_set.cpu(), y_cf_total.detach().cpu(), concept_labels.cpu()).item() / c_cf_total.shape[-1]\n",
    "print('Proximity (%): ', mean_distance_train*100)\n",
    "\n",
    "pdist = torch.nn.PairwiseDistance(p=2)\n",
    "hamming_distance = torch.norm((c_preds_total>0.5).float().cpu() - (c_cf_total>0.5).float().cpu(), p=0, dim=-1).mean().item() \n",
    "oracle = Oracle()\n",
    "oracle_results, oracle = train_oracle(oracle, test_dl, c_cf_set, concept_labels, wandb_logger)\n",
    "oracle_sparsity = oracle_results['hamming_distance']\n",
    "delta_sparsity = abs(hamming_distance - oracle_sparsity) / c_cf_total.shape[-1]\n",
    "print('Delta Sparsity (%): ', delta_sparsity*100)\n",
    "\n",
    "cf_time_total, cf_found = net.counterfactual_times(test_dl, accelerator, rerun=False)\n",
    "print('CF Time: ', cf_time_total)"
   ]
  },
  {
   "cell_type": "code",
   "execution_count": 11,
   "metadata": {},
   "outputs": [],
   "source": [
    "save_set_c_and_cf(c_preds_total, y_preds_total, y_cf_total, c_cf_total, model, fold, log_dir)"
   ]
  },
  {
   "attachments": {},
   "cell_type": "markdown",
   "metadata": {},
   "source": [
    "### Computing concept importance"
   ]
  },
  {
   "cell_type": "code",
   "execution_count": 12,
   "metadata": {},
   "outputs": [
    {
     "name": "stderr",
     "output_type": "stream",
     "text": [
      "Matplotlib is currently using module://matplotlib_inline.backend_inline, which is a non-GUI backend, so cannot show the figure.\n"
     ]
    },
    {
     "data": {
      "image/png": "[encoded data removed]",
      "text/plain": [
       "<Figure size 800x430 with 2 Axes>"
      ]
     },
     "metadata": {},
     "output_type": "display_data"
    }
   ],
   "source": [
    "c_preds_total_train = torch.empty(0, train_dl.dataset[0][1].shape[-1])\n",
    "for X_train, c_train, y_train in train_dl:\n",
    "    \n",
    "    y_prime = randomize_class(y_test, include=False)\n",
    "    if y_train.shape[-1] == 1:\n",
    "        y_prime = None\n",
    "    (c_preds, y_preds, explanations,\n",
    "    c_cf, y_cf, y_cf_target, explanation_cf, \n",
    "    p_z2, qz2_x, pz3_z2_c_y, qz3_z2_c_y_y_prime,\n",
    "    pcprime_z3, py_c, py_c_cf, pc_z2, c_cf_true, weights, z2, z3, c_pred_d) = net.forward(X_train, test=True, y_prime=y_prime, explain=True, include=False, inference=True)\n",
    "\n",
    "    if not net.bool_concepts:\n",
    "        c_preds = torch.sigmoid(c_preds)\n",
    "\n",
    "    c_preds_total_train = torch.cat((c_preds_total_train, c_preds), dim=0)\n",
    "\n",
    "idx = CLASS_TO_VISUALISE[str(c_preds_total_train.shape[-1])]\n",
    "print_concept_importance(net, idx, c_preds_total_train, c_preds_total, show=True)"
   ]
  },
  {
   "cell_type": "code",
   "execution_count": 13,
   "metadata": {},
   "outputs": [
    {
     "name": "stdout",
     "output_type": "stream",
     "text": [
      "Flipped labels (%):  0.1953125\n"
     ]
    }
   ],
   "source": [
    "y_preds = net.reasoner(c_preds_total)\n",
    "\n",
    "identity = torch.Tensor([[0, 0, 1], [0, 0, 1], [1, 0, 0]])\n",
    "c_preds_total_int = c_preds_total.clone()\n",
    "c_preds_total_int[:, -3:] = identity[c_preds_total_int[:, -3:].argmax(dim=-1)]\n",
    "\n",
    "y_preds_int = net.reasoner(c_preds_total_int)\n",
    "tot = ((y_preds > 0) == (y_preds_int > 0)).float().sum().item()\n",
    "print('Flipped labels (%): ', (1 - tot/c_preds_total.shape[0])*100)"
   ]
  },
  {
   "attachments": {},
   "cell_type": "markdown",
   "metadata": {},
   "source": [
    "## Standard CBM "
   ]
  },
  {
   "attachments": {},
   "cell_type": "markdown",
   "metadata": {},
   "source": [
    "### Selecting the model "
   ]
  },
  {
   "cell_type": "code",
   "execution_count": 14,
   "metadata": {},
   "outputs": [
    {
     "name": "stderr",
     "output_type": "stream",
     "text": [
      "`pytorch_lightning.utilities.seed.seed_everything` has been deprecated in v1.8.0 and will be removed in v1.10.0. Please use `lightning_lite.utilities.seed.seed_everything` instead.\n",
      "Global seed set to 0\n"
     ]
    }
   ],
   "source": [
    "model = 'StandardCBM'\n",
    "seed_everything(seed, workers=True)\n",
    "net = models[model]"
   ]
  },
  {
   "attachments": {},
   "cell_type": "markdown",
   "metadata": {},
   "source": [
    "### Training the model "
   ]
  },
  {
   "cell_type": "code",
   "execution_count": 15,
   "metadata": {},
   "outputs": [
    {
     "name": "stderr",
     "output_type": "stream",
     "text": [
      "GPU available: True (mps), used: False\n",
      "TPU available: False, using: 0 TPU cores\n",
      "IPU available: False, using: 0 IPUs\n",
      "HPU available: False, using: 0 HPUs\n",
      "MPS available but not used. Set `accelerator` and `devices` using `Trainer(accelerator='mps', devices=1)`.\n",
      "`Trainer(limit_train_batches=1.0)` was configured so 100% of the batches per epoch will be used..\n",
      "`Trainer(limit_val_batches=1.0)` was configured so 100% of the batches will be used..\n"
     ]
    },
    {
     "name": "stderr",
     "output_type": "stream",
     "text": [
      "Global seed set to 0\n",
      "Checkpoint directory ./lightning_logs/boglad0j/checkpoints exists and is not empty.\n",
      "\n",
      "  | Name                 | Type              | Params\n",
      "-----------------------------------------------------------\n",
      "0 | cross_entropy        | BCEWithLogitsLoss | 0     \n",
      "1 | bce                  | BCELoss           | 0     \n",
      "2 | bce_log              | BCEWithLogitsLoss | 0     \n",
      "3 | model                | Sequential        | 82.3 K\n",
      "4 | encoder              | Sequential        | 82.2 K\n",
      "5 | relation_classifiers | Sequential        | 903   \n",
      "6 | reasoner             | Sequential        | 8     \n",
      "-----------------------------------------------------------\n",
      "165 K     Trainable params\n",
      "0         Non-trainable params\n",
      "165 K     Total params\n",
      "0.662     Total estimated model params size (MB)\n"
     ]
    },
    {
     "name": "stdout",
     "output_type": "stream",
     "text": [
      "Running StandardCBM(\n",
      "  (cross_entropy): BCEWithLogitsLoss()\n",
      "  (bce): BCELoss()\n",
      "  (bce_log): BCEWithLogitsLoss()\n",
      "  (model): Sequential(\n",
      "    (0): Linear(in_features=512, out_features=128, bias=True)\n",
      "    (1): LeakyReLU(negative_slope=0.01)\n",
      "    (2): Linear(in_features=128, out_features=128, bias=True)\n",
      "    (3): LeakyReLU(negative_slope=0.01)\n",
      "    (4): Linear(in_features=128, out_features=1, bias=True)\n",
      "  )\n",
      "  (encoder): Sequential(\n",
      "    (0): Linear(in_features=512, out_features=128, bias=True)\n",
      "    (1): LeakyReLU(negative_slope=0.01)\n",
      "    (2): Linear(in_features=128, out_features=128, bias=True)\n",
      "    (3): LeakyReLU(negative_slope=0.01)\n",
      "  )\n",
      "  (relation_classifiers): Sequential(\n",
      "    (0): Linear(in_features=128, out_features=7, bias=True)\n",
      "  )\n",
      "  (reasoner): Sequential(\n",
      "    (0): Linear(in_features=7, out_features=1, bias=True)\n",
      "  )\n",
      "  (classification_loss): BCELoss()\n",
      "), epochs=75, learning_rate=0.005\n"
     ]
    },
    {
     "data": {
      "application/vnd.jupyter.widget-view+json": {
       "model_id": "878fa39c285a4cb6a79736e7d3843c3b",
       "version_major": 2,
       "version_minor": 0
      },
      "text/plain": [
       "Sanity Checking: 0it [00:00, ?it/s]"
      ]
     },
     "metadata": {},
     "output_type": "display_data"
    },
    {
     "name": "stderr",
     "output_type": "stream",
     "text": [
      "The dataloader, val_dataloader 0, does not have many workers which may be a bottleneck. Consider increasing the value of the `num_workers` argument` (try 8 which is the number of cpus on this machine) in the `DataLoader` init to improve performance.\n",
      "The dataloader, train_dataloader, does not have many workers which may be a bottleneck. Consider increasing the value of the `num_workers` argument` (try 8 which is the number of cpus on this machine) in the `DataLoader` init to improve performance.\n",
      "The number of training batches (7) is smaller than the logging interval Trainer(log_every_n_steps=50). Set a lower value for log_every_n_steps if you want to see logs for the training epoch.\n"
     ]
    },
    {
     "data": {
      "application/vnd.jupyter.widget-view+json": {
       "model_id": "c27b8689177f4c7d912be3329173cd8d",
       "version_major": 2,
       "version_minor": 0
      },
      "text/plain": [
       "Training: 0it [00:00, ?it/s]"
      ]
     },
     "metadata": {},
     "output_type": "display_data"
    },
    {
     "data": {
      "application/vnd.jupyter.widget-view+json": {
       "model_id": "355a8bfb4d754232932ab8d5c22259fc",
       "version_major": 2,
       "version_minor": 0
      },
      "text/plain": [
       "Validation: 0it [00:00, ?it/s]"
      ]
     },
     "metadata": {},
     "output_type": "display_data"
    },
    {
     "data": {
      "application/vnd.jupyter.widget-view+json": {
       "model_id": "bfd0b3b31b3c4eb6939a132646f34cf8",
       "version_major": 2,
       "version_minor": 0
      },
      "text/plain": [
       "Validation: 0it [00:00, ?it/s]"
      ]
     },
     "metadata": {},
     "output_type": "display_data"
    },
    {
     "data": {
      "application/vnd.jupyter.widget-view+json": {
       "model_id": "b41ae948bb754e7bbc463245fd4f66a7",
       "version_major": 2,
       "version_minor": 0
      },
      "text/plain": [
       "Validation: 0it [00:00, ?it/s]"
      ]
     },
     "metadata": {},
     "output_type": "display_data"
    },
    {
     "data": {
      "application/vnd.jupyter.widget-view+json": {
       "model_id": "78e25e0d62f14bcb846a0c6a6bb59e74",
       "version_major": 2,
       "version_minor": 0
      },
      "text/plain": [
       "Validation: 0it [00:00, ?it/s]"
      ]
     },
     "metadata": {},
     "output_type": "display_data"
    },
    {
     "data": {
      "application/vnd.jupyter.widget-view+json": {
       "model_id": "f6a775b5103f4cd59d8045f49deaeb52",
       "version_major": 2,
       "version_minor": 0
      },
      "text/plain": [
       "Validation: 0it [00:00, ?it/s]"
      ]
     },
     "metadata": {},
     "output_type": "display_data"
    },
    {
     "data": {
      "application/vnd.jupyter.widget-view+json": {
       "model_id": "0a3ca2c47cdc48788da5e95e60c03dcd",
       "version_major": 2,
       "version_minor": 0
      },
      "text/plain": [
       "Validation: 0it [00:00, ?it/s]"
      ]
     },
     "metadata": {},
     "output_type": "display_data"
    },
    {
     "data": {
      "application/vnd.jupyter.widget-view+json": {
       "model_id": "490648f245494f3fa3b377640366b445",
       "version_major": 2,
       "version_minor": 0
      },
      "text/plain": [
       "Validation: 0it [00:00, ?it/s]"
      ]
     },
     "metadata": {},
     "output_type": "display_data"
    },
    {
     "data": {
      "application/vnd.jupyter.widget-view+json": {
       "model_id": "ca214e0fb96242c885cf293c270cfb5c",
       "version_major": 2,
       "version_minor": 0
      },
      "text/plain": [
       "Validation: 0it [00:00, ?it/s]"
      ]
     },
     "metadata": {},
     "output_type": "display_data"
    },
    {
     "data": {
      "application/vnd.jupyter.widget-view+json": {
       "model_id": "6794c9f5c60942fa90269500670b263c",
       "version_major": 2,
       "version_minor": 0
      },
      "text/plain": [
       "Validation: 0it [00:00, ?it/s]"
      ]
     },
     "metadata": {},
     "output_type": "display_data"
    },
    {
     "data": {
      "application/vnd.jupyter.widget-view+json": {
       "model_id": "72e617f263aa4ddb94cbc14f51bcf149",
       "version_major": 2,
       "version_minor": 0
      },
      "text/plain": [
       "Validation: 0it [00:00, ?it/s]"
      ]
     },
     "metadata": {},
     "output_type": "display_data"
    },
    {
     "data": {
      "application/vnd.jupyter.widget-view+json": {
       "model_id": "fe08665770914f5ca0bc55c67e931d77",
       "version_major": 2,
       "version_minor": 0
      },
      "text/plain": [
       "Validation: 0it [00:00, ?it/s]"
      ]
     },
     "metadata": {},
     "output_type": "display_data"
    },
    {
     "data": {
      "application/vnd.jupyter.widget-view+json": {
       "model_id": "74c40780a34e4a5898320cb3ac35e89a",
       "version_major": 2,
       "version_minor": 0
      },
      "text/plain": [
       "Validation: 0it [00:00, ?it/s]"
      ]
     },
     "metadata": {},
     "output_type": "display_data"
    },
    {
     "data": {
      "application/vnd.jupyter.widget-view+json": {
       "model_id": "961ce8dcc64d475bbc9dc6b0fbdb142f",
       "version_major": 2,
       "version_minor": 0
      },
      "text/plain": [
       "Validation: 0it [00:00, ?it/s]"
      ]
     },
     "metadata": {},
     "output_type": "display_data"
    },
    {
     "data": {
      "application/vnd.jupyter.widget-view+json": {
       "model_id": "cf8b854a5f8a475290dbd2afedfbd71a",
       "version_major": 2,
       "version_minor": 0
      },
      "text/plain": [
       "Validation: 0it [00:00, ?it/s]"
      ]
     },
     "metadata": {},
     "output_type": "display_data"
    },
    {
     "data": {
      "application/vnd.jupyter.widget-view+json": {
       "model_id": "7d496e52f0524c2095c02357c7aa5429",
       "version_major": 2,
       "version_minor": 0
      },
      "text/plain": [
       "Validation: 0it [00:00, ?it/s]"
      ]
     },
     "metadata": {},
     "output_type": "display_data"
    },
    {
     "data": {
      "application/vnd.jupyter.widget-view+json": {
       "model_id": "88441b77007a41b7a9327aef863d9468",
       "version_major": 2,
       "version_minor": 0
      },
      "text/plain": [
       "Validation: 0it [00:00, ?it/s]"
      ]
     },
     "metadata": {},
     "output_type": "display_data"
    },
    {
     "data": {
      "application/vnd.jupyter.widget-view+json": {
       "model_id": "bce8bb172e204e60b65a9e86d703ca69",
       "version_major": 2,
       "version_minor": 0
      },
      "text/plain": [
       "Validation: 0it [00:00, ?it/s]"
      ]
     },
     "metadata": {},
     "output_type": "display_data"
    },
    {
     "data": {
      "application/vnd.jupyter.widget-view+json": {
       "model_id": "84f9e4d673034d1f945faf1843d71de8",
       "version_major": 2,
       "version_minor": 0
      },
      "text/plain": [
       "Validation: 0it [00:00, ?it/s]"
      ]
     },
     "metadata": {},
     "output_type": "display_data"
    },
    {
     "data": {
      "application/vnd.jupyter.widget-view+json": {
       "model_id": "30066b0257ec46a29a3daafb21cfc1ab",
       "version_major": 2,
       "version_minor": 0
      },
      "text/plain": [
       "Validation: 0it [00:00, ?it/s]"
      ]
     },
     "metadata": {},
     "output_type": "display_data"
    },
    {
     "data": {
      "application/vnd.jupyter.widget-view+json": {
       "model_id": "7d745fd4741f476999ddfba74f7d3eea",
       "version_major": 2,
       "version_minor": 0
      },
      "text/plain": [
       "Validation: 0it [00:00, ?it/s]"
      ]
     },
     "metadata": {},
     "output_type": "display_data"
    },
    {
     "data": {
      "application/vnd.jupyter.widget-view+json": {
       "model_id": "2cc916511c644b7e85fe0dc04f6c3738",
       "version_major": 2,
       "version_minor": 0
      },
      "text/plain": [
       "Validation: 0it [00:00, ?it/s]"
      ]
     },
     "metadata": {},
     "output_type": "display_data"
    },
    {
     "data": {
      "application/vnd.jupyter.widget-view+json": {
       "model_id": "7ad2fa0431da4d81ac9175113d6abb80",
       "version_major": 2,
       "version_minor": 0
      },
      "text/plain": [
       "Validation: 0it [00:00, ?it/s]"
      ]
     },
     "metadata": {},
     "output_type": "display_data"
    },
    {
     "data": {
      "application/vnd.jupyter.widget-view+json": {
       "model_id": "ffec87f8649d4611828e9f0d7893206d",
       "version_major": 2,
       "version_minor": 0
      },
      "text/plain": [
       "Validation: 0it [00:00, ?it/s]"
      ]
     },
     "metadata": {},
     "output_type": "display_data"
    },
    {
     "data": {
      "application/vnd.jupyter.widget-view+json": {
       "model_id": "5e0005c798c343dab3ecbfcbdfbe0461",
       "version_major": 2,
       "version_minor": 0
      },
      "text/plain": [
       "Validation: 0it [00:00, ?it/s]"
      ]
     },
     "metadata": {},
     "output_type": "display_data"
    },
    {
     "data": {
      "application/vnd.jupyter.widget-view+json": {
       "model_id": "b23808077bdb456a9a44f40a14311377",
       "version_major": 2,
       "version_minor": 0
      },
      "text/plain": [
       "Validation: 0it [00:00, ?it/s]"
      ]
     },
     "metadata": {},
     "output_type": "display_data"
    },
    {
     "data": {
      "application/vnd.jupyter.widget-view+json": {
       "model_id": "ddc273e3bfe9459bb63f69f790fdb1c8",
       "version_major": 2,
       "version_minor": 0
      },
      "text/plain": [
       "Validation: 0it [00:00, ?it/s]"
      ]
     },
     "metadata": {},
     "output_type": "display_data"
    },
    {
     "data": {
      "application/vnd.jupyter.widget-view+json": {
       "model_id": "1229051a722b494e872fa2a535c4b3a8",
       "version_major": 2,
       "version_minor": 0
      },
      "text/plain": [
       "Validation: 0it [00:00, ?it/s]"
      ]
     },
     "metadata": {},
     "output_type": "display_data"
    },
    {
     "data": {
      "application/vnd.jupyter.widget-view+json": {
       "model_id": "9ee3d9bfba584a50910d27f685c4bea1",
       "version_major": 2,
       "version_minor": 0
      },
      "text/plain": [
       "Validation: 0it [00:00, ?it/s]"
      ]
     },
     "metadata": {},
     "output_type": "display_data"
    },
    {
     "data": {
      "application/vnd.jupyter.widget-view+json": {
       "model_id": "38762a43d9f64447a393f0073e92e45c",
       "version_major": 2,
       "version_minor": 0
      },
      "text/plain": [
       "Validation: 0it [00:00, ?it/s]"
      ]
     },
     "metadata": {},
     "output_type": "display_data"
    },
    {
     "data": {
      "application/vnd.jupyter.widget-view+json": {
       "model_id": "06d319aff84640649106f58f68fb4b4c",
       "version_major": 2,
       "version_minor": 0
      },
      "text/plain": [
       "Validation: 0it [00:00, ?it/s]"
      ]
     },
     "metadata": {},
     "output_type": "display_data"
    },
    {
     "data": {
      "application/vnd.jupyter.widget-view+json": {
       "model_id": "ae540e5f191e4d1e8d8d78a33bda128d",
       "version_major": 2,
       "version_minor": 0
      },
      "text/plain": [
       "Validation: 0it [00:00, ?it/s]"
      ]
     },
     "metadata": {},
     "output_type": "display_data"
    },
    {
     "data": {
      "application/vnd.jupyter.widget-view+json": {
       "model_id": "1095ebfbb4364875af9f5dc3f4e07f9a",
       "version_major": 2,
       "version_minor": 0
      },
      "text/plain": [
       "Validation: 0it [00:00, ?it/s]"
      ]
     },
     "metadata": {},
     "output_type": "display_data"
    },
    {
     "data": {
      "application/vnd.jupyter.widget-view+json": {
       "model_id": "4882797696004995ba483c3c98710785",
       "version_major": 2,
       "version_minor": 0
      },
      "text/plain": [
       "Validation: 0it [00:00, ?it/s]"
      ]
     },
     "metadata": {},
     "output_type": "display_data"
    },
    {
     "data": {
      "application/vnd.jupyter.widget-view+json": {
       "model_id": "2e6df7f9fccb4e8ba8d3778ced607250",
       "version_major": 2,
       "version_minor": 0
      },
      "text/plain": [
       "Validation: 0it [00:00, ?it/s]"
      ]
     },
     "metadata": {},
     "output_type": "display_data"
    },
    {
     "data": {
      "application/vnd.jupyter.widget-view+json": {
       "model_id": "3e47a516e86143a196b3b9bf3e8811f6",
       "version_major": 2,
       "version_minor": 0
      },
      "text/plain": [
       "Validation: 0it [00:00, ?it/s]"
      ]
     },
     "metadata": {},
     "output_type": "display_data"
    },
    {
     "data": {
      "application/vnd.jupyter.widget-view+json": {
       "model_id": "2d79fc9afec94be9b5baae11eb8f5dbb",
       "version_major": 2,
       "version_minor": 0
      },
      "text/plain": [
       "Validation: 0it [00:00, ?it/s]"
      ]
     },
     "metadata": {},
     "output_type": "display_data"
    },
    {
     "data": {
      "application/vnd.jupyter.widget-view+json": {
       "model_id": "be137c2ed2f34a3c8bf88eeda08fa73a",
       "version_major": 2,
       "version_minor": 0
      },
      "text/plain": [
       "Validation: 0it [00:00, ?it/s]"
      ]
     },
     "metadata": {},
     "output_type": "display_data"
    },
    {
     "data": {
      "application/vnd.jupyter.widget-view+json": {
       "model_id": "b9ae158cfabf4a8ebba07a7730ebc907",
       "version_major": 2,
       "version_minor": 0
      },
      "text/plain": [
       "Validation: 0it [00:00, ?it/s]"
      ]
     },
     "metadata": {},
     "output_type": "display_data"
    },
    {
     "data": {
      "application/vnd.jupyter.widget-view+json": {
       "model_id": "f782373c203f4ceb827695408bb6e96c",
       "version_major": 2,
       "version_minor": 0
      },
      "text/plain": [
       "Validation: 0it [00:00, ?it/s]"
      ]
     },
     "metadata": {},
     "output_type": "display_data"
    },
    {
     "data": {
      "application/vnd.jupyter.widget-view+json": {
       "model_id": "043c4a2a95d849d7947f15d4b351cf13",
       "version_major": 2,
       "version_minor": 0
      },
      "text/plain": [
       "Validation: 0it [00:00, ?it/s]"
      ]
     },
     "metadata": {},
     "output_type": "display_data"
    },
    {
     "data": {
      "application/vnd.jupyter.widget-view+json": {
       "model_id": "f7c4392a3c3d47a796819d2ad4f6cc1b",
       "version_major": 2,
       "version_minor": 0
      },
      "text/plain": [
       "Validation: 0it [00:00, ?it/s]"
      ]
     },
     "metadata": {},
     "output_type": "display_data"
    },
    {
     "data": {
      "application/vnd.jupyter.widget-view+json": {
       "model_id": "460d999205d847d9bb51c38756143124",
       "version_major": 2,
       "version_minor": 0
      },
      "text/plain": [
       "Validation: 0it [00:00, ?it/s]"
      ]
     },
     "metadata": {},
     "output_type": "display_data"
    },
    {
     "data": {
      "application/vnd.jupyter.widget-view+json": {
       "model_id": "110a343e77bb4162b6498d7fd3b790d8",
       "version_major": 2,
       "version_minor": 0
      },
      "text/plain": [
       "Validation: 0it [00:00, ?it/s]"
      ]
     },
     "metadata": {},
     "output_type": "display_data"
    },
    {
     "data": {
      "application/vnd.jupyter.widget-view+json": {
       "model_id": "061071edaff74374bf8c03b58722e856",
       "version_major": 2,
       "version_minor": 0
      },
      "text/plain": [
       "Validation: 0it [00:00, ?it/s]"
      ]
     },
     "metadata": {},
     "output_type": "display_data"
    },
    {
     "data": {
      "application/vnd.jupyter.widget-view+json": {
       "model_id": "775d2a154da147788290c12b4a35aa4f",
       "version_major": 2,
       "version_minor": 0
      },
      "text/plain": [
       "Validation: 0it [00:00, ?it/s]"
      ]
     },
     "metadata": {},
     "output_type": "display_data"
    },
    {
     "data": {
      "application/vnd.jupyter.widget-view+json": {
       "model_id": "da45a42c33794bb09ca3b1d3cc9e6016",
       "version_major": 2,
       "version_minor": 0
      },
      "text/plain": [
       "Validation: 0it [00:00, ?it/s]"
      ]
     },
     "metadata": {},
     "output_type": "display_data"
    },
    {
     "data": {
      "application/vnd.jupyter.widget-view+json": {
       "model_id": "35a71ee775c940f4a5da5c6be3058cfb",
       "version_major": 2,
       "version_minor": 0
      },
      "text/plain": [
       "Validation: 0it [00:00, ?it/s]"
      ]
     },
     "metadata": {},
     "output_type": "display_data"
    },
    {
     "data": {
      "application/vnd.jupyter.widget-view+json": {
       "model_id": "6ba751969ee546918b07e97ba3c51465",
       "version_major": 2,
       "version_minor": 0
      },
      "text/plain": [
       "Validation: 0it [00:00, ?it/s]"
      ]
     },
     "metadata": {},
     "output_type": "display_data"
    },
    {
     "data": {
      "application/vnd.jupyter.widget-view+json": {
       "model_id": "e79f2f8161444a46862559d90996dba2",
       "version_major": 2,
       "version_minor": 0
      },
      "text/plain": [
       "Validation: 0it [00:00, ?it/s]"
      ]
     },
     "metadata": {},
     "output_type": "display_data"
    },
    {
     "data": {
      "application/vnd.jupyter.widget-view+json": {
       "model_id": "7052ffe80d9549d5960b60a7409e3b8e",
       "version_major": 2,
       "version_minor": 0
      },
      "text/plain": [
       "Validation: 0it [00:00, ?it/s]"
      ]
     },
     "metadata": {},
     "output_type": "display_data"
    },
    {
     "data": {
      "application/vnd.jupyter.widget-view+json": {
       "model_id": "64f1674171004a23af7d77aed2942fa0",
       "version_major": 2,
       "version_minor": 0
      },
      "text/plain": [
       "Validation: 0it [00:00, ?it/s]"
      ]
     },
     "metadata": {},
     "output_type": "display_data"
    },
    {
     "data": {
      "application/vnd.jupyter.widget-view+json": {
       "model_id": "aa4107e885b04ec39cb608886c53628e",
       "version_major": 2,
       "version_minor": 0
      },
      "text/plain": [
       "Validation: 0it [00:00, ?it/s]"
      ]
     },
     "metadata": {},
     "output_type": "display_data"
    },
    {
     "data": {
      "application/vnd.jupyter.widget-view+json": {
       "model_id": "7615505dc1ce47db983ff873da28fcd2",
       "version_major": 2,
       "version_minor": 0
      },
      "text/plain": [
       "Validation: 0it [00:00, ?it/s]"
      ]
     },
     "metadata": {},
     "output_type": "display_data"
    },
    {
     "data": {
      "application/vnd.jupyter.widget-view+json": {
       "model_id": "993cbfd1ad1642a0baa9596db6b498db",
       "version_major": 2,
       "version_minor": 0
      },
      "text/plain": [
       "Validation: 0it [00:00, ?it/s]"
      ]
     },
     "metadata": {},
     "output_type": "display_data"
    },
    {
     "data": {
      "application/vnd.jupyter.widget-view+json": {
       "model_id": "fe53edc5a19348758dcfd5812752d932",
       "version_major": 2,
       "version_minor": 0
      },
      "text/plain": [
       "Validation: 0it [00:00, ?it/s]"
      ]
     },
     "metadata": {},
     "output_type": "display_data"
    },
    {
     "data": {
      "application/vnd.jupyter.widget-view+json": {
       "model_id": "bd5a5a71988341f79dd87ad53ba95907",
       "version_major": 2,
       "version_minor": 0
      },
      "text/plain": [
       "Validation: 0it [00:00, ?it/s]"
      ]
     },
     "metadata": {},
     "output_type": "display_data"
    },
    {
     "data": {
      "application/vnd.jupyter.widget-view+json": {
       "model_id": "efc3511820e94a059ebbeac51a70d957",
       "version_major": 2,
       "version_minor": 0
      },
      "text/plain": [
       "Validation: 0it [00:00, ?it/s]"
      ]
     },
     "metadata": {},
     "output_type": "display_data"
    },
    {
     "data": {
      "application/vnd.jupyter.widget-view+json": {
       "model_id": "4774f8c001af40158334e96d7fbd9c5c",
       "version_major": 2,
       "version_minor": 0
      },
      "text/plain": [
       "Validation: 0it [00:00, ?it/s]"
      ]
     },
     "metadata": {},
     "output_type": "display_data"
    },
    {
     "data": {
      "application/vnd.jupyter.widget-view+json": {
       "model_id": "f34eaf03f57b439590dab47c439aebbe",
       "version_major": 2,
       "version_minor": 0
      },
      "text/plain": [
       "Validation: 0it [00:00, ?it/s]"
      ]
     },
     "metadata": {},
     "output_type": "display_data"
    },
    {
     "data": {
      "application/vnd.jupyter.widget-view+json": {
       "model_id": "e471d1e691394c0aa664f1260348e841",
       "version_major": 2,
       "version_minor": 0
      },
      "text/plain": [
       "Validation: 0it [00:00, ?it/s]"
      ]
     },
     "metadata": {},
     "output_type": "display_data"
    },
    {
     "data": {
      "application/vnd.jupyter.widget-view+json": {
       "model_id": "c0fc3a12016b4a0c9a040910547f9ab4",
       "version_major": 2,
       "version_minor": 0
      },
      "text/plain": [
       "Validation: 0it [00:00, ?it/s]"
      ]
     },
     "metadata": {},
     "output_type": "display_data"
    },
    {
     "data": {
      "application/vnd.jupyter.widget-view+json": {
       "model_id": "9ff270838f1d4d8da86217c100836052",
       "version_major": 2,
       "version_minor": 0
      },
      "text/plain": [
       "Validation: 0it [00:00, ?it/s]"
      ]
     },
     "metadata": {},
     "output_type": "display_data"
    },
    {
     "data": {
      "application/vnd.jupyter.widget-view+json": {
       "model_id": "1872997fbbdd43b68a1c69869c8bcb47",
       "version_major": 2,
       "version_minor": 0
      },
      "text/plain": [
       "Validation: 0it [00:00, ?it/s]"
      ]
     },
     "metadata": {},
     "output_type": "display_data"
    },
    {
     "data": {
      "application/vnd.jupyter.widget-view+json": {
       "model_id": "1ab360ae24ca48659db7842eb22f51b3",
       "version_major": 2,
       "version_minor": 0
      },
      "text/plain": [
       "Validation: 0it [00:00, ?it/s]"
      ]
     },
     "metadata": {},
     "output_type": "display_data"
    },
    {
     "data": {
      "application/vnd.jupyter.widget-view+json": {
       "model_id": "762ad9aefdef4511a7c6909de93f116d",
       "version_major": 2,
       "version_minor": 0
      },
      "text/plain": [
       "Validation: 0it [00:00, ?it/s]"
      ]
     },
     "metadata": {},
     "output_type": "display_data"
    },
    {
     "data": {
      "application/vnd.jupyter.widget-view+json": {
       "model_id": "2a603269c1ea4600b0cb1f37960bac98",
       "version_major": 2,
       "version_minor": 0
      },
      "text/plain": [
       "Validation: 0it [00:00, ?it/s]"
      ]
     },
     "metadata": {},
     "output_type": "display_data"
    },
    {
     "data": {
      "application/vnd.jupyter.widget-view+json": {
       "model_id": "e9baa32d451448be88ac9553ca45a82a",
       "version_major": 2,
       "version_minor": 0
      },
      "text/plain": [
       "Validation: 0it [00:00, ?it/s]"
      ]
     },
     "metadata": {},
     "output_type": "display_data"
    },
    {
     "data": {
      "application/vnd.jupyter.widget-view+json": {
       "model_id": "2694612d585f441784d662435ba37944",
       "version_major": 2,
       "version_minor": 0
      },
      "text/plain": [
       "Validation: 0it [00:00, ?it/s]"
      ]
     },
     "metadata": {},
     "output_type": "display_data"
    },
    {
     "data": {
      "application/vnd.jupyter.widget-view+json": {
       "model_id": "2405e116e78447ca9d57d847948cd337",
       "version_major": 2,
       "version_minor": 0
      },
      "text/plain": [
       "Validation: 0it [00:00, ?it/s]"
      ]
     },
     "metadata": {},
     "output_type": "display_data"
    },
    {
     "data": {
      "application/vnd.jupyter.widget-view+json": {
       "model_id": "dd13586adacb4de7a52b9edbe1d48fff",
       "version_major": 2,
       "version_minor": 0
      },
      "text/plain": [
       "Validation: 0it [00:00, ?it/s]"
      ]
     },
     "metadata": {},
     "output_type": "display_data"
    },
    {
     "data": {
      "application/vnd.jupyter.widget-view+json": {
       "model_id": "749f6afb70064e23af8aa8cd9caa4f55",
       "version_major": 2,
       "version_minor": 0
      },
      "text/plain": [
       "Validation: 0it [00:00, ?it/s]"
      ]
     },
     "metadata": {},
     "output_type": "display_data"
    },
    {
     "data": {
      "application/vnd.jupyter.widget-view+json": {
       "model_id": "42f758f1389e48a5912e7d740125fa47",
       "version_major": 2,
       "version_minor": 0
      },
      "text/plain": [
       "Validation: 0it [00:00, ?it/s]"
      ]
     },
     "metadata": {},
     "output_type": "display_data"
    },
    {
     "data": {
      "application/vnd.jupyter.widget-view+json": {
       "model_id": "da4672f386794e7082e9f3643412158f",
       "version_major": 2,
       "version_minor": 0
      },
      "text/plain": [
       "Validation: 0it [00:00, ?it/s]"
      ]
     },
     "metadata": {},
     "output_type": "display_data"
    },
    {
     "data": {
      "application/vnd.jupyter.widget-view+json": {
       "model_id": "8f695787022a4cbfaab71b910c8a7ecf",
       "version_major": 2,
       "version_minor": 0
      },
      "text/plain": [
       "Validation: 0it [00:00, ?it/s]"
      ]
     },
     "metadata": {},
     "output_type": "display_data"
    },
    {
     "data": {
      "application/vnd.jupyter.widget-view+json": {
       "model_id": "08614a93e7654bed9ddfc9b4c2597c32",
       "version_major": 2,
       "version_minor": 0
      },
      "text/plain": [
       "Validation: 0it [00:00, ?it/s]"
      ]
     },
     "metadata": {},
     "output_type": "display_data"
    },
    {
     "name": "stderr",
     "output_type": "stream",
     "text": [
      "`Trainer.fit` stopped: `max_epochs=75` reached.\n"
     ]
    },
    {
     "name": "stdout",
     "output_type": "stream",
     "text": [
      "Best train acc: 0.989919585949183, Epoch: 27\n"
     ]
    }
   ],
   "source": [
    "net = train_model(net, epochs, learning_rate, seed, train_dl, test_dl, results_dir, accelerator, wandb_logger)"
   ]
  },
  {
   "attachments": {},
   "cell_type": "markdown",
   "metadata": {},
   "source": [
    "### Testing the model, saving the output and computing metrics"
   ]
  },
  {
   "cell_type": "code",
   "execution_count": 16,
   "metadata": {},
   "outputs": [],
   "source": [
    "y_preds_total = torch.empty(0, train_dl.dataset[0][-1].shape[-1])\n",
    "y_total = torch.empty(0, train_dl.dataset[0][-1].shape[-1])\n",
    "c_preds_total = torch.empty(0, train_dl.dataset[0][1].shape[-1])\n",
    "c_total = torch.empty(0, train_dl.dataset[0][1].shape[-1])\n",
    "\n",
    "for X_test, c_test, y_test in test_dl:\n",
    "\n",
    "    c_preds, y_preds, _ = net.forward(X_test)\n",
    "\n",
    "    if not net.bool_concepts:\n",
    "        c_preds = torch.sigmoid(c_preds)\n",
    "\n",
    "    c_preds_total = torch.cat((c_preds_total, c_preds), dim=0)\n",
    "    c_total = torch.cat((c_total, c_test), dim=0)\n",
    "    y_preds_total = torch.cat((y_preds_total, y_preds), dim=0)\n",
    "    y_total = torch.cat((y_total, y_test), dim=0)\n",
    "\n",
    "concept_accuracy = roc_auc_score(c_total.cpu(), c_preds_total.detach().cpu())\n",
    "concept_acc = (c_preds_total > 0.5).float().eq(c_total).float().all(dim=-1).float().mean()\n",
    "p_c = (c_preds_total > 0.5).float().eq(c_total).float().mean(dim=-1).float().mean()\n",
    "task_accuracy = roc_auc_score(y_total.cpu(), y_preds_total.detach().cpu())"
   ]
  },
  {
   "attachments": {},
   "cell_type": "markdown",
   "metadata": {},
   "source": [
    "### Computing concept importance"
   ]
  },
  {
   "cell_type": "code",
   "execution_count": 17,
   "metadata": {},
   "outputs": [
    {
     "name": "stderr",
     "output_type": "stream",
     "text": [
      "Matplotlib is currently using module://matplotlib_inline.backend_inline, which is a non-GUI backend, so cannot show the figure.\n"
     ]
    },
    {
     "data": {
      "image/png": "[encoded data removed]",
      "text/plain": [
       "<Figure size 800x430 with 2 Axes>"
      ]
     },
     "metadata": {},
     "output_type": "display_data"
    }
   ],
   "source": [
    "c_preds_total_train = torch.empty(0, train_dl.dataset[0][1].shape[-1])\n",
    "for X_train, c_train, y_train in train_dl:\n",
    "\n",
    "    c_preds, y_preds, _ = net.forward(X_train)\n",
    "\n",
    "    if not net.bool_concepts:\n",
    "        c_preds = torch.sigmoid(c_preds)\n",
    "\n",
    "    c_preds_total_train = torch.cat((c_preds_total_train, c_preds), dim=0)\n",
    "\n",
    "idx = CLASS_TO_VISUALISE[str(c_preds_total_train.shape[-1])]\n",
    "print_concept_importance(net, idx, c_preds_total_train, c_preds_total, show=True)"
   ]
  },
  {
   "attachments": {},
   "cell_type": "markdown",
   "metadata": {},
   "source": [
    "#### You can notice a greater importance given by this model to colors concepts compared to the Counterfactual CBM."
   ]
  },
  {
   "cell_type": "code",
   "execution_count": 18,
   "metadata": {},
   "outputs": [
    {
     "name": "stdout",
     "output_type": "stream",
     "text": [
      "Flipped labels (%):  16.50390625\n"
     ]
    }
   ],
   "source": [
    "y_preds = net.reasoner(c_preds_total)\n",
    "\n",
    "identity = torch.Tensor([[0, 0, 1], [0, 0, 1], [1, 0, 0]])\n",
    "c_preds_total_int = c_preds_total.clone()\n",
    "c_preds_total_int[:, -3:] = identity[c_preds_total_int[:, -3:].argmax(dim=-1)]\n",
    "\n",
    "y_preds_int = net.reasoner(c_preds_total_int)\n",
    "tot = ((y_preds > 0) == (y_preds_int > 0)).float().sum().item()\n",
    "print('Flipped labels (%): ', (1 - tot/c_preds_total.shape[0])*100)"
   ]
  },
  {
   "cell_type": "code",
   "execution_count": null,
   "metadata": {},
   "outputs": [],
   "source": []
  }
 ],
 "metadata": {
  "kernelspec": {
   "display_name": ".venv",
   "language": "python",
   "name": "python3"
  },
  "language_info": {
   "codemirror_mode": {
    "name": "ipython",
    "version": 3
   },
   "file_extension": ".py",
   "mimetype": "text/x-python",
   "name": "python",
   "nbconvert_exporter": "python",
   "pygments_lexer": "ipython3",
   "version": "3.9.6"
  },
  "orig_nbformat": 4
 },
 "nbformat": 4,
 "nbformat_minor": 2
}
