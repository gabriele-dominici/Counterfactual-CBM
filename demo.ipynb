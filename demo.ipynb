{
 "cells": [
  {
   "cell_type": "code",
   "execution_count": 1,
   "metadata": {},
   "outputs": [],
   "source": [
    "import os\n",
    "import wandb\n",
    "import yaml\n",
    "import torch\n",
    "from torch.nn.functional import one_hot\n",
    "from torch.utils.data import TensorDataset\n",
    "from pytorch_lightning.utilities.seed import seed_everything\n",
    "from pytorch_lightning.loggers import WandbLogger\n",
    "from ccbm.utils import randomize_class, load_data, RandomSamplerClassBatch, save_set_c_and_cf, FEATURE_NAMES, DATASET, CLASS_TO_VISUALISE, print_concept_importance\n",
    "from ccbm.models import (StandardE2E, StandardCBM, Oracle, \n",
    "                         CounterfactualCBM_V3, CounterfactualCBM_V3_1,\n",
    "                         VAE_CF, CCHVAE, ConceptVCNet)\n",
    "import math\n",
    "import numpy as np\n",
    "import pytorch_lightning as pl\n",
    "from sklearn.metrics import roc_auc_score\n",
    "from ccbm.metrics import (variability, \n",
    "                          difference_over_union, \n",
    "                          intersection_over_union, \n",
    "                          cf_in_distribution, distance_train)\n",
    "import matplotlib.pyplot as plt\n",
    "from sklearn.linear_model import LinearRegression\n",
    "\n",
    "\n",
    "from train import train_model, train_oracle"
   ]
  },
  {
   "cell_type": "code",
   "execution_count": null,
   "metadata": {},
   "outputs": [],
   "source": [
    "# Initialize wandb\n",
    "wandb.login()\n",
    "\n",
    "run = wandb.init(dir='./wandb')\n",
    "wandb_logger = WandbLogger()"
   ]
  },
  {
   "cell_type": "code",
   "execution_count": 3,
   "metadata": {},
   "outputs": [
    {
     "name": "stderr",
     "output_type": "stream",
     "text": [
      "/Users/gabri/Desktop/USI/PhD/GitHub/Counterfactual-CBM/.venv/lib/python3.12/site-packages/pytorch_lightning/utilities/seed.py:48: LightningDeprecationWarning: `pytorch_lightning.utilities.seed.seed_everything` has been deprecated in v1.8.0 and will be removed in v1.10.0. Please use `lightning_lite.utilities.seed.seed_everything` instead.\n",
      "  rank_zero_deprecation(\n",
      "Global seed set to 0\n"
     ]
    },
    {
     "data": {
      "text/plain": [
       "0"
      ]
     },
     "execution_count": 3,
     "metadata": {},
     "output_type": "execute_result"
    }
   ],
   "source": [
    "# Get config variables\n",
    "seed = 0\n",
    "batch_size = 1024\n",
    "dataset_name = 'dsprites'\n",
    "model = 'CFCBM'\n",
    "emb_size = 128\n",
    "device = accelerator = 'cpu'\n",
    "learning_rate = 0.005\n",
    "epochs = 75\n",
    "fold = 0\n",
    "\n",
    "# Set seed\n",
    "seed_everything(seed, workers=True)"
   ]
  },
  {
   "attachments": {},
   "cell_type": "markdown",
   "metadata": {},
   "source": [
    "# dSprites"
   ]
  },
  {
   "attachments": {},
   "cell_type": "markdown",
   "metadata": {},
   "source": [
    "### Saving image embeddings"
   ]
  },
  {
   "cell_type": "code",
   "execution_count": 4,
   "metadata": {},
   "outputs": [],
   "source": [
    "# !python3 experiments/dsprites/save_embeddings.py"
   ]
  },
  {
   "attachments": {},
   "cell_type": "markdown",
   "metadata": {},
   "source": [
    "### Creating directories"
   ]
  },
  {
   "cell_type": "code",
   "execution_count": 5,
   "metadata": {},
   "outputs": [],
   "source": [
    "# creates directory for results\n",
    "results_root_dir = f\"./results/\"\n",
    "os.makedirs(results_root_dir, exist_ok=True)\n",
    "results_dir = f\"./results/{dataset_name}/\"\n",
    "os.makedirs(results_dir, exist_ok=True)\n",
    "figures_dir = f\"./results/{dataset_name}/figures/\"\n",
    "os.makedirs(figures_dir, exist_ok=True)\n",
    "log_dir = f\"./results/{dataset_name}/logs/\"\n",
    "os.makedirs(log_dir, exist_ok=True) "
   ]
  },
  {
   "attachments": {},
   "cell_type": "markdown",
   "metadata": {},
   "source": [
    "### Loading data"
   ]
  },
  {
   "cell_type": "code",
   "execution_count": 6,
   "metadata": {},
   "outputs": [],
   "source": [
    "# Load train data\n",
    "X, c, y = load_data(dataset_name)\n",
    "if len(y.shape) == 1:\n",
    "    y = y.unsqueeze(1)\n",
    "    # Unique [concepts, labels]\n",
    "    c_cf_set = torch.unique(torch.cat((c, y), dim=-1), dim=0)\n",
    "    concept_labels = c_cf_set[:, -1]\n",
    "    c_cf_set = c_cf_set[:, :-1]\n",
    "else:\n",
    "    c_cf_set = torch.unique(torch.cat((c, torch.argmax(y, dim=-1).unsqueeze(-1)), dim=-1), dim=0)\n",
    "    concept_labels = c_cf_set[:, -1]\n",
    "    c_cf_set = c_cf_set[:, :-1]\n",
    "    concept_labels = one_hot(concept_labels.long(), num_classes=y.shape[1]).float()\n",
    "\n",
    "# Load test data\n",
    "X_test, c_test, y_test = load_data(dataset_name, split='test')\n",
    "if len(y_test.shape) == 1:\n",
    "    y_test = y_test.unsqueeze(1)"
   ]
  },
  {
   "attachments": {},
   "cell_type": "markdown",
   "metadata": {},
   "source": [
    "### Selecting model"
   ]
  },
  {
   "cell_type": "code",
   "execution_count": 7,
   "metadata": {},
   "outputs": [],
   "source": [
    "# Define models\n",
    "models = {\n",
    "            'Oracle': Oracle(),\n",
    "            'DeepNN': StandardE2E(X.shape[1], y.shape[1], emb_size, learning_rate),\n",
    "            'StandardCBM': StandardCBM(X.shape[1], c.shape[1], y.shape[1], emb_size, learning_rate, bool_concepts=True, deep=False),\n",
    "            'CFCBM': CounterfactualCBM_V3(X.shape[1], c.shape[1], y.shape[1], emb_size, c_cf_set, concept_labels, learning_rate=learning_rate, resample=0, bernulli=False, deep=False, reconstruction=False),\n",
    "            'VAECF': (StandardCBM(X.shape[1], c.shape[1], y.shape[1], emb_size, learning_rate, bool_concepts=True, deep=True), \n",
    "                      VAE_CF(c.shape[1], y.shape[1], emb_size, None, learning_rate)),\n",
    "            'CCHVAE': (StandardCBM(X.shape[1], c.shape[1], y.shape[1], emb_size, learning_rate, bool_concepts=True, deep=True),\n",
    "                       CCHVAE(c.shape[1], y.shape[1], emb_size, None, learning_rate)),\n",
    "            'VCNET': ConceptVCNet(X.shape[1], c.shape[1], y.shape[1], emb_size, learning_rate, bool_concepts=True, deep=True),\n",
    "            'BayCon': StandardCBM(X.shape[1], c.shape[1], y.shape[1], emb_size, learning_rate, bool_concepts=True, deep=True),\n",
    "        }\n",
    "net = models[model]"
   ]
  },
  {
   "attachments": {},
   "cell_type": "markdown",
   "metadata": {},
   "source": [
    "### Setting up dataloader"
   ]
  },
  {
   "cell_type": "code",
   "execution_count": 8,
   "metadata": {},
   "outputs": [],
   "source": [
    "# Create DataLoader\n",
    "train_data = TensorDataset(X, c, y)\n",
    "train_dl = torch.utils.data.DataLoader(train_data, batch_sampler=torch.utils.data.BatchSampler(RandomSamplerClassBatch(y, batch_size=batch_size, replacement=False), batch_size=batch_size, drop_last=True), pin_memory=True)\n",
    "test_data = TensorDataset(X_test, c_test, y_test)\n",
    "test_dl = torch.utils.data.DataLoader(test_data, batch_sampler=torch.utils.data.BatchSampler(RandomSamplerClassBatch(y_test, batch_size=batch_size, replacement=False), batch_size=batch_size,  drop_last=True), pin_memory=True)"
   ]
  },
  {
   "attachments": {},
   "cell_type": "markdown",
   "metadata": {},
   "source": [
    "### Traing the model"
   ]
  },
  {
   "cell_type": "code",
   "execution_count": 9,
   "metadata": {},
   "outputs": [
    {
     "name": "stderr",
     "output_type": "stream",
     "text": [
      "GPU available: True (mps), used: False\n",
      "TPU available: False, using: 0 TPU cores\n",
      "IPU available: False, using: 0 IPUs\n",
      "HPU available: False, using: 0 HPUs\n",
      "/Users/gabri/Desktop/USI/PhD/GitHub/Counterfactual-CBM/.venv/lib/python3.12/site-packages/pytorch_lightning/trainer/setup.py:200: UserWarning: MPS available but not used. Set `accelerator` and `devices` using `Trainer(accelerator='mps', devices=1)`.\n",
      "  rank_zero_warn(\n",
      "`Trainer(limit_train_batches=1.0)` was configured so 100% of the batches per epoch will be used..\n",
      "`Trainer(limit_val_batches=1.0)` was configured so 100% of the batches will be used..\n",
      "Global seed set to 0\n",
      "\n",
      "   | Name                       | Type              | Params\n",
      "------------------------------------------------------------------\n",
      "0  | cross_entropy              | CrossEntropyLoss  | 0     \n",
      "1  | bce                        | BCELoss           | 0     \n",
      "2  | bce_log                    | BCEWithLogitsLoss | 0     \n",
      "3  | model                      | Sequential        | 82.4 K\n",
      "4  | encoder                    | Sequential        | 82.2 K\n",
      "5  | relation_classifiers       | Sequential        | 903   \n",
      "6  | reasoner                   | Sequential        | 16    \n",
      "7  | concept_mean_predictor     | Sequential        | 33.0 K\n",
      "8  | concept_var_predictor      | Sequential        | 33.0 K\n",
      "9  | concept_mean_z3_predictor  | Sequential        | 34.2 K\n",
      "10 | concept_var_z3_predictor   | Sequential        | 34.2 K\n",
      "11 | concept_mean_qz3_predictor | Sequential        | 34.4 K\n",
      "12 | concept_var_qz3_predictor  | Sequential        | 34.4 K\n",
      "13 | concept_predictor          | Sequential        | 17.4 K\n",
      "------------------------------------------------------------------\n",
      "386 K     Trainable params\n",
      "0         Non-trainable params\n",
      "386 K     Total params\n",
      "1.545     Total estimated model params size (MB)\n"
     ]
    },
    {
     "name": "stdout",
     "output_type": "stream",
     "text": [
      "Running CounterfactualCBM_V3(\n",
      "  (cross_entropy): CrossEntropyLoss()\n",
      "  (bce): BCELoss()\n",
      "  (bce_log): BCEWithLogitsLoss()\n",
      "  (model): Sequential(\n",
      "    (0): Linear(in_features=512, out_features=128, bias=True)\n",
      "    (1): LeakyReLU(negative_slope=0.01)\n",
      "    (2): Linear(in_features=128, out_features=128, bias=True)\n",
      "    (3): LeakyReLU(negative_slope=0.01)\n",
      "    (4): Linear(in_features=128, out_features=2, bias=True)\n",
      "  )\n",
      "  (encoder): Sequential(\n",
      "    (0): Linear(in_features=512, out_features=128, bias=True)\n",
      "    (1): LeakyReLU(negative_slope=0.01)\n",
      "    (2): Linear(in_features=128, out_features=128, bias=True)\n",
      "    (3): LeakyReLU(negative_slope=0.01)\n",
      "  )\n",
      "  (relation_classifiers): Sequential(\n",
      "    (0): Linear(in_features=128, out_features=7, bias=True)\n",
      "  )\n",
      "  (reasoner): Sequential(\n",
      "    (0): Linear(in_features=7, out_features=2, bias=True)\n",
      "  )\n",
      "  (classification_loss): BCELoss()\n",
      "  (concept_mean_predictor): Sequential(\n",
      "    (0): Linear(in_features=128, out_features=128, bias=True)\n",
      "    (1): LeakyReLU(negative_slope=0.01)\n",
      "    (2): Linear(in_features=128, out_features=128, bias=True)\n",
      "  )\n",
      "  (concept_var_predictor): Sequential(\n",
      "    (0): Linear(in_features=128, out_features=128, bias=True)\n",
      "    (1): LeakyReLU(negative_slope=0.01)\n",
      "    (2): Linear(in_features=128, out_features=128, bias=True)\n",
      "  )\n",
      "  (concept_mean_z3_predictor): Sequential(\n",
      "    (0): Linear(in_features=137, out_features=128, bias=True)\n",
      "    (1): LeakyReLU(negative_slope=0.01)\n",
      "    (2): Linear(in_features=128, out_features=128, bias=True)\n",
      "  )\n",
      "  (concept_var_z3_predictor): Sequential(\n",
      "    (0): Linear(in_features=137, out_features=128, bias=True)\n",
      "    (1): LeakyReLU(negative_slope=0.01)\n",
      "    (2): Linear(in_features=128, out_features=128, bias=True)\n",
      "  )\n",
      "  (concept_mean_qz3_predictor): Sequential(\n",
      "    (0): Linear(in_features=139, out_features=128, bias=True)\n",
      "    (1): LeakyReLU(negative_slope=0.01)\n",
      "    (2): Linear(in_features=128, out_features=128, bias=True)\n",
      "  )\n",
      "  (concept_var_qz3_predictor): Sequential(\n",
      "    (0): Linear(in_features=139, out_features=128, bias=True)\n",
      "    (1): LeakyReLU(negative_slope=0.01)\n",
      "    (2): Linear(in_features=128, out_features=128, bias=True)\n",
      "  )\n",
      "  (concept_predictor): Sequential(\n",
      "    (0): Linear(in_features=128, out_features=128, bias=True)\n",
      "    (1): LeakyReLU(negative_slope=0.01)\n",
      "    (2): Linear(in_features=128, out_features=7, bias=True)\n",
      "  )\n",
      "), epochs=75, learning_rate=0.005\n"
     ]
    },
    {
     "data": {
      "application/vnd.jupyter.widget-view+json": {
       "model_id": "fbbac159a6be4d3fa387b827fc4c1fba",
       "version_major": 2,
       "version_minor": 0
      },
      "text/plain": [
       "Sanity Checking: 0it [00:00, ?it/s]"
      ]
     },
     "metadata": {},
     "output_type": "display_data"
    },
    {
     "name": "stderr",
     "output_type": "stream",
     "text": [
      "/Users/gabri/Desktop/USI/PhD/GitHub/Counterfactual-CBM/.venv/lib/python3.12/site-packages/pytorch_lightning/trainer/connectors/data_connector.py:224: PossibleUserWarning: The dataloader, val_dataloader 0, does not have many workers which may be a bottleneck. Consider increasing the value of the `num_workers` argument` (try 14 which is the number of cpus on this machine) in the `DataLoader` init to improve performance.\n",
      "  rank_zero_warn(\n",
      "/Users/gabri/Desktop/USI/PhD/GitHub/Counterfactual-CBM/.venv/lib/python3.12/site-packages/pytorch_lightning/trainer/connectors/data_connector.py:224: PossibleUserWarning: The dataloader, train_dataloader, does not have many workers which may be a bottleneck. Consider increasing the value of the `num_workers` argument` (try 14 which is the number of cpus on this machine) in the `DataLoader` init to improve performance.\n",
      "  rank_zero_warn(\n",
      "/Users/gabri/Desktop/USI/PhD/GitHub/Counterfactual-CBM/.venv/lib/python3.12/site-packages/pytorch_lightning/trainer/trainer.py:1595: PossibleUserWarning: The number of training batches (7) is smaller than the logging interval Trainer(log_every_n_steps=50). Set a lower value for log_every_n_steps if you want to see logs for the training epoch.\n",
      "  rank_zero_warn(\n"
     ]
    },
    {
     "data": {
      "application/vnd.jupyter.widget-view+json": {
       "model_id": "2b119054a4bc411b8e3759e2ff18dbda",
       "version_major": 2,
       "version_minor": 0
      },
      "text/plain": [
       "Training: 0it [00:00, ?it/s]"
      ]
     },
     "metadata": {},
     "output_type": "display_data"
    },
    {
     "data": {
      "application/vnd.jupyter.widget-view+json": {
       "model_id": "5d836c72e3b2419cab3779a98cd1bb92",
       "version_major": 2,
       "version_minor": 0
      },
      "text/plain": [
       "Validation: 0it [00:00, ?it/s]"
      ]
     },
     "metadata": {},
     "output_type": "display_data"
    },
    {
     "data": {
      "application/vnd.jupyter.widget-view+json": {
       "model_id": "a86fc1e7e6a1499fa7b621426c23d583",
       "version_major": 2,
       "version_minor": 0
      },
      "text/plain": [
       "Validation: 0it [00:00, ?it/s]"
      ]
     },
     "metadata": {},
     "output_type": "display_data"
    },
    {
     "data": {
      "application/vnd.jupyter.widget-view+json": {
       "model_id": "d07382c2df6c4bdab37c78274e6cad48",
       "version_major": 2,
       "version_minor": 0
      },
      "text/plain": [
       "Validation: 0it [00:00, ?it/s]"
      ]
     },
     "metadata": {},
     "output_type": "display_data"
    },
    {
     "data": {
      "application/vnd.jupyter.widget-view+json": {
       "model_id": "1c578b50c6724dc9838b56c75acbe406",
       "version_major": 2,
       "version_minor": 0
      },
      "text/plain": [
       "Validation: 0it [00:00, ?it/s]"
      ]
     },
     "metadata": {},
     "output_type": "display_data"
    },
    {
     "data": {
      "application/vnd.jupyter.widget-view+json": {
       "model_id": "361dbd20346648c7bf569077ea8be0a8",
       "version_major": 2,
       "version_minor": 0
      },
      "text/plain": [
       "Validation: 0it [00:00, ?it/s]"
      ]
     },
     "metadata": {},
     "output_type": "display_data"
    },
    {
     "data": {
      "application/vnd.jupyter.widget-view+json": {
       "model_id": "0bebdf48f97b42bdad0fb9accea7f343",
       "version_major": 2,
       "version_minor": 0
      },
      "text/plain": [
       "Validation: 0it [00:00, ?it/s]"
      ]
     },
     "metadata": {},
     "output_type": "display_data"
    },
    {
     "data": {
      "application/vnd.jupyter.widget-view+json": {
       "model_id": "6a7e11df73a247d18d847b0f589b8098",
       "version_major": 2,
       "version_minor": 0
      },
      "text/plain": [
       "Validation: 0it [00:00, ?it/s]"
      ]
     },
     "metadata": {},
     "output_type": "display_data"
    },
    {
     "data": {
      "application/vnd.jupyter.widget-view+json": {
       "model_id": "619499bcc3254392ad6ce03265d958ad",
       "version_major": 2,
       "version_minor": 0
      },
      "text/plain": [
       "Validation: 0it [00:00, ?it/s]"
      ]
     },
     "metadata": {},
     "output_type": "display_data"
    },
    {
     "data": {
      "application/vnd.jupyter.widget-view+json": {
       "model_id": "489f37abebb44e29b4a0cd7d3cf4334a",
       "version_major": 2,
       "version_minor": 0
      },
      "text/plain": [
       "Validation: 0it [00:00, ?it/s]"
      ]
     },
     "metadata": {},
     "output_type": "display_data"
    },
    {
     "data": {
      "application/vnd.jupyter.widget-view+json": {
       "model_id": "fffbd12252d64b5581bf70944ff455ec",
       "version_major": 2,
       "version_minor": 0
      },
      "text/plain": [
       "Validation: 0it [00:00, ?it/s]"
      ]
     },
     "metadata": {},
     "output_type": "display_data"
    },
    {
     "data": {
      "application/vnd.jupyter.widget-view+json": {
       "model_id": "d715cf518a814cfea8f6d4a9ce42cd3a",
       "version_major": 2,
       "version_minor": 0
      },
      "text/plain": [
       "Validation: 0it [00:00, ?it/s]"
      ]
     },
     "metadata": {},
     "output_type": "display_data"
    },
    {
     "data": {
      "application/vnd.jupyter.widget-view+json": {
       "model_id": "f97e674baeeb4d1890866adb07c93a6c",
       "version_major": 2,
       "version_minor": 0
      },
      "text/plain": [
       "Validation: 0it [00:00, ?it/s]"
      ]
     },
     "metadata": {},
     "output_type": "display_data"
    },
    {
     "data": {
      "application/vnd.jupyter.widget-view+json": {
       "model_id": "0eabbe1aa0bb413e990ab96b4866abb4",
       "version_major": 2,
       "version_minor": 0
      },
      "text/plain": [
       "Validation: 0it [00:00, ?it/s]"
      ]
     },
     "metadata": {},
     "output_type": "display_data"
    },
    {
     "data": {
      "application/vnd.jupyter.widget-view+json": {
       "model_id": "ac3cbfe26a134daab937563207b0e316",
       "version_major": 2,
       "version_minor": 0
      },
      "text/plain": [
       "Validation: 0it [00:00, ?it/s]"
      ]
     },
     "metadata": {},
     "output_type": "display_data"
    },
    {
     "data": {
      "application/vnd.jupyter.widget-view+json": {
       "model_id": "f9dcfc930413417282bb84f1782ee089",
       "version_major": 2,
       "version_minor": 0
      },
      "text/plain": [
       "Validation: 0it [00:00, ?it/s]"
      ]
     },
     "metadata": {},
     "output_type": "display_data"
    },
    {
     "data": {
      "application/vnd.jupyter.widget-view+json": {
       "model_id": "9bdc7bbb687d45efbfad5e24911640f2",
       "version_major": 2,
       "version_minor": 0
      },
      "text/plain": [
       "Validation: 0it [00:00, ?it/s]"
      ]
     },
     "metadata": {},
     "output_type": "display_data"
    },
    {
     "data": {
      "application/vnd.jupyter.widget-view+json": {
       "model_id": "84987b7f3fcf4ea0bf89c8d449a16277",
       "version_major": 2,
       "version_minor": 0
      },
      "text/plain": [
       "Validation: 0it [00:00, ?it/s]"
      ]
     },
     "metadata": {},
     "output_type": "display_data"
    },
    {
     "data": {
      "application/vnd.jupyter.widget-view+json": {
       "model_id": "adb261f263e1413883da94fa149a966f",
       "version_major": 2,
       "version_minor": 0
      },
      "text/plain": [
       "Validation: 0it [00:00, ?it/s]"
      ]
     },
     "metadata": {},
     "output_type": "display_data"
    },
    {
     "data": {
      "application/vnd.jupyter.widget-view+json": {
       "model_id": "1eef098c0b464f6f832ea95295eefff4",
       "version_major": 2,
       "version_minor": 0
      },
      "text/plain": [
       "Validation: 0it [00:00, ?it/s]"
      ]
     },
     "metadata": {},
     "output_type": "display_data"
    },
    {
     "data": {
      "application/vnd.jupyter.widget-view+json": {
       "model_id": "87408af394dc4a4cbb1a07088d918131",
       "version_major": 2,
       "version_minor": 0
      },
      "text/plain": [
       "Validation: 0it [00:00, ?it/s]"
      ]
     },
     "metadata": {},
     "output_type": "display_data"
    },
    {
     "data": {
      "application/vnd.jupyter.widget-view+json": {
       "model_id": "e7cfbce5553a4271aa6b07c63a5ba510",
       "version_major": 2,
       "version_minor": 0
      },
      "text/plain": [
       "Validation: 0it [00:00, ?it/s]"
      ]
     },
     "metadata": {},
     "output_type": "display_data"
    },
    {
     "data": {
      "application/vnd.jupyter.widget-view+json": {
       "model_id": "3bea9cdf528f46d9b62457dc8d280e77",
       "version_major": 2,
       "version_minor": 0
      },
      "text/plain": [
       "Validation: 0it [00:00, ?it/s]"
      ]
     },
     "metadata": {},
     "output_type": "display_data"
    },
    {
     "data": {
      "application/vnd.jupyter.widget-view+json": {
       "model_id": "00409beb3ad34f6bb47bac442647bab6",
       "version_major": 2,
       "version_minor": 0
      },
      "text/plain": [
       "Validation: 0it [00:00, ?it/s]"
      ]
     },
     "metadata": {},
     "output_type": "display_data"
    },
    {
     "data": {
      "application/vnd.jupyter.widget-view+json": {
       "model_id": "6846595dc14a4a0cb20fd7ffed6cb516",
       "version_major": 2,
       "version_minor": 0
      },
      "text/plain": [
       "Validation: 0it [00:00, ?it/s]"
      ]
     },
     "metadata": {},
     "output_type": "display_data"
    },
    {
     "data": {
      "application/vnd.jupyter.widget-view+json": {
       "model_id": "453ecd030f5f4e01ab9c2dccda645d23",
       "version_major": 2,
       "version_minor": 0
      },
      "text/plain": [
       "Validation: 0it [00:00, ?it/s]"
      ]
     },
     "metadata": {},
     "output_type": "display_data"
    },
    {
     "data": {
      "application/vnd.jupyter.widget-view+json": {
       "model_id": "003f446941b84ae3ba257f0d144f6f50",
       "version_major": 2,
       "version_minor": 0
      },
      "text/plain": [
       "Validation: 0it [00:00, ?it/s]"
      ]
     },
     "metadata": {},
     "output_type": "display_data"
    },
    {
     "data": {
      "application/vnd.jupyter.widget-view+json": {
       "model_id": "9547282f16b0495eb51f42f3ed2acd0d",
       "version_major": 2,
       "version_minor": 0
      },
      "text/plain": [
       "Validation: 0it [00:00, ?it/s]"
      ]
     },
     "metadata": {},
     "output_type": "display_data"
    },
    {
     "data": {
      "application/vnd.jupyter.widget-view+json": {
       "model_id": "416b0d97d6c844c6b0d460eb2accaff8",
       "version_major": 2,
       "version_minor": 0
      },
      "text/plain": [
       "Validation: 0it [00:00, ?it/s]"
      ]
     },
     "metadata": {},
     "output_type": "display_data"
    },
    {
     "data": {
      "application/vnd.jupyter.widget-view+json": {
       "model_id": "e22ecb0c5d054f41824781c888481d9f",
       "version_major": 2,
       "version_minor": 0
      },
      "text/plain": [
       "Validation: 0it [00:00, ?it/s]"
      ]
     },
     "metadata": {},
     "output_type": "display_data"
    },
    {
     "data": {
      "application/vnd.jupyter.widget-view+json": {
       "model_id": "0876d2d31a39416ca8b8c5a0ff00a92b",
       "version_major": 2,
       "version_minor": 0
      },
      "text/plain": [
       "Validation: 0it [00:00, ?it/s]"
      ]
     },
     "metadata": {},
     "output_type": "display_data"
    },
    {
     "data": {
      "application/vnd.jupyter.widget-view+json": {
       "model_id": "1923ab77e8a14cb7bc67aa3d019f5df1",
       "version_major": 2,
       "version_minor": 0
      },
      "text/plain": [
       "Validation: 0it [00:00, ?it/s]"
      ]
     },
     "metadata": {},
     "output_type": "display_data"
    },
    {
     "data": {
      "application/vnd.jupyter.widget-view+json": {
       "model_id": "6f069f12301a47e280b1613277a10d98",
       "version_major": 2,
       "version_minor": 0
      },
      "text/plain": [
       "Validation: 0it [00:00, ?it/s]"
      ]
     },
     "metadata": {},
     "output_type": "display_data"
    },
    {
     "data": {
      "application/vnd.jupyter.widget-view+json": {
       "model_id": "1d4ceca483384c958a85bccd74425526",
       "version_major": 2,
       "version_minor": 0
      },
      "text/plain": [
       "Validation: 0it [00:00, ?it/s]"
      ]
     },
     "metadata": {},
     "output_type": "display_data"
    },
    {
     "data": {
      "application/vnd.jupyter.widget-view+json": {
       "model_id": "41601b1301e14a9fa2fa36e5756cdf88",
       "version_major": 2,
       "version_minor": 0
      },
      "text/plain": [
       "Validation: 0it [00:00, ?it/s]"
      ]
     },
     "metadata": {},
     "output_type": "display_data"
    },
    {
     "data": {
      "application/vnd.jupyter.widget-view+json": {
       "model_id": "faedb27299194078a13e1e7bec21ed4b",
       "version_major": 2,
       "version_minor": 0
      },
      "text/plain": [
       "Validation: 0it [00:00, ?it/s]"
      ]
     },
     "metadata": {},
     "output_type": "display_data"
    },
    {
     "data": {
      "application/vnd.jupyter.widget-view+json": {
       "model_id": "77cf9bec7b984f2e85333f7fcc0a2312",
       "version_major": 2,
       "version_minor": 0
      },
      "text/plain": [
       "Validation: 0it [00:00, ?it/s]"
      ]
     },
     "metadata": {},
     "output_type": "display_data"
    },
    {
     "data": {
      "application/vnd.jupyter.widget-view+json": {
       "model_id": "b715efb1cc964f9d8f1bd52bc4e6b6f3",
       "version_major": 2,
       "version_minor": 0
      },
      "text/plain": [
       "Validation: 0it [00:00, ?it/s]"
      ]
     },
     "metadata": {},
     "output_type": "display_data"
    },
    {
     "data": {
      "application/vnd.jupyter.widget-view+json": {
       "model_id": "421a0d32bee8474abcdb26f4b1429d04",
       "version_major": 2,
       "version_minor": 0
      },
      "text/plain": [
       "Validation: 0it [00:00, ?it/s]"
      ]
     },
     "metadata": {},
     "output_type": "display_data"
    },
    {
     "data": {
      "application/vnd.jupyter.widget-view+json": {
       "model_id": "cf1d578f300b4a2fae97798d2585074e",
       "version_major": 2,
       "version_minor": 0
      },
      "text/plain": [
       "Validation: 0it [00:00, ?it/s]"
      ]
     },
     "metadata": {},
     "output_type": "display_data"
    },
    {
     "data": {
      "application/vnd.jupyter.widget-view+json": {
       "model_id": "e4d58551dd4045d0816fbb33ff28c4d3",
       "version_major": 2,
       "version_minor": 0
      },
      "text/plain": [
       "Validation: 0it [00:00, ?it/s]"
      ]
     },
     "metadata": {},
     "output_type": "display_data"
    },
    {
     "data": {
      "application/vnd.jupyter.widget-view+json": {
       "model_id": "d08cefe3dac84be69d352610812495e2",
       "version_major": 2,
       "version_minor": 0
      },
      "text/plain": [
       "Validation: 0it [00:00, ?it/s]"
      ]
     },
     "metadata": {},
     "output_type": "display_data"
    },
    {
     "data": {
      "application/vnd.jupyter.widget-view+json": {
       "model_id": "89d6e05f19614e79af71ffefd456f433",
       "version_major": 2,
       "version_minor": 0
      },
      "text/plain": [
       "Validation: 0it [00:00, ?it/s]"
      ]
     },
     "metadata": {},
     "output_type": "display_data"
    },
    {
     "data": {
      "application/vnd.jupyter.widget-view+json": {
       "model_id": "12700bf6fe1e4dbda717adf1531ec25c",
       "version_major": 2,
       "version_minor": 0
      },
      "text/plain": [
       "Validation: 0it [00:00, ?it/s]"
      ]
     },
     "metadata": {},
     "output_type": "display_data"
    },
    {
     "data": {
      "application/vnd.jupyter.widget-view+json": {
       "model_id": "684574891ba84c3e9ed2b824e32a3404",
       "version_major": 2,
       "version_minor": 0
      },
      "text/plain": [
       "Validation: 0it [00:00, ?it/s]"
      ]
     },
     "metadata": {},
     "output_type": "display_data"
    },
    {
     "data": {
      "application/vnd.jupyter.widget-view+json": {
       "model_id": "8a62f08552de41829e656f093d642c51",
       "version_major": 2,
       "version_minor": 0
      },
      "text/plain": [
       "Validation: 0it [00:00, ?it/s]"
      ]
     },
     "metadata": {},
     "output_type": "display_data"
    },
    {
     "data": {
      "application/vnd.jupyter.widget-view+json": {
       "model_id": "90bf6ef02e7e41dbb4057fe29f2b1814",
       "version_major": 2,
       "version_minor": 0
      },
      "text/plain": [
       "Validation: 0it [00:00, ?it/s]"
      ]
     },
     "metadata": {},
     "output_type": "display_data"
    },
    {
     "data": {
      "application/vnd.jupyter.widget-view+json": {
       "model_id": "45b7efe24a3d455ba3fa227ff6366b35",
       "version_major": 2,
       "version_minor": 0
      },
      "text/plain": [
       "Validation: 0it [00:00, ?it/s]"
      ]
     },
     "metadata": {},
     "output_type": "display_data"
    },
    {
     "data": {
      "application/vnd.jupyter.widget-view+json": {
       "model_id": "2e0927b3be1246f3960bbed7c097dcf4",
       "version_major": 2,
       "version_minor": 0
      },
      "text/plain": [
       "Validation: 0it [00:00, ?it/s]"
      ]
     },
     "metadata": {},
     "output_type": "display_data"
    },
    {
     "data": {
      "application/vnd.jupyter.widget-view+json": {
       "model_id": "cb9b6b990fbb40b4b11f1f56a28fe724",
       "version_major": 2,
       "version_minor": 0
      },
      "text/plain": [
       "Validation: 0it [00:00, ?it/s]"
      ]
     },
     "metadata": {},
     "output_type": "display_data"
    },
    {
     "data": {
      "application/vnd.jupyter.widget-view+json": {
       "model_id": "abd12e4a2ce3439685bfcb19b8fc2372",
       "version_major": 2,
       "version_minor": 0
      },
      "text/plain": [
       "Validation: 0it [00:00, ?it/s]"
      ]
     },
     "metadata": {},
     "output_type": "display_data"
    },
    {
     "data": {
      "application/vnd.jupyter.widget-view+json": {
       "model_id": "3bc537fdd6f24bcb85cf79b52a9535ff",
       "version_major": 2,
       "version_minor": 0
      },
      "text/plain": [
       "Validation: 0it [00:00, ?it/s]"
      ]
     },
     "metadata": {},
     "output_type": "display_data"
    },
    {
     "data": {
      "application/vnd.jupyter.widget-view+json": {
       "model_id": "8cfee9f1e1a142cdb9986c01c864b5e4",
       "version_major": 2,
       "version_minor": 0
      },
      "text/plain": [
       "Validation: 0it [00:00, ?it/s]"
      ]
     },
     "metadata": {},
     "output_type": "display_data"
    },
    {
     "data": {
      "application/vnd.jupyter.widget-view+json": {
       "model_id": "381272e5462c427a91df4878aa972e7f",
       "version_major": 2,
       "version_minor": 0
      },
      "text/plain": [
       "Validation: 0it [00:00, ?it/s]"
      ]
     },
     "metadata": {},
     "output_type": "display_data"
    },
    {
     "data": {
      "application/vnd.jupyter.widget-view+json": {
       "model_id": "e025f60210164759904c79ed67344892",
       "version_major": 2,
       "version_minor": 0
      },
      "text/plain": [
       "Validation: 0it [00:00, ?it/s]"
      ]
     },
     "metadata": {},
     "output_type": "display_data"
    },
    {
     "data": {
      "application/vnd.jupyter.widget-view+json": {
       "model_id": "d421879c955a4e67ad67b7ee3a64c95d",
       "version_major": 2,
       "version_minor": 0
      },
      "text/plain": [
       "Validation: 0it [00:00, ?it/s]"
      ]
     },
     "metadata": {},
     "output_type": "display_data"
    },
    {
     "data": {
      "application/vnd.jupyter.widget-view+json": {
       "model_id": "6df7052708c64f5cab715d6945f96d81",
       "version_major": 2,
       "version_minor": 0
      },
      "text/plain": [
       "Validation: 0it [00:00, ?it/s]"
      ]
     },
     "metadata": {},
     "output_type": "display_data"
    },
    {
     "data": {
      "application/vnd.jupyter.widget-view+json": {
       "model_id": "e02738148fc34f1ab4502275473e5910",
       "version_major": 2,
       "version_minor": 0
      },
      "text/plain": [
       "Validation: 0it [00:00, ?it/s]"
      ]
     },
     "metadata": {},
     "output_type": "display_data"
    },
    {
     "data": {
      "application/vnd.jupyter.widget-view+json": {
       "model_id": "d9cd37be80a442d99bf323e9302cbdff",
       "version_major": 2,
       "version_minor": 0
      },
      "text/plain": [
       "Validation: 0it [00:00, ?it/s]"
      ]
     },
     "metadata": {},
     "output_type": "display_data"
    },
    {
     "data": {
      "application/vnd.jupyter.widget-view+json": {
       "model_id": "9c0493d85a7d4156990bcb05a9194b96",
       "version_major": 2,
       "version_minor": 0
      },
      "text/plain": [
       "Validation: 0it [00:00, ?it/s]"
      ]
     },
     "metadata": {},
     "output_type": "display_data"
    },
    {
     "data": {
      "application/vnd.jupyter.widget-view+json": {
       "model_id": "53cd1e1d3ae847958b0961e8a3df92ff",
       "version_major": 2,
       "version_minor": 0
      },
      "text/plain": [
       "Validation: 0it [00:00, ?it/s]"
      ]
     },
     "metadata": {},
     "output_type": "display_data"
    },
    {
     "data": {
      "application/vnd.jupyter.widget-view+json": {
       "model_id": "60f9b2ffd2a34e008de021d67252dbbb",
       "version_major": 2,
       "version_minor": 0
      },
      "text/plain": [
       "Validation: 0it [00:00, ?it/s]"
      ]
     },
     "metadata": {},
     "output_type": "display_data"
    },
    {
     "data": {
      "application/vnd.jupyter.widget-view+json": {
       "model_id": "868a2cae9db342bab2d3d943c0f4eebc",
       "version_major": 2,
       "version_minor": 0
      },
      "text/plain": [
       "Validation: 0it [00:00, ?it/s]"
      ]
     },
     "metadata": {},
     "output_type": "display_data"
    },
    {
     "data": {
      "application/vnd.jupyter.widget-view+json": {
       "model_id": "03ec0912c1bb4576b5a556bf4fac148f",
       "version_major": 2,
       "version_minor": 0
      },
      "text/plain": [
       "Validation: 0it [00:00, ?it/s]"
      ]
     },
     "metadata": {},
     "output_type": "display_data"
    },
    {
     "data": {
      "application/vnd.jupyter.widget-view+json": {
       "model_id": "6671485cff7242c5a815d878d863868e",
       "version_major": 2,
       "version_minor": 0
      },
      "text/plain": [
       "Validation: 0it [00:00, ?it/s]"
      ]
     },
     "metadata": {},
     "output_type": "display_data"
    },
    {
     "data": {
      "application/vnd.jupyter.widget-view+json": {
       "model_id": "de7ca5c663ec469dbb97ffef317e05bc",
       "version_major": 2,
       "version_minor": 0
      },
      "text/plain": [
       "Validation: 0it [00:00, ?it/s]"
      ]
     },
     "metadata": {},
     "output_type": "display_data"
    },
    {
     "data": {
      "application/vnd.jupyter.widget-view+json": {
       "model_id": "7cfdda02adfa4d3d972b54cf79e2aaf7",
       "version_major": 2,
       "version_minor": 0
      },
      "text/plain": [
       "Validation: 0it [00:00, ?it/s]"
      ]
     },
     "metadata": {},
     "output_type": "display_data"
    },
    {
     "data": {
      "application/vnd.jupyter.widget-view+json": {
       "model_id": "2e4ea57ca3f14794b9358197d8253e7b",
       "version_major": 2,
       "version_minor": 0
      },
      "text/plain": [
       "Validation: 0it [00:00, ?it/s]"
      ]
     },
     "metadata": {},
     "output_type": "display_data"
    },
    {
     "data": {
      "application/vnd.jupyter.widget-view+json": {
       "model_id": "9346887da99447c89b618d4fe7a80762",
       "version_major": 2,
       "version_minor": 0
      },
      "text/plain": [
       "Validation: 0it [00:00, ?it/s]"
      ]
     },
     "metadata": {},
     "output_type": "display_data"
    },
    {
     "data": {
      "application/vnd.jupyter.widget-view+json": {
       "model_id": "ccfc2140da854c14acf0344c2f0944a6",
       "version_major": 2,
       "version_minor": 0
      },
      "text/plain": [
       "Validation: 0it [00:00, ?it/s]"
      ]
     },
     "metadata": {},
     "output_type": "display_data"
    },
    {
     "data": {
      "application/vnd.jupyter.widget-view+json": {
       "model_id": "7dfedc89d580489395854efbde730c54",
       "version_major": 2,
       "version_minor": 0
      },
      "text/plain": [
       "Validation: 0it [00:00, ?it/s]"
      ]
     },
     "metadata": {},
     "output_type": "display_data"
    },
    {
     "data": {
      "application/vnd.jupyter.widget-view+json": {
       "model_id": "e17787fb908e4b21aff8d74ce5d252f2",
       "version_major": 2,
       "version_minor": 0
      },
      "text/plain": [
       "Validation: 0it [00:00, ?it/s]"
      ]
     },
     "metadata": {},
     "output_type": "display_data"
    },
    {
     "data": {
      "application/vnd.jupyter.widget-view+json": {
       "model_id": "2578f8e5edd740089722b1b3b90fbd76",
       "version_major": 2,
       "version_minor": 0
      },
      "text/plain": [
       "Validation: 0it [00:00, ?it/s]"
      ]
     },
     "metadata": {},
     "output_type": "display_data"
    },
    {
     "data": {
      "application/vnd.jupyter.widget-view+json": {
       "model_id": "c46272dec30f42f191bea94107b88d29",
       "version_major": 2,
       "version_minor": 0
      },
      "text/plain": [
       "Validation: 0it [00:00, ?it/s]"
      ]
     },
     "metadata": {},
     "output_type": "display_data"
    },
    {
     "data": {
      "application/vnd.jupyter.widget-view+json": {
       "model_id": "275a11bead1d4b049448e9b904d1e5eb",
       "version_major": 2,
       "version_minor": 0
      },
      "text/plain": [
       "Validation: 0it [00:00, ?it/s]"
      ]
     },
     "metadata": {},
     "output_type": "display_data"
    },
    {
     "data": {
      "application/vnd.jupyter.widget-view+json": {
       "model_id": "534be72f678d4e37b9366d410433982f",
       "version_major": 2,
       "version_minor": 0
      },
      "text/plain": [
       "Validation: 0it [00:00, ?it/s]"
      ]
     },
     "metadata": {},
     "output_type": "display_data"
    },
    {
     "name": "stderr",
     "output_type": "stream",
     "text": [
      "`Trainer.fit` stopped: `max_epochs=75` reached.\n"
     ]
    },
    {
     "name": "stdout",
     "output_type": "stream",
     "text": [
      "Best train acc: 0.9776521921157837, Epoch: 47\n"
     ]
    }
   ],
   "source": [
    "net = train_model(net, epochs, learning_rate, seed, train_dl, test_dl, results_dir, accelerator, wandb_logger)"
   ]
  },
  {
   "attachments": {},
   "cell_type": "markdown",
   "metadata": {},
   "source": [
    "### Testing the model and saving the outputs"
   ]
  },
  {
   "cell_type": "code",
   "execution_count": 10,
   "metadata": {},
   "outputs": [],
   "source": [
    "# Testing the model \n",
    "c_preds_total = torch.empty(0, train_dl.dataset[0][1].shape[-1])\n",
    "c_total = torch.empty(0, train_dl.dataset[0][1].shape[-1])\n",
    "y_preds_total = torch.empty(0, train_dl.dataset[0][-1].shape[-1])\n",
    "y_total = torch.empty(0, train_dl.dataset[0][-1].shape[-1])\n",
    "y_cf_total = torch.empty(0, train_dl.dataset[0][-1].shape[-1])\n",
    "y_cf_target_total = torch.empty(0, train_dl.dataset[0][-1].shape[-1])\n",
    "c_cf_total = torch.empty(0, train_dl.dataset[0][1].shape[-1])\n",
    "z2_total = torch.empty(0, net.emb_size)\n",
    "z3_total = torch.empty(0, net.emb_size)\n",
    "\n",
    "for X_test, c_test, y_test in test_dl:\n",
    "    y_prime = randomize_class(y_test, include=False)\n",
    "    if y_test.shape[-1] == 1:\n",
    "        y_prime = None\n",
    "    (c_preds, y_preds, explanations,\n",
    "    c_cf, y_cf, y_cf_target, explanation_cf, \n",
    "    p_z2, qz2_x, pz3_z2_c_y, qz3_z2_c_y_y_prime,\n",
    "    pcprime_z3, py_c, py_c_cf, pc_z2, c_cf_true, weights, z2, z3, c_pred_d) = net.forward(X_test, test=True, y_prime=y_prime, explain=True, include=False, inference=True)\n",
    "\n",
    "    c_preds_total = torch.cat((c_preds_total, c_preds), dim=0)\n",
    "    c_total = torch.cat((c_total, c_test), dim=0)\n",
    "    y_preds_total = torch.cat((y_preds_total, y_preds), dim=0)\n",
    "    y_total = torch.cat((y_total, y_test), dim=0)\n",
    "    y_cf_total = torch.cat((y_cf_total, y_cf), dim=0)\n",
    "    y_cf_target_total = torch.cat((y_cf_target_total, y_cf_target), dim=0)\n",
    "    c_cf_total = torch.cat((c_cf_total, c_cf), dim=0)\n",
    "    z2_total = torch.cat((z2_total, z2), dim=0)\n",
    "    z3_total = torch.cat((z3_total, z3), dim=0)\n"
   ]
  },
  {
   "attachments": {},
   "cell_type": "markdown",
   "metadata": {},
   "source": [
    "### Computing metrics"
   ]
  },
  {
   "cell_type": "code",
   "execution_count": 11,
   "metadata": {},
   "outputs": [
    {
     "name": "stdout",
     "output_type": "stream",
     "text": [
      "ROC AUC Concept Accuracy (%):  98.78196726634458\n",
      "Entire Concept Accuracy (%):  77.34375\n",
      "ROC AUC Task Accuracy (%):  99.34065324378241\n",
      "Validity (%):  100.0\n",
      "Variability:  0.7931034482758621\n",
      "IOU (%):  58.620689655172406\n",
      "Proximity (%):  0.6068638392857143\n",
      "Delta Sparsity (%):  5.608258928571429\n",
      "CF Time:  0.009650230407714844\n"
     ]
    }
   ],
   "source": [
    "# Compute metrics\n",
    "concept_accuracy = roc_auc_score(c_total.cpu(), c_preds_total.detach().cpu())\n",
    "print('ROC AUC Concept Accuracy (%): ', concept_accuracy*100)\n",
    "concept_acc = (c_preds_total > 0.5).float().eq(c_total).float().all(dim=-1).float().mean().item()\n",
    "print('Entire Concept Accuracy (%): ', concept_acc*100)\n",
    "task_accuracy = roc_auc_score(y_total.cpu(), y_preds_total.detach().cpu())\n",
    "print('ROC AUC Task Accuracy (%): ', task_accuracy*100)\n",
    "task_cf_accuracy = roc_auc_score(y_cf_target_total.squeeze().cpu(), y_cf_total.detach().cpu())\n",
    "print('Validity (%): ', task_cf_accuracy*100)\n",
    "cf_variability = variability(c_cf_total.cpu(), c_preds_total.cpu())\n",
    "print('Variability: ', cf_variability)\n",
    "cf_iou = intersection_over_union(c_cf_total.cpu(), c_total.cpu())\n",
    "print('IOU (%): ', cf_iou*100)\n",
    "mean_distance_train = distance_train(c_cf_total.cpu(), c_cf_set.cpu(), y_cf_total.detach().cpu(), concept_labels.cpu()).item() / c_cf_total.shape[-1]\n",
    "print('Proximity (%): ', mean_distance_train*100)\n",
    "\n",
    "pdist = torch.nn.PairwiseDistance(p=2)\n",
    "hamming_distance = torch.norm((c_preds_total>0.5).float().cpu() - (c_cf_total>0.5).float().cpu(), p=0, dim=-1).mean().item() \n",
    "oracle = Oracle()\n",
    "oracle_results, oracle = train_oracle(oracle, test_dl, c_cf_set, concept_labels, wandb_logger)\n",
    "oracle_sparsity = oracle_results['hamming_distance']\n",
    "delta_sparsity = abs(hamming_distance - oracle_sparsity) / c_cf_total.shape[-1]\n",
    "print('Delta Sparsity (%): ', delta_sparsity*100)\n",
    "\n",
    "cf_time_total, cf_found = net.counterfactual_times(test_dl, accelerator, rerun=False)\n",
    "print('CF Time: ', cf_time_total)"
   ]
  },
  {
   "cell_type": "code",
   "execution_count": 12,
   "metadata": {},
   "outputs": [
    {
     "name": "stdout",
     "output_type": "stream",
     "text": [
      "                    0  1                    2  3\n",
      "0             c_1 c_6  0              c_0 c_6  1\n",
      "1             c_0 c_5  1              c_1 c_5  0\n",
      "2     c_0 c_1 c_3 c_4  1          c_1 c_3 c_4  0\n",
      "3     c_0 c_2 c_3 c_6  1              c_1 c_6  0\n",
      "4             c_0 c_4  1              c_1 c_4  0\n",
      "...               ... ..                  ... ..\n",
      "2043          c_1 c_6  0              c_0 c_6  1\n",
      "2044          c_1 c_4  0              c_2 c_4  1\n",
      "2045  c_0 c_2 c_3 c_4  1              c_1 c_4  0\n",
      "2046      c_1 c_3 c_6  0  c_0 c_1 c_2 c_3 c_6  1\n",
      "2047      c_1 c_3 c_4  0          c_1 c_3 c_4  0\n",
      "\n",
      "[2048 rows x 4 columns]\n"
     ]
    }
   ],
   "source": [
    "save_set_c_and_cf(c_preds_total, y_preds_total, y_cf_total, c_cf_total, model, fold, log_dir)"
   ]
  },
  {
   "attachments": {},
   "cell_type": "markdown",
   "metadata": {},
   "source": [
    "### Computing feature importance"
   ]
  },
  {
   "cell_type": "code",
   "execution_count": 13,
   "metadata": {},
   "outputs": [
    {
     "name": "stderr",
     "output_type": "stream",
     "text": [
      "/Users/gabri/Desktop/USI/PhD/GitHub/Counterfactual-CBM/ccbm/utils.py:188: UserWarning: Matplotlib is currently using module://matplotlib_inline.backend_inline, which is a non-GUI backend, so cannot show the figure.\n",
      "  fig.show()\n"
     ]
    },
    {
     "data": {
      "image/png": "[encoded data removed]",
      "text/plain": [
       "<Figure size 800x430 with 2 Axes>"
      ]
     },
     "metadata": {},
     "output_type": "display_data"
    }
   ],
   "source": [
    "c_preds_total_train = torch.empty(0, train_dl.dataset[0][1].shape[-1])\n",
    "for X_train, c_train, y_train in train_dl:\n",
    "    \n",
    "    y_prime = randomize_class(y_test, include=False)\n",
    "    if y_train.shape[-1] == 1:\n",
    "        y_prime = None\n",
    "    (c_preds, y_preds, explanations,\n",
    "    c_cf, y_cf, y_cf_target, explanation_cf, \n",
    "    p_z2, qz2_x, pz3_z2_c_y, qz3_z2_c_y_y_prime,\n",
    "    pcprime_z3, py_c, py_c_cf, pc_z2, c_cf_true, weights, z2, z3, c_pred_d) = net.forward(X_train, test=True, y_prime=y_prime, explain=True, include=False, inference=True)\n",
    "\n",
    "    if not net.bool_concepts:\n",
    "        c_preds = torch.sigmoid(c_preds)\n",
    "\n",
    "    c_preds_total_train = torch.cat((c_preds_total_train, c_preds), dim=0)\n",
    "\n",
    "idx = CLASS_TO_VISUALISE[str(c_preds_total_train.shape[-1])]\n",
    "print_concept_importance(net, idx, c_preds_total_train, c_preds_total, show=True)"
   ]
  },
  {
   "attachments": {},
   "cell_type": "markdown",
   "metadata": {},
   "source": [
    "### Computing mesures sampling more than once"
   ]
  },
  {
   "cell_type": "code",
   "execution_count": 14,
   "metadata": {},
   "outputs": [
    {
     "name": "stdout",
     "output_type": "stream",
     "text": [
      "--------------5 SAMPLES-----------------\n",
      "CF Time 5 samples:  0.02868175506591797\n",
      "Variability 5 samples:  1.2105263157894737\n",
      "IOU 5 samples (%):  75.0\n",
      "Proximity 5 samples (%):  1.5345982142857142\n",
      "Delta Sparsity 5 samples (%):  5.029296875\n",
      "--------------10 SAMPLES-----------------\n",
      "CF Time 10 samples:  0.0484468936920166\n",
      "Variability 10 samples:  1.3076923076923077\n",
      "IOU 10 samples (%):  66.66666666666666\n",
      "Proximity 10 samples (%):  1.4997209821428572\n",
      "Delta Sparsity 10 samples (%):  4.910714285714286\n",
      "--------------100 SAMPLES-----------------\n",
      "CF Time 100 samples:  0.39101481437683105\n",
      "Variability 100 samples:  1.2105263157894737\n",
      "IOU 100 samples (%):  71.42857142857143\n",
      "Proximity 100 samples (%):  1.66015625\n",
      "Delta Sparsity 100 samples (%):  5.301339285714286\n"
     ]
    }
   ],
   "source": [
    "n_times_list = [5, 10, 100]\n",
    "for n in n_times_list: \n",
    "    print(f'--------------{n} SAMPLES-----------------')\n",
    "    c_preds_total = torch.empty(0, train_dl.dataset[0][1].shape[-1])\n",
    "    c_total = torch.empty(0, train_dl.dataset[0][1].shape[-1])\n",
    "    y_preds_total = torch.empty(0, train_dl.dataset[0][-1].shape[-1])\n",
    "    y_total = torch.empty(0, train_dl.dataset[0][-1].shape[-1])\n",
    "    for X_test, c_test, y_test in test_dl:\n",
    "        y_prime = randomize_class(y_test, include=False)\n",
    "        (c_preds, y_preds, explanations,\n",
    "        c_cf, y_cf, y_cf_target, explanation_cf, \n",
    "        p_z2, qz2_x, pz3_z2_c_y, qz3_z2_c_y_y_prime,\n",
    "        pcprime_z3, py_c, py_c_cf, pc_z2, c_cf_true, weights, z2, z3, c_pred_d) = net.forward(X_test, test=True, y_prime=y_prime, explain=True, include=False, resample=n)\n",
    "\n",
    "        c_preds_total = torch.cat((c_preds_total, c_preds), dim=0)\n",
    "        c_total = torch.cat((c_total, c_test), dim=0)\n",
    "        y_preds_total = torch.cat((y_preds_total, y_preds), dim=0)\n",
    "        y_total = torch.cat((y_total, y_test), dim=0)\n",
    "\n",
    "    cf_time, cf_found, cf, c_preds_total, y_cf_total = net.counterfactual_times(test_dl, accelerator, rerun=False, n_times=n, return_cf=True)\n",
    "    print(f'CF Time {n} samples: ', cf_time)\n",
    "    \n",
    "    cf_variability = variability(cf.cpu(), c_preds_total.cpu())\n",
    "    print(f'Variability {n} samples: ', cf_variability)\n",
    "    cf_iou = intersection_over_union(cf.cpu(), c_preds_total.cpu())\n",
    "    print(f'IOU {n} samples (%): ', cf_iou*100)\n",
    "    mean_distance_train = distance_train(cf.cpu(), c_cf_set.cpu(), y_cf_total.detach().cpu(), concept_labels.cpu()).item() / cf.shape[-1]\n",
    "    print(f'Proximity {n} samples (%): ', mean_distance_train*100)\n",
    "    hamming_distance = torch.norm((c_preds_total>0.5).float().cpu() - (cf>0.5).float().cpu(), p=0, dim=-1).mean().item() \n",
    "    delta_sparsity = abs(hamming_distance - oracle_sparsity) / c_cf_total.shape[-1]\n",
    "    print(f'Delta Sparsity {n} samples (%): ', delta_sparsity*100)"
   ]
  },
  {
   "attachments": {},
   "cell_type": "markdown",
   "metadata": {},
   "source": [
    "### Computing metrics for task driven interventions"
   ]
  },
  {
   "cell_type": "code",
   "execution_count": 15,
   "metadata": {},
   "outputs": [
    {
     "name": "stdout",
     "output_type": "stream",
     "text": [
      "--------------0.1 NOISE LEVEL-----------------\n",
      "ROC AUC Task Accuracy 0.1 noise level (%):  98.34950893320392\n",
      "ROC AUC Task Accuracy CF 0.1 noise level (%):  99.99865712001075\n",
      "Accuracy Intervention 0.1 noise level (%):  74.658203125\n",
      "Proximity Intervention 0.1 noise level (%):  0.7952008928571428\n",
      "--------------0.2 NOISE LEVEL-----------------\n",
      "ROC AUC Task Accuracy 0.2 noise level (%):  67.93562721651499\n",
      "ROC AUC Task Accuracy CF 0.2 noise level (%):  99.9948116000415\n",
      "Accuracy Intervention 0.2 noise level (%):  76.025390625\n",
      "Proximity Intervention 0.2 noise level (%):  0.6556919642857143\n",
      "--------------0.5 NOISE LEVEL-----------------\n",
      "ROC AUC Task Accuracy 0.5 noise level (%):  77.86961245704309\n",
      "ROC AUC Task Accuracy CF 0.5 noise level (%):  99.99298040005615\n",
      "Accuracy Intervention 0.5 noise level (%):  75.87890625\n",
      "Proximity Intervention 0.5 noise level (%):  0.68359375\n",
      "--------------1.0 NOISE LEVEL-----------------\n",
      "ROC AUC Task Accuracy 1.0 noise level (%):  0.8283975574937417\n",
      "ROC AUC Task Accuracy CF 1.0 noise level (%):  99.83408215347309\n",
      "Accuracy Intervention 1.0 noise level (%):  73.828125\n",
      "Proximity Intervention 1.0 noise level (%):  0.5998883928571429\n"
     ]
    }
   ],
   "source": [
    "p_list = [0.1, 0.2, 0.5, 1.0]\n",
    "for p in p_list:\n",
    "    print(f'--------------{p} NOISE LEVEL-----------------')\n",
    "    c_preds_total_noise = torch.empty(0, train_dl.dataset[0][1].shape[-1])\n",
    "    c_total = torch.empty(0, train_dl.dataset[0][1].shape[-1])\n",
    "    y_preds_total = torch.empty(0, train_dl.dataset[0][-1].shape[-1])\n",
    "    y_prime_total = torch.empty(0, train_dl.dataset[0][-1].shape[-1])\n",
    "    y_cf_total = torch.empty(0, train_dl.dataset[0][-1].shape[-1])\n",
    "    c_cf_total = torch.empty(0, train_dl.dataset[0][1].shape[-1])\n",
    "    for X_test, c_test, y_test in test_dl:\n",
    "        y_prime = y_test.clone()\n",
    "        y_cf_logits, c_cf, y_preds, c_preds = net.predict_counterfactuals(\n",
    "            X_test, y_prime=y_prime, resample=1, return_cf=True, auto_intervention=p, full=True\n",
    "        )\n",
    "\n",
    "        c_preds_total_noise = torch.cat((c_preds_total_noise, c_preds), dim=0)\n",
    "        c_total = torch.cat((c_total, c_test), dim=0)\n",
    "        y_preds_total = torch.cat((y_preds_total, y_preds), dim=0)\n",
    "        y_prime_total = torch.cat((y_prime_total, y_test), dim=0)\n",
    "        y_cf_total = torch.cat((y_cf_total, y_cf_logits), dim=0)\n",
    "        c_cf_total = torch.cat((c_cf_total, c_cf), dim=0)\n",
    "    \n",
    "    task_accuracy = roc_auc_score(y_prime_total.cpu(), y_preds_total.detach().cpu())\n",
    "    print(f'ROC AUC Task Accuracy {p} noise level (%): ', task_accuracy*100)\n",
    "    task_accuracy_cf = roc_auc_score(y_prime_total.cpu(), y_cf_total.detach().cpu())\n",
    "    print(f'ROC AUC Task Accuracy CF {p} noise level (%): ', task_accuracy_cf*100)\n",
    "    cf_concept_acc = (c_cf_total > 0.5).float().eq(c_total).float().all(dim=-1).float().mean().item()\n",
    "    print(f'Accuracy Intervention {p} noise level (%): ', cf_concept_acc*100)\n",
    "    mean_distance_train = distance_train(c_cf_total.cpu(), c_cf_set.cpu(), y_cf_total.detach().cpu(), concept_labels.cpu()).item() / c_cf_total.shape[-1]\n",
    "    print(f'Proximity Intervention {p} noise level (%): ', mean_distance_train*100)"
   ]
  },
  {
   "attachments": {},
   "cell_type": "markdown",
   "metadata": {},
   "source": [
    "# dSprites with high correlation between color and task"
   ]
  },
  {
   "attachments": {},
   "cell_type": "markdown",
   "metadata": {},
   "source": [
    "## Counterfactual CBM "
   ]
  },
  {
   "cell_type": "code",
   "execution_count": 16,
   "metadata": {},
   "outputs": [],
   "source": [
    "# !python3 experiments/dsprites/save_embeddings_mod.py"
   ]
  },
  {
   "cell_type": "code",
   "execution_count": 17,
   "metadata": {},
   "outputs": [
    {
     "name": "stderr",
     "output_type": "stream",
     "text": [
      "/Users/gabri/Desktop/USI/PhD/GitHub/Counterfactual-CBM/.venv/lib/python3.12/site-packages/pytorch_lightning/utilities/seed.py:48: LightningDeprecationWarning: `pytorch_lightning.utilities.seed.seed_everything` has been deprecated in v1.8.0 and will be removed in v1.10.0. Please use `lightning_lite.utilities.seed.seed_everything` instead.\n",
      "  rank_zero_deprecation(\n",
      "Global seed set to 0\n"
     ]
    },
    {
     "data": {
      "text/plain": [
       "0"
      ]
     },
     "execution_count": 17,
     "metadata": {},
     "output_type": "execute_result"
    }
   ],
   "source": [
    "model = 'CFCBM'\n",
    "\n",
    "# Set seed\n",
    "seed_everything(seed, workers=True)"
   ]
  },
  {
   "attachments": {},
   "cell_type": "markdown",
   "metadata": {},
   "source": [
    "### Loading modified data"
   ]
  },
  {
   "cell_type": "code",
   "execution_count": 18,
   "metadata": {},
   "outputs": [],
   "source": [
    "# Load train data\n",
    "dataset_name = 'dsprites_mod'\n",
    "X, c, y = load_data(dataset_name)\n",
    "if len(y.shape) == 1:\n",
    "    y = y.unsqueeze(1)\n",
    "    # Unique [concepts, labels]\n",
    "    c_cf_set = torch.unique(torch.cat((c, y), dim=-1), dim=0)\n",
    "    concept_labels = c_cf_set[:, -1]\n",
    "    c_cf_set = c_cf_set[:, :-1]\n",
    "else:\n",
    "    c_cf_set = torch.unique(torch.cat((c, torch.argmax(y, dim=-1).unsqueeze(-1)), dim=-1), dim=0)\n",
    "    concept_labels = c_cf_set[:, -1]\n",
    "    c_cf_set = c_cf_set[:, :-1]\n",
    "    concept_labels = one_hot(concept_labels.long(), num_classes=y.shape[1]).float()\n",
    "\n",
    "# Load test data\n",
    "X_test, c_test, y_test = load_data(dataset_name, split='test')\n",
    "if len(y_test.shape) == 1:\n",
    "    y_test = y_test.unsqueeze(1)"
   ]
  },
  {
   "attachments": {},
   "cell_type": "markdown",
   "metadata": {},
   "source": [
    "### Creating directories for results"
   ]
  },
  {
   "cell_type": "code",
   "execution_count": 19,
   "metadata": {},
   "outputs": [],
   "source": [
    "# creates directory for results\n",
    "results_root_dir = f\"./results/\"\n",
    "os.makedirs(results_root_dir, exist_ok=True)\n",
    "results_dir = f\"./results/{dataset_name}/\"\n",
    "os.makedirs(results_dir, exist_ok=True)\n",
    "figures_dir = f\"./results/{dataset_name}/figures/\"\n",
    "os.makedirs(figures_dir, exist_ok=True)\n",
    "log_dir = f\"./results/{dataset_name}/logs/\"\n",
    "os.makedirs(log_dir, exist_ok=True) "
   ]
  },
  {
   "attachments": {},
   "cell_type": "markdown",
   "metadata": {},
   "source": [
    "### Setting up dataloader"
   ]
  },
  {
   "cell_type": "code",
   "execution_count": 20,
   "metadata": {},
   "outputs": [],
   "source": [
    "# Create DataLoader\n",
    "train_data = TensorDataset(X, c, y)\n",
    "train_dl = torch.utils.data.DataLoader(train_data, batch_sampler=torch.utils.data.BatchSampler(RandomSamplerClassBatch(y, batch_size=batch_size, replacement=False), batch_size=batch_size, drop_last=True), pin_memory=True)\n",
    "test_data = TensorDataset(X_test, c_test, y_test)\n",
    "test_dl = torch.utils.data.DataLoader(test_data, batch_sampler=torch.utils.data.BatchSampler(RandomSamplerClassBatch(y_test, batch_size=batch_size, replacement=False), batch_size=batch_size,  drop_last=True), pin_memory=True)"
   ]
  },
  {
   "attachments": {},
   "cell_type": "markdown",
   "metadata": {},
   "source": [
    "### Choosing and training the model"
   ]
  },
  {
   "cell_type": "code",
   "execution_count": 21,
   "metadata": {},
   "outputs": [
    {
     "name": "stderr",
     "output_type": "stream",
     "text": [
      "GPU available: True (mps), used: False\n",
      "TPU available: False, using: 0 TPU cores\n",
      "IPU available: False, using: 0 IPUs\n",
      "HPU available: False, using: 0 HPUs\n",
      "/Users/gabri/Desktop/USI/PhD/GitHub/Counterfactual-CBM/.venv/lib/python3.12/site-packages/pytorch_lightning/trainer/setup.py:200: UserWarning: MPS available but not used. Set `accelerator` and `devices` using `Trainer(accelerator='mps', devices=1)`.\n",
      "  rank_zero_warn(\n",
      "`Trainer(limit_train_batches=1.0)` was configured so 100% of the batches per epoch will be used..\n",
      "`Trainer(limit_val_batches=1.0)` was configured so 100% of the batches will be used..\n",
      "Global seed set to 0\n",
      "/Users/gabri/Desktop/USI/PhD/GitHub/Counterfactual-CBM/.venv/lib/python3.12/site-packages/pytorch_lightning/callbacks/model_checkpoint.py:604: UserWarning: Checkpoint directory ./lightning_logs/abfpjzcl/checkpoints exists and is not empty.\n",
      "  rank_zero_warn(f\"Checkpoint directory {dirpath} exists and is not empty.\")\n",
      "\n",
      "   | Name                       | Type              | Params\n",
      "------------------------------------------------------------------\n",
      "0  | cross_entropy              | BCEWithLogitsLoss | 0     \n",
      "1  | bce                        | BCELoss           | 0     \n",
      "2  | bce_log                    | BCEWithLogitsLoss | 0     \n",
      "3  | model                      | Sequential        | 82.3 K\n",
      "4  | encoder                    | Sequential        | 82.2 K\n",
      "5  | relation_classifiers       | Sequential        | 903   \n",
      "6  | reasoner                   | Sequential        | 8     \n",
      "7  | concept_mean_predictor     | Sequential        | 33.0 K\n",
      "8  | concept_var_predictor      | Sequential        | 33.0 K\n",
      "9  | concept_mean_z3_predictor  | Sequential        | 34.0 K\n",
      "10 | concept_var_z3_predictor   | Sequential        | 34.0 K\n",
      "11 | concept_mean_qz3_predictor | Sequential        | 34.2 K\n",
      "12 | concept_var_qz3_predictor  | Sequential        | 34.2 K\n",
      "13 | concept_predictor          | Sequential        | 17.4 K\n",
      "------------------------------------------------------------------\n",
      "385 K     Trainable params\n",
      "0         Non-trainable params\n",
      "385 K     Total params\n",
      "1.541     Total estimated model params size (MB)\n"
     ]
    },
    {
     "name": "stdout",
     "output_type": "stream",
     "text": [
      "Running CounterfactualCBM_V3(\n",
      "  (cross_entropy): BCEWithLogitsLoss()\n",
      "  (bce): BCELoss()\n",
      "  (bce_log): BCEWithLogitsLoss()\n",
      "  (model): Sequential(\n",
      "    (0): Linear(in_features=512, out_features=128, bias=True)\n",
      "    (1): LeakyReLU(negative_slope=0.01)\n",
      "    (2): Linear(in_features=128, out_features=128, bias=True)\n",
      "    (3): LeakyReLU(negative_slope=0.01)\n",
      "    (4): Linear(in_features=128, out_features=1, bias=True)\n",
      "  )\n",
      "  (encoder): Sequential(\n",
      "    (0): Linear(in_features=512, out_features=128, bias=True)\n",
      "    (1): LeakyReLU(negative_slope=0.01)\n",
      "    (2): Linear(in_features=128, out_features=128, bias=True)\n",
      "    (3): LeakyReLU(negative_slope=0.01)\n",
      "  )\n",
      "  (relation_classifiers): Sequential(\n",
      "    (0): Linear(in_features=128, out_features=7, bias=True)\n",
      "  )\n",
      "  (reasoner): Sequential(\n",
      "    (0): Linear(in_features=7, out_features=1, bias=True)\n",
      "  )\n",
      "  (classification_loss): BCELoss()\n",
      "  (concept_mean_predictor): Sequential(\n",
      "    (0): Linear(in_features=128, out_features=128, bias=True)\n",
      "    (1): LeakyReLU(negative_slope=0.01)\n",
      "    (2): Linear(in_features=128, out_features=128, bias=True)\n",
      "  )\n",
      "  (concept_var_predictor): Sequential(\n",
      "    (0): Linear(in_features=128, out_features=128, bias=True)\n",
      "    (1): LeakyReLU(negative_slope=0.01)\n",
      "    (2): Linear(in_features=128, out_features=128, bias=True)\n",
      "  )\n",
      "  (concept_mean_z3_predictor): Sequential(\n",
      "    (0): Linear(in_features=136, out_features=128, bias=True)\n",
      "    (1): LeakyReLU(negative_slope=0.01)\n",
      "    (2): Linear(in_features=128, out_features=128, bias=True)\n",
      "  )\n",
      "  (concept_var_z3_predictor): Sequential(\n",
      "    (0): Linear(in_features=136, out_features=128, bias=True)\n",
      "    (1): LeakyReLU(negative_slope=0.01)\n",
      "    (2): Linear(in_features=128, out_features=128, bias=True)\n",
      "  )\n",
      "  (concept_mean_qz3_predictor): Sequential(\n",
      "    (0): Linear(in_features=137, out_features=128, bias=True)\n",
      "    (1): LeakyReLU(negative_slope=0.01)\n",
      "    (2): Linear(in_features=128, out_features=128, bias=True)\n",
      "  )\n",
      "  (concept_var_qz3_predictor): Sequential(\n",
      "    (0): Linear(in_features=137, out_features=128, bias=True)\n",
      "    (1): LeakyReLU(negative_slope=0.01)\n",
      "    (2): Linear(in_features=128, out_features=128, bias=True)\n",
      "  )\n",
      "  (concept_predictor): Sequential(\n",
      "    (0): Linear(in_features=128, out_features=128, bias=True)\n",
      "    (1): LeakyReLU(negative_slope=0.01)\n",
      "    (2): Linear(in_features=128, out_features=7, bias=True)\n",
      "  )\n",
      "), epochs=90, learning_rate=0.005\n"
     ]
    },
    {
     "data": {
      "application/vnd.jupyter.widget-view+json": {
       "model_id": "0bbe02759c134e429e0699afbbafcfe2",
       "version_major": 2,
       "version_minor": 0
      },
      "text/plain": [
       "Sanity Checking: 0it [00:00, ?it/s]"
      ]
     },
     "metadata": {},
     "output_type": "display_data"
    },
    {
     "name": "stderr",
     "output_type": "stream",
     "text": [
      "/Users/gabri/Desktop/USI/PhD/GitHub/Counterfactual-CBM/.venv/lib/python3.12/site-packages/pytorch_lightning/trainer/connectors/data_connector.py:224: PossibleUserWarning: The dataloader, val_dataloader 0, does not have many workers which may be a bottleneck. Consider increasing the value of the `num_workers` argument` (try 14 which is the number of cpus on this machine) in the `DataLoader` init to improve performance.\n",
      "  rank_zero_warn(\n",
      "/Users/gabri/Desktop/USI/PhD/GitHub/Counterfactual-CBM/.venv/lib/python3.12/site-packages/pytorch_lightning/trainer/connectors/data_connector.py:224: PossibleUserWarning: The dataloader, train_dataloader, does not have many workers which may be a bottleneck. Consider increasing the value of the `num_workers` argument` (try 14 which is the number of cpus on this machine) in the `DataLoader` init to improve performance.\n",
      "  rank_zero_warn(\n",
      "/Users/gabri/Desktop/USI/PhD/GitHub/Counterfactual-CBM/.venv/lib/python3.12/site-packages/pytorch_lightning/trainer/trainer.py:1595: PossibleUserWarning: The number of training batches (7) is smaller than the logging interval Trainer(log_every_n_steps=50). Set a lower value for log_every_n_steps if you want to see logs for the training epoch.\n",
      "  rank_zero_warn(\n"
     ]
    },
    {
     "data": {
      "application/vnd.jupyter.widget-view+json": {
       "model_id": "495c6470159b4124a21034f8c3de5cda",
       "version_major": 2,
       "version_minor": 0
      },
      "text/plain": [
       "Training: 0it [00:00, ?it/s]"
      ]
     },
     "metadata": {},
     "output_type": "display_data"
    },
    {
     "name": "stderr",
     "output_type": "stream",
     "text": [
      "/Users/gabri/Desktop/USI/PhD/GitHub/Counterfactual-CBM/.venv/lib/python3.12/site-packages/sklearn/metrics/_ranking.py:379: UndefinedMetricWarning: Only one class is present in y_true. ROC AUC score is not defined in that case.\n",
      "  warnings.warn(\n"
     ]
    },
    {
     "data": {
      "application/vnd.jupyter.widget-view+json": {
       "model_id": "79c6d13231314d67a6b93f68788500b2",
       "version_major": 2,
       "version_minor": 0
      },
      "text/plain": [
       "Validation: 0it [00:00, ?it/s]"
      ]
     },
     "metadata": {},
     "output_type": "display_data"
    },
    {
     "data": {
      "application/vnd.jupyter.widget-view+json": {
       "model_id": "ad3a362542764c17a561ce880427876a",
       "version_major": 2,
       "version_minor": 0
      },
      "text/plain": [
       "Validation: 0it [00:00, ?it/s]"
      ]
     },
     "metadata": {},
     "output_type": "display_data"
    },
    {
     "data": {
      "application/vnd.jupyter.widget-view+json": {
       "model_id": "62fac03709024c668dc1ce5bfb27227a",
       "version_major": 2,
       "version_minor": 0
      },
      "text/plain": [
       "Validation: 0it [00:00, ?it/s]"
      ]
     },
     "metadata": {},
     "output_type": "display_data"
    },
    {
     "data": {
      "application/vnd.jupyter.widget-view+json": {
       "model_id": "eb2a3b607e6a4c149dd01f3883a8999d",
       "version_major": 2,
       "version_minor": 0
      },
      "text/plain": [
       "Validation: 0it [00:00, ?it/s]"
      ]
     },
     "metadata": {},
     "output_type": "display_data"
    },
    {
     "data": {
      "application/vnd.jupyter.widget-view+json": {
       "model_id": "14dff0a701f8443ca2c2d0274d13abf3",
       "version_major": 2,
       "version_minor": 0
      },
      "text/plain": [
       "Validation: 0it [00:00, ?it/s]"
      ]
     },
     "metadata": {},
     "output_type": "display_data"
    },
    {
     "data": {
      "application/vnd.jupyter.widget-view+json": {
       "model_id": "883ad9b334154c4da402ca40d944b834",
       "version_major": 2,
       "version_minor": 0
      },
      "text/plain": [
       "Validation: 0it [00:00, ?it/s]"
      ]
     },
     "metadata": {},
     "output_type": "display_data"
    },
    {
     "data": {
      "application/vnd.jupyter.widget-view+json": {
       "model_id": "9fc5a85541384e0bbca397b708e1680c",
       "version_major": 2,
       "version_minor": 0
      },
      "text/plain": [
       "Validation: 0it [00:00, ?it/s]"
      ]
     },
     "metadata": {},
     "output_type": "display_data"
    },
    {
     "data": {
      "application/vnd.jupyter.widget-view+json": {
       "model_id": "44a93873db2549d5a3c2a6ee0bcdda2b",
       "version_major": 2,
       "version_minor": 0
      },
      "text/plain": [
       "Validation: 0it [00:00, ?it/s]"
      ]
     },
     "metadata": {},
     "output_type": "display_data"
    },
    {
     "data": {
      "application/vnd.jupyter.widget-view+json": {
       "model_id": "1c885c263c7d40699429b3d0b0b3bad6",
       "version_major": 2,
       "version_minor": 0
      },
      "text/plain": [
       "Validation: 0it [00:00, ?it/s]"
      ]
     },
     "metadata": {},
     "output_type": "display_data"
    },
    {
     "data": {
      "application/vnd.jupyter.widget-view+json": {
       "model_id": "96ac42b3b73f4f309e39d3214e8d377b",
       "version_major": 2,
       "version_minor": 0
      },
      "text/plain": [
       "Validation: 0it [00:00, ?it/s]"
      ]
     },
     "metadata": {},
     "output_type": "display_data"
    },
    {
     "data": {
      "application/vnd.jupyter.widget-view+json": {
       "model_id": "7cc1a07d2ba949bba39e1224893f3c7c",
       "version_major": 2,
       "version_minor": 0
      },
      "text/plain": [
       "Validation: 0it [00:00, ?it/s]"
      ]
     },
     "metadata": {},
     "output_type": "display_data"
    },
    {
     "data": {
      "application/vnd.jupyter.widget-view+json": {
       "model_id": "ee45bf83df904e43b1fb8d8d600663d7",
       "version_major": 2,
       "version_minor": 0
      },
      "text/plain": [
       "Validation: 0it [00:00, ?it/s]"
      ]
     },
     "metadata": {},
     "output_type": "display_data"
    },
    {
     "data": {
      "application/vnd.jupyter.widget-view+json": {
       "model_id": "ba29f637f048403495df0a4cccb02127",
       "version_major": 2,
       "version_minor": 0
      },
      "text/plain": [
       "Validation: 0it [00:00, ?it/s]"
      ]
     },
     "metadata": {},
     "output_type": "display_data"
    },
    {
     "data": {
      "application/vnd.jupyter.widget-view+json": {
       "model_id": "8427799de219434d875d4f1c4e0f25c9",
       "version_major": 2,
       "version_minor": 0
      },
      "text/plain": [
       "Validation: 0it [00:00, ?it/s]"
      ]
     },
     "metadata": {},
     "output_type": "display_data"
    },
    {
     "data": {
      "application/vnd.jupyter.widget-view+json": {
       "model_id": "4be40abfd6cb4fe196269854f771d487",
       "version_major": 2,
       "version_minor": 0
      },
      "text/plain": [
       "Validation: 0it [00:00, ?it/s]"
      ]
     },
     "metadata": {},
     "output_type": "display_data"
    },
    {
     "data": {
      "application/vnd.jupyter.widget-view+json": {
       "model_id": "e23c3135fb5e4112a306ab261dab4416",
       "version_major": 2,
       "version_minor": 0
      },
      "text/plain": [
       "Validation: 0it [00:00, ?it/s]"
      ]
     },
     "metadata": {},
     "output_type": "display_data"
    },
    {
     "data": {
      "application/vnd.jupyter.widget-view+json": {
       "model_id": "1bc48bade6a04719919e1748d1f13329",
       "version_major": 2,
       "version_minor": 0
      },
      "text/plain": [
       "Validation: 0it [00:00, ?it/s]"
      ]
     },
     "metadata": {},
     "output_type": "display_data"
    },
    {
     "data": {
      "application/vnd.jupyter.widget-view+json": {
       "model_id": "ab4622b9ad374d458165c2a61afe3240",
       "version_major": 2,
       "version_minor": 0
      },
      "text/plain": [
       "Validation: 0it [00:00, ?it/s]"
      ]
     },
     "metadata": {},
     "output_type": "display_data"
    },
    {
     "data": {
      "application/vnd.jupyter.widget-view+json": {
       "model_id": "098c8327c01545528fd60c6bae14bd19",
       "version_major": 2,
       "version_minor": 0
      },
      "text/plain": [
       "Validation: 0it [00:00, ?it/s]"
      ]
     },
     "metadata": {},
     "output_type": "display_data"
    },
    {
     "data": {
      "application/vnd.jupyter.widget-view+json": {
       "model_id": "5eab6adf5c284eeea217a6b349c10c57",
       "version_major": 2,
       "version_minor": 0
      },
      "text/plain": [
       "Validation: 0it [00:00, ?it/s]"
      ]
     },
     "metadata": {},
     "output_type": "display_data"
    },
    {
     "data": {
      "application/vnd.jupyter.widget-view+json": {
       "model_id": "cc88b51a68054111a49db55625599a15",
       "version_major": 2,
       "version_minor": 0
      },
      "text/plain": [
       "Validation: 0it [00:00, ?it/s]"
      ]
     },
     "metadata": {},
     "output_type": "display_data"
    },
    {
     "data": {
      "application/vnd.jupyter.widget-view+json": {
       "model_id": "e7d86591771e458092bc1ae837c54b9e",
       "version_major": 2,
       "version_minor": 0
      },
      "text/plain": [
       "Validation: 0it [00:00, ?it/s]"
      ]
     },
     "metadata": {},
     "output_type": "display_data"
    },
    {
     "data": {
      "application/vnd.jupyter.widget-view+json": {
       "model_id": "cc1a49b12a0546329775620aaad87c55",
       "version_major": 2,
       "version_minor": 0
      },
      "text/plain": [
       "Validation: 0it [00:00, ?it/s]"
      ]
     },
     "metadata": {},
     "output_type": "display_data"
    },
    {
     "data": {
      "application/vnd.jupyter.widget-view+json": {
       "model_id": "e6de7510a9cc43e09374039727bb9ad2",
       "version_major": 2,
       "version_minor": 0
      },
      "text/plain": [
       "Validation: 0it [00:00, ?it/s]"
      ]
     },
     "metadata": {},
     "output_type": "display_data"
    },
    {
     "data": {
      "application/vnd.jupyter.widget-view+json": {
       "model_id": "734a557122a0448cb75083d9fcd0639b",
       "version_major": 2,
       "version_minor": 0
      },
      "text/plain": [
       "Validation: 0it [00:00, ?it/s]"
      ]
     },
     "metadata": {},
     "output_type": "display_data"
    },
    {
     "data": {
      "application/vnd.jupyter.widget-view+json": {
       "model_id": "8e8ec749050647f9997798cbaf138764",
       "version_major": 2,
       "version_minor": 0
      },
      "text/plain": [
       "Validation: 0it [00:00, ?it/s]"
      ]
     },
     "metadata": {},
     "output_type": "display_data"
    },
    {
     "data": {
      "application/vnd.jupyter.widget-view+json": {
       "model_id": "9d010a5f9a894e93a7bc7f284beedd59",
       "version_major": 2,
       "version_minor": 0
      },
      "text/plain": [
       "Validation: 0it [00:00, ?it/s]"
      ]
     },
     "metadata": {},
     "output_type": "display_data"
    },
    {
     "data": {
      "application/vnd.jupyter.widget-view+json": {
       "model_id": "50baa4da657b459495f467949eca6d51",
       "version_major": 2,
       "version_minor": 0
      },
      "text/plain": [
       "Validation: 0it [00:00, ?it/s]"
      ]
     },
     "metadata": {},
     "output_type": "display_data"
    },
    {
     "data": {
      "application/vnd.jupyter.widget-view+json": {
       "model_id": "2268c493993241db97b92d0f3bbe0e22",
       "version_major": 2,
       "version_minor": 0
      },
      "text/plain": [
       "Validation: 0it [00:00, ?it/s]"
      ]
     },
     "metadata": {},
     "output_type": "display_data"
    },
    {
     "data": {
      "application/vnd.jupyter.widget-view+json": {
       "model_id": "121129d091584acbaae1ce29aaf26ec7",
       "version_major": 2,
       "version_minor": 0
      },
      "text/plain": [
       "Validation: 0it [00:00, ?it/s]"
      ]
     },
     "metadata": {},
     "output_type": "display_data"
    },
    {
     "data": {
      "application/vnd.jupyter.widget-view+json": {
       "model_id": "97e6bdc8fcd94a28b2facac3ad4265ac",
       "version_major": 2,
       "version_minor": 0
      },
      "text/plain": [
       "Validation: 0it [00:00, ?it/s]"
      ]
     },
     "metadata": {},
     "output_type": "display_data"
    },
    {
     "data": {
      "application/vnd.jupyter.widget-view+json": {
       "model_id": "a23c70894f6a4781a29589b955ba633c",
       "version_major": 2,
       "version_minor": 0
      },
      "text/plain": [
       "Validation: 0it [00:00, ?it/s]"
      ]
     },
     "metadata": {},
     "output_type": "display_data"
    },
    {
     "data": {
      "application/vnd.jupyter.widget-view+json": {
       "model_id": "046abfcc42174d2e91f5864b1cdc938e",
       "version_major": 2,
       "version_minor": 0
      },
      "text/plain": [
       "Validation: 0it [00:00, ?it/s]"
      ]
     },
     "metadata": {},
     "output_type": "display_data"
    },
    {
     "data": {
      "application/vnd.jupyter.widget-view+json": {
       "model_id": "15aad9b31f864d7885aa9862d982880e",
       "version_major": 2,
       "version_minor": 0
      },
      "text/plain": [
       "Validation: 0it [00:00, ?it/s]"
      ]
     },
     "metadata": {},
     "output_type": "display_data"
    },
    {
     "data": {
      "application/vnd.jupyter.widget-view+json": {
       "model_id": "2753f6940b7b48f385553bd3332037cc",
       "version_major": 2,
       "version_minor": 0
      },
      "text/plain": [
       "Validation: 0it [00:00, ?it/s]"
      ]
     },
     "metadata": {},
     "output_type": "display_data"
    },
    {
     "data": {
      "application/vnd.jupyter.widget-view+json": {
       "model_id": "51903050d77a40aba934a7c1757c3c5f",
       "version_major": 2,
       "version_minor": 0
      },
      "text/plain": [
       "Validation: 0it [00:00, ?it/s]"
      ]
     },
     "metadata": {},
     "output_type": "display_data"
    },
    {
     "data": {
      "application/vnd.jupyter.widget-view+json": {
       "model_id": "da8ffab187d34edf8534e2f1f986e305",
       "version_major": 2,
       "version_minor": 0
      },
      "text/plain": [
       "Validation: 0it [00:00, ?it/s]"
      ]
     },
     "metadata": {},
     "output_type": "display_data"
    },
    {
     "data": {
      "application/vnd.jupyter.widget-view+json": {
       "model_id": "f9067b75250b4743868e2d6df9076915",
       "version_major": 2,
       "version_minor": 0
      },
      "text/plain": [
       "Validation: 0it [00:00, ?it/s]"
      ]
     },
     "metadata": {},
     "output_type": "display_data"
    },
    {
     "data": {
      "application/vnd.jupyter.widget-view+json": {
       "model_id": "031b1040781e4a529045192e13e9dc0f",
       "version_major": 2,
       "version_minor": 0
      },
      "text/plain": [
       "Validation: 0it [00:00, ?it/s]"
      ]
     },
     "metadata": {},
     "output_type": "display_data"
    },
    {
     "data": {
      "application/vnd.jupyter.widget-view+json": {
       "model_id": "7c7defc9809e48a38c626a8cee896ac7",
       "version_major": 2,
       "version_minor": 0
      },
      "text/plain": [
       "Validation: 0it [00:00, ?it/s]"
      ]
     },
     "metadata": {},
     "output_type": "display_data"
    },
    {
     "data": {
      "application/vnd.jupyter.widget-view+json": {
       "model_id": "e1f946cc7d4b45af9db2a4878a39fc82",
       "version_major": 2,
       "version_minor": 0
      },
      "text/plain": [
       "Validation: 0it [00:00, ?it/s]"
      ]
     },
     "metadata": {},
     "output_type": "display_data"
    },
    {
     "data": {
      "application/vnd.jupyter.widget-view+json": {
       "model_id": "2c3b8a1bb9ef41ddbf134a3defcc9482",
       "version_major": 2,
       "version_minor": 0
      },
      "text/plain": [
       "Validation: 0it [00:00, ?it/s]"
      ]
     },
     "metadata": {},
     "output_type": "display_data"
    },
    {
     "data": {
      "application/vnd.jupyter.widget-view+json": {
       "model_id": "8d5d7adea49240d8b1d15a361253a25d",
       "version_major": 2,
       "version_minor": 0
      },
      "text/plain": [
       "Validation: 0it [00:00, ?it/s]"
      ]
     },
     "metadata": {},
     "output_type": "display_data"
    },
    {
     "data": {
      "application/vnd.jupyter.widget-view+json": {
       "model_id": "5ecb6f1a15d44f9597cbe1b06a9a8dcb",
       "version_major": 2,
       "version_minor": 0
      },
      "text/plain": [
       "Validation: 0it [00:00, ?it/s]"
      ]
     },
     "metadata": {},
     "output_type": "display_data"
    },
    {
     "data": {
      "application/vnd.jupyter.widget-view+json": {
       "model_id": "d20aafdaceb443be9a38364170d77620",
       "version_major": 2,
       "version_minor": 0
      },
      "text/plain": [
       "Validation: 0it [00:00, ?it/s]"
      ]
     },
     "metadata": {},
     "output_type": "display_data"
    },
    {
     "data": {
      "application/vnd.jupyter.widget-view+json": {
       "model_id": "3a8359b31c914b9c99358ff53a15bfa9",
       "version_major": 2,
       "version_minor": 0
      },
      "text/plain": [
       "Validation: 0it [00:00, ?it/s]"
      ]
     },
     "metadata": {},
     "output_type": "display_data"
    },
    {
     "data": {
      "application/vnd.jupyter.widget-view+json": {
       "model_id": "2216366bb0d34f328587f57a11e6f092",
       "version_major": 2,
       "version_minor": 0
      },
      "text/plain": [
       "Validation: 0it [00:00, ?it/s]"
      ]
     },
     "metadata": {},
     "output_type": "display_data"
    },
    {
     "data": {
      "application/vnd.jupyter.widget-view+json": {
       "model_id": "0c7473276b1943a3ba7f3850c4de14de",
       "version_major": 2,
       "version_minor": 0
      },
      "text/plain": [
       "Validation: 0it [00:00, ?it/s]"
      ]
     },
     "metadata": {},
     "output_type": "display_data"
    },
    {
     "data": {
      "application/vnd.jupyter.widget-view+json": {
       "model_id": "29cfc0565f2746d5ae2a5f53425c9eef",
       "version_major": 2,
       "version_minor": 0
      },
      "text/plain": [
       "Validation: 0it [00:00, ?it/s]"
      ]
     },
     "metadata": {},
     "output_type": "display_data"
    },
    {
     "data": {
      "application/vnd.jupyter.widget-view+json": {
       "model_id": "41b8a09ff80548818f70fc399304008e",
       "version_major": 2,
       "version_minor": 0
      },
      "text/plain": [
       "Validation: 0it [00:00, ?it/s]"
      ]
     },
     "metadata": {},
     "output_type": "display_data"
    },
    {
     "data": {
      "application/vnd.jupyter.widget-view+json": {
       "model_id": "3c84a6b02e414acd8a17c1a95cdb02e3",
       "version_major": 2,
       "version_minor": 0
      },
      "text/plain": [
       "Validation: 0it [00:00, ?it/s]"
      ]
     },
     "metadata": {},
     "output_type": "display_data"
    },
    {
     "data": {
      "application/vnd.jupyter.widget-view+json": {
       "model_id": "cf9152ba1d134584acd5f5b339442ec2",
       "version_major": 2,
       "version_minor": 0
      },
      "text/plain": [
       "Validation: 0it [00:00, ?it/s]"
      ]
     },
     "metadata": {},
     "output_type": "display_data"
    },
    {
     "data": {
      "application/vnd.jupyter.widget-view+json": {
       "model_id": "b21d476342a34018bc4498e2cee32bf4",
       "version_major": 2,
       "version_minor": 0
      },
      "text/plain": [
       "Validation: 0it [00:00, ?it/s]"
      ]
     },
     "metadata": {},
     "output_type": "display_data"
    },
    {
     "data": {
      "application/vnd.jupyter.widget-view+json": {
       "model_id": "f70de5fafb9d46ddb5456c1dd7577c3d",
       "version_major": 2,
       "version_minor": 0
      },
      "text/plain": [
       "Validation: 0it [00:00, ?it/s]"
      ]
     },
     "metadata": {},
     "output_type": "display_data"
    },
    {
     "data": {
      "application/vnd.jupyter.widget-view+json": {
       "model_id": "e193650b9f6840d1b29a3e91fa78c3f0",
       "version_major": 2,
       "version_minor": 0
      },
      "text/plain": [
       "Validation: 0it [00:00, ?it/s]"
      ]
     },
     "metadata": {},
     "output_type": "display_data"
    },
    {
     "data": {
      "application/vnd.jupyter.widget-view+json": {
       "model_id": "062ad2a70bda4b4d857e367e2ac2d90d",
       "version_major": 2,
       "version_minor": 0
      },
      "text/plain": [
       "Validation: 0it [00:00, ?it/s]"
      ]
     },
     "metadata": {},
     "output_type": "display_data"
    },
    {
     "data": {
      "application/vnd.jupyter.widget-view+json": {
       "model_id": "35d78c37654243d58e358fa2db3e68ee",
       "version_major": 2,
       "version_minor": 0
      },
      "text/plain": [
       "Validation: 0it [00:00, ?it/s]"
      ]
     },
     "metadata": {},
     "output_type": "display_data"
    },
    {
     "data": {
      "application/vnd.jupyter.widget-view+json": {
       "model_id": "eaa6f9f019614d40a2cb9934dd3e7f23",
       "version_major": 2,
       "version_minor": 0
      },
      "text/plain": [
       "Validation: 0it [00:00, ?it/s]"
      ]
     },
     "metadata": {},
     "output_type": "display_data"
    },
    {
     "data": {
      "application/vnd.jupyter.widget-view+json": {
       "model_id": "04268c6b66594673a0709667664e35fb",
       "version_major": 2,
       "version_minor": 0
      },
      "text/plain": [
       "Validation: 0it [00:00, ?it/s]"
      ]
     },
     "metadata": {},
     "output_type": "display_data"
    },
    {
     "data": {
      "application/vnd.jupyter.widget-view+json": {
       "model_id": "48681667d0de4e3ea842ef44df117ed1",
       "version_major": 2,
       "version_minor": 0
      },
      "text/plain": [
       "Validation: 0it [00:00, ?it/s]"
      ]
     },
     "metadata": {},
     "output_type": "display_data"
    },
    {
     "data": {
      "application/vnd.jupyter.widget-view+json": {
       "model_id": "eae54510004748fda129ec8fb250d3cd",
       "version_major": 2,
       "version_minor": 0
      },
      "text/plain": [
       "Validation: 0it [00:00, ?it/s]"
      ]
     },
     "metadata": {},
     "output_type": "display_data"
    },
    {
     "data": {
      "application/vnd.jupyter.widget-view+json": {
       "model_id": "0b16dc6e4b5d4de4a34595be417de631",
       "version_major": 2,
       "version_minor": 0
      },
      "text/plain": [
       "Validation: 0it [00:00, ?it/s]"
      ]
     },
     "metadata": {},
     "output_type": "display_data"
    },
    {
     "data": {
      "application/vnd.jupyter.widget-view+json": {
       "model_id": "2aa410b8c1ad4756800434c24523421a",
       "version_major": 2,
       "version_minor": 0
      },
      "text/plain": [
       "Validation: 0it [00:00, ?it/s]"
      ]
     },
     "metadata": {},
     "output_type": "display_data"
    },
    {
     "data": {
      "application/vnd.jupyter.widget-view+json": {
       "model_id": "4c629cc059c5426fa6e6cbc0bd728a8f",
       "version_major": 2,
       "version_minor": 0
      },
      "text/plain": [
       "Validation: 0it [00:00, ?it/s]"
      ]
     },
     "metadata": {},
     "output_type": "display_data"
    },
    {
     "data": {
      "application/vnd.jupyter.widget-view+json": {
       "model_id": "a1169fbab47c441aba21aaf7d9af8197",
       "version_major": 2,
       "version_minor": 0
      },
      "text/plain": [
       "Validation: 0it [00:00, ?it/s]"
      ]
     },
     "metadata": {},
     "output_type": "display_data"
    },
    {
     "data": {
      "application/vnd.jupyter.widget-view+json": {
       "model_id": "ba4543d457a84ac992d433d0aeb0653d",
       "version_major": 2,
       "version_minor": 0
      },
      "text/plain": [
       "Validation: 0it [00:00, ?it/s]"
      ]
     },
     "metadata": {},
     "output_type": "display_data"
    },
    {
     "data": {
      "application/vnd.jupyter.widget-view+json": {
       "model_id": "ef35e2d3c7c54595a07cd3fd05c44816",
       "version_major": 2,
       "version_minor": 0
      },
      "text/plain": [
       "Validation: 0it [00:00, ?it/s]"
      ]
     },
     "metadata": {},
     "output_type": "display_data"
    },
    {
     "data": {
      "application/vnd.jupyter.widget-view+json": {
       "model_id": "6523e802a90f49259bf3554c5f50720f",
       "version_major": 2,
       "version_minor": 0
      },
      "text/plain": [
       "Validation: 0it [00:00, ?it/s]"
      ]
     },
     "metadata": {},
     "output_type": "display_data"
    },
    {
     "data": {
      "application/vnd.jupyter.widget-view+json": {
       "model_id": "5a4e0c76f9ee429fa1d625ffc63bc12a",
       "version_major": 2,
       "version_minor": 0
      },
      "text/plain": [
       "Validation: 0it [00:00, ?it/s]"
      ]
     },
     "metadata": {},
     "output_type": "display_data"
    },
    {
     "data": {
      "application/vnd.jupyter.widget-view+json": {
       "model_id": "eab7c3145e314e648c528d331e326078",
       "version_major": 2,
       "version_minor": 0
      },
      "text/plain": [
       "Validation: 0it [00:00, ?it/s]"
      ]
     },
     "metadata": {},
     "output_type": "display_data"
    },
    {
     "data": {
      "application/vnd.jupyter.widget-view+json": {
       "model_id": "93e2d1cf80b14e6ebfbcf693ab4a3373",
       "version_major": 2,
       "version_minor": 0
      },
      "text/plain": [
       "Validation: 0it [00:00, ?it/s]"
      ]
     },
     "metadata": {},
     "output_type": "display_data"
    },
    {
     "data": {
      "application/vnd.jupyter.widget-view+json": {
       "model_id": "981ff521d14c48de8d278c95449758fb",
       "version_major": 2,
       "version_minor": 0
      },
      "text/plain": [
       "Validation: 0it [00:00, ?it/s]"
      ]
     },
     "metadata": {},
     "output_type": "display_data"
    },
    {
     "data": {
      "application/vnd.jupyter.widget-view+json": {
       "model_id": "62055dab6420408886e1fb331e4344b1",
       "version_major": 2,
       "version_minor": 0
      },
      "text/plain": [
       "Validation: 0it [00:00, ?it/s]"
      ]
     },
     "metadata": {},
     "output_type": "display_data"
    },
    {
     "data": {
      "application/vnd.jupyter.widget-view+json": {
       "model_id": "8ff387de6b454bafb5bd999b2d5f43bc",
       "version_major": 2,
       "version_minor": 0
      },
      "text/plain": [
       "Validation: 0it [00:00, ?it/s]"
      ]
     },
     "metadata": {},
     "output_type": "display_data"
    },
    {
     "data": {
      "application/vnd.jupyter.widget-view+json": {
       "model_id": "3623b37550ed49ffbda1b274878a2f0c",
       "version_major": 2,
       "version_minor": 0
      },
      "text/plain": [
       "Validation: 0it [00:00, ?it/s]"
      ]
     },
     "metadata": {},
     "output_type": "display_data"
    },
    {
     "data": {
      "application/vnd.jupyter.widget-view+json": {
       "model_id": "aeaf9a67b7f9482b80b9d4365aa901e7",
       "version_major": 2,
       "version_minor": 0
      },
      "text/plain": [
       "Validation: 0it [00:00, ?it/s]"
      ]
     },
     "metadata": {},
     "output_type": "display_data"
    },
    {
     "data": {
      "application/vnd.jupyter.widget-view+json": {
       "model_id": "f4f401a8a0754b6c8f6818a881a1f0e4",
       "version_major": 2,
       "version_minor": 0
      },
      "text/plain": [
       "Validation: 0it [00:00, ?it/s]"
      ]
     },
     "metadata": {},
     "output_type": "display_data"
    },
    {
     "data": {
      "application/vnd.jupyter.widget-view+json": {
       "model_id": "5a5ae0e5a2f243f4a1bc5ebdb32afcf3",
       "version_major": 2,
       "version_minor": 0
      },
      "text/plain": [
       "Validation: 0it [00:00, ?it/s]"
      ]
     },
     "metadata": {},
     "output_type": "display_data"
    },
    {
     "data": {
      "application/vnd.jupyter.widget-view+json": {
       "model_id": "27867325ba6b4ffa9f65511404d4e6bb",
       "version_major": 2,
       "version_minor": 0
      },
      "text/plain": [
       "Validation: 0it [00:00, ?it/s]"
      ]
     },
     "metadata": {},
     "output_type": "display_data"
    },
    {
     "data": {
      "application/vnd.jupyter.widget-view+json": {
       "model_id": "65f0655fb7394573a45f287cd4251404",
       "version_major": 2,
       "version_minor": 0
      },
      "text/plain": [
       "Validation: 0it [00:00, ?it/s]"
      ]
     },
     "metadata": {},
     "output_type": "display_data"
    },
    {
     "data": {
      "application/vnd.jupyter.widget-view+json": {
       "model_id": "ccefb2ff92934bda8343b25c9837dc7b",
       "version_major": 2,
       "version_minor": 0
      },
      "text/plain": [
       "Validation: 0it [00:00, ?it/s]"
      ]
     },
     "metadata": {},
     "output_type": "display_data"
    },
    {
     "data": {
      "application/vnd.jupyter.widget-view+json": {
       "model_id": "45398366509341e4a4abe6c33199f385",
       "version_major": 2,
       "version_minor": 0
      },
      "text/plain": [
       "Validation: 0it [00:00, ?it/s]"
      ]
     },
     "metadata": {},
     "output_type": "display_data"
    },
    {
     "data": {
      "application/vnd.jupyter.widget-view+json": {
       "model_id": "7ff37e3e6a1e4fd7b0abbfdec6313076",
       "version_major": 2,
       "version_minor": 0
      },
      "text/plain": [
       "Validation: 0it [00:00, ?it/s]"
      ]
     },
     "metadata": {},
     "output_type": "display_data"
    },
    {
     "data": {
      "application/vnd.jupyter.widget-view+json": {
       "model_id": "5d454ca9e84b4ba7843afa8b9ff0179e",
       "version_major": 2,
       "version_minor": 0
      },
      "text/plain": [
       "Validation: 0it [00:00, ?it/s]"
      ]
     },
     "metadata": {},
     "output_type": "display_data"
    },
    {
     "data": {
      "application/vnd.jupyter.widget-view+json": {
       "model_id": "8cfe2ed8e5534d8eb72e6a93f36a85c1",
       "version_major": 2,
       "version_minor": 0
      },
      "text/plain": [
       "Validation: 0it [00:00, ?it/s]"
      ]
     },
     "metadata": {},
     "output_type": "display_data"
    },
    {
     "data": {
      "application/vnd.jupyter.widget-view+json": {
       "model_id": "31f3c4b961ca4452beb03842fe9e60dc",
       "version_major": 2,
       "version_minor": 0
      },
      "text/plain": [
       "Validation: 0it [00:00, ?it/s]"
      ]
     },
     "metadata": {},
     "output_type": "display_data"
    },
    {
     "data": {
      "application/vnd.jupyter.widget-view+json": {
       "model_id": "4cc7dbfde67b492caef49822a7702cc3",
       "version_major": 2,
       "version_minor": 0
      },
      "text/plain": [
       "Validation: 0it [00:00, ?it/s]"
      ]
     },
     "metadata": {},
     "output_type": "display_data"
    },
    {
     "data": {
      "application/vnd.jupyter.widget-view+json": {
       "model_id": "93a8de4b1b064d23918fd8b5f6a01997",
       "version_major": 2,
       "version_minor": 0
      },
      "text/plain": [
       "Validation: 0it [00:00, ?it/s]"
      ]
     },
     "metadata": {},
     "output_type": "display_data"
    },
    {
     "data": {
      "application/vnd.jupyter.widget-view+json": {
       "model_id": "bca9ea086dca42b48bbc0526e20ee7f4",
       "version_major": 2,
       "version_minor": 0
      },
      "text/plain": [
       "Validation: 0it [00:00, ?it/s]"
      ]
     },
     "metadata": {},
     "output_type": "display_data"
    },
    {
     "data": {
      "application/vnd.jupyter.widget-view+json": {
       "model_id": "f850ec6f7fd249c98fc917fad599970a",
       "version_major": 2,
       "version_minor": 0
      },
      "text/plain": [
       "Validation: 0it [00:00, ?it/s]"
      ]
     },
     "metadata": {},
     "output_type": "display_data"
    },
    {
     "name": "stderr",
     "output_type": "stream",
     "text": [
      "`Trainer.fit` stopped: `max_epochs=90` reached.\n"
     ]
    },
    {
     "name": "stdout",
     "output_type": "stream",
     "text": [
      "Best train acc: 0.935771107673645, Epoch: 88\n"
     ]
    }
   ],
   "source": [
    "# Define models\n",
    "models = {\n",
    "            'Oracle': Oracle(),\n",
    "            'DeepNN': StandardE2E(X.shape[1], y.shape[1], emb_size, learning_rate),\n",
    "            'StandardCBM': StandardCBM(X.shape[1], c.shape[1], y.shape[1], emb_size, learning_rate, bool_concepts=True, deep=False),\n",
    "            'CFCBM': CounterfactualCBM_V3(X.shape[1], c.shape[1], y.shape[1], emb_size, c_cf_set, concept_labels, learning_rate=learning_rate, resample=0, bernulli=False, deep=False, reconstruction=False),\n",
    "            'VAECF': (StandardCBM(X.shape[1], c.shape[1], y.shape[1], emb_size, learning_rate, bool_concepts=True, deep=True), \n",
    "                      VAE_CF(c.shape[1], y.shape[1], emb_size, None, learning_rate)),\n",
    "            'CCHVAE': (StandardCBM(X.shape[1], c.shape[1], y.shape[1], emb_size, learning_rate, bool_concepts=True, deep=True),\n",
    "                       CCHVAE(c.shape[1], y.shape[1], emb_size, None, learning_rate)),\n",
    "            'VCNET': ConceptVCNet(X.shape[1], c.shape[1], y.shape[1], emb_size, learning_rate, bool_concepts=True, deep=True),\n",
    "            'BayCon': StandardCBM(X.shape[1], c.shape[1], y.shape[1], emb_size, learning_rate, bool_concepts=True, deep=True),\n",
    "        }\n",
    "net = models[model]\n",
    "net = train_model(net, 90, learning_rate, seed, train_dl, test_dl, results_dir, accelerator, wandb_logger)"
   ]
  },
  {
   "attachments": {},
   "cell_type": "markdown",
   "metadata": {},
   "source": [
    "### Testing the model and saving the output"
   ]
  },
  {
   "cell_type": "code",
   "execution_count": 22,
   "metadata": {},
   "outputs": [],
   "source": [
    "# Testing the model \n",
    "c_preds_total = torch.empty(0, train_dl.dataset[0][1].shape[-1])\n",
    "c_total = torch.empty(0, train_dl.dataset[0][1].shape[-1])\n",
    "y_preds_total = torch.empty(0, train_dl.dataset[0][-1].shape[-1])\n",
    "y_total = torch.empty(0, train_dl.dataset[0][-1].shape[-1])\n",
    "y_cf_total = torch.empty(0, train_dl.dataset[0][-1].shape[-1])\n",
    "y_cf_target_total = torch.empty(0, train_dl.dataset[0][-1].shape[-1])\n",
    "c_cf_total = torch.empty(0, train_dl.dataset[0][1].shape[-1])\n",
    "z2_total = torch.empty(0, net.emb_size)\n",
    "z3_total = torch.empty(0, net.emb_size)\n",
    "\n",
    "for X_test, c_test, y_test in test_dl:\n",
    "    y_prime = randomize_class(y_test, include=False)\n",
    "    if y_test.shape[-1] == 1:\n",
    "        y_prime = None\n",
    "    (c_preds, y_preds, explanations,\n",
    "    c_cf, y_cf, y_cf_target, explanation_cf, \n",
    "    p_z2, qz2_x, pz3_z2_c_y, qz3_z2_c_y_y_prime,\n",
    "    pcprime_z3, py_c, py_c_cf, pc_z2, c_cf_true, weights, z2, z3, c_pred_d) = net.forward(X_test, test=True, y_prime=y_prime, explain=True, include=False, inference=True)\n",
    "\n",
    "    c_preds_total = torch.cat((c_preds_total, c_preds), dim=0)\n",
    "    c_total = torch.cat((c_total, c_test), dim=0)\n",
    "    y_preds_total = torch.cat((y_preds_total, y_preds), dim=0)\n",
    "    y_total = torch.cat((y_total, y_test), dim=0)\n",
    "    y_cf_total = torch.cat((y_cf_total, y_cf), dim=0)\n",
    "    y_cf_target_total = torch.cat((y_cf_target_total, y_cf_target), dim=0)\n",
    "    c_cf_total = torch.cat((c_cf_total, c_cf), dim=0)\n",
    "    z2_total = torch.cat((z2_total, z2), dim=0)\n",
    "    z3_total = torch.cat((z3_total, z3), dim=0)\n"
   ]
  },
  {
   "attachments": {},
   "cell_type": "markdown",
   "metadata": {},
   "source": [
    "### Computing common metrics"
   ]
  },
  {
   "cell_type": "code",
   "execution_count": 23,
   "metadata": {},
   "outputs": [
    {
     "name": "stdout",
     "output_type": "stream",
     "text": [
      "ROC AUC Concept Accuracy (%):  98.44056497982375\n",
      "Entire Concept Accuracy (%):  79.4921875\n",
      "ROC AUC Task Accuracy (%):  99.79197629849811\n",
      "Validity (%):  95.78515773228247\n",
      "Variability:  0.8\n",
      "IOU (%):  51.724137931034484\n",
      "Proximity (%):  2.1205357142857144\n",
      "Delta Sparsity (%):  9.870256696428571\n",
      "CF Time:  0.010369300842285156\n"
     ]
    }
   ],
   "source": [
    "# Compute metrics\n",
    "concept_accuracy = roc_auc_score(c_total.cpu(), c_preds_total.detach().cpu())\n",
    "print('ROC AUC Concept Accuracy (%): ', concept_accuracy*100)\n",
    "concept_acc = (c_preds_total > 0.5).float().eq(c_total).float().all(dim=-1).float().mean().item()\n",
    "print('Entire Concept Accuracy (%): ', concept_acc*100)\n",
    "task_accuracy = roc_auc_score(y_total.cpu(), y_preds_total.detach().cpu())\n",
    "print('ROC AUC Task Accuracy (%): ', task_accuracy*100)\n",
    "task_cf_accuracy = roc_auc_score(y_cf_target_total.squeeze().cpu(), y_cf_total.detach().cpu())\n",
    "print('Validity (%): ', task_cf_accuracy*100)\n",
    "cf_variability = variability(c_cf_total.cpu(), c_preds_total.cpu())\n",
    "print('Variability: ', cf_variability)\n",
    "cf_iou = intersection_over_union(c_cf_total.cpu(), c_total.cpu())\n",
    "print('IOU (%): ', cf_iou*100)\n",
    "mean_distance_train = distance_train(c_cf_total.cpu(), c_cf_set.cpu(), y_cf_total.detach().cpu(), concept_labels.cpu()).item() / c_cf_total.shape[-1]\n",
    "print('Proximity (%): ', mean_distance_train*100)\n",
    "\n",
    "pdist = torch.nn.PairwiseDistance(p=2)\n",
    "hamming_distance = torch.norm((c_preds_total>0.5).float().cpu() - (c_cf_total>0.5).float().cpu(), p=0, dim=-1).mean().item() \n",
    "oracle = Oracle()\n",
    "oracle_results, oracle = train_oracle(oracle, test_dl, c_cf_set, concept_labels, wandb_logger)\n",
    "oracle_sparsity = oracle_results['hamming_distance']\n",
    "delta_sparsity = abs(hamming_distance - oracle_sparsity) / c_cf_total.shape[-1]\n",
    "print('Delta Sparsity (%): ', delta_sparsity*100)\n",
    "\n",
    "cf_time_total, cf_found = net.counterfactual_times(test_dl, accelerator, rerun=False)\n",
    "print('CF Time: ', cf_time_total)"
   ]
  },
  {
   "cell_type": "code",
   "execution_count": 24,
   "metadata": {},
   "outputs": [
    {
     "name": "stdout",
     "output_type": "stream",
     "text": [
      "                    0  1                2  3\n",
      "0             c_2 c_5  0          c_1 c_5  0\n",
      "1             c_2 c_6  0          c_1 c_6  0\n",
      "2     c_0 c_2 c_3 c_6  0              c_1  0\n",
      "3             c_2 c_6  0          c_1 c_6  0\n",
      "4             c_0 c_6  0          c_1 c_6  0\n",
      "...               ... ..              ... ..\n",
      "2043  c_0 c_1 c_3 c_6  0  c_0 c_1 c_3 c_6  0\n",
      "2044  c_1 c_2 c_3 c_6  0  c_1 c_2 c_3 c_6  0\n",
      "2045          c_1 c_5  0  c_0 c_2 c_3 c_5  0\n",
      "2046  c_0 c_1 c_3 c_6  0  c_0 c_1 c_3 c_6  0\n",
      "2047  c_1 c_2 c_3 c_6  0  c_1 c_2 c_3 c_6  0\n",
      "\n",
      "[2048 rows x 4 columns]\n"
     ]
    }
   ],
   "source": [
    "save_set_c_and_cf(c_preds_total, y_preds_total, y_cf_total, c_cf_total, model, fold, log_dir)"
   ]
  },
  {
   "attachments": {},
   "cell_type": "markdown",
   "metadata": {},
   "source": [
    "### Computing concept importance"
   ]
  },
  {
   "cell_type": "code",
   "execution_count": 25,
   "metadata": {},
   "outputs": [
    {
     "name": "stderr",
     "output_type": "stream",
     "text": [
      "/Users/gabri/Desktop/USI/PhD/GitHub/Counterfactual-CBM/ccbm/utils.py:188: UserWarning: Matplotlib is currently using module://matplotlib_inline.backend_inline, which is a non-GUI backend, so cannot show the figure.\n",
      "  fig.show()\n"
     ]
    },
    {
     "data": {
      "image/png": "[encoded data removed]",
      "text/plain": [
       "<Figure size 800x430 with 2 Axes>"
      ]
     },
     "metadata": {},
     "output_type": "display_data"
    }
   ],
   "source": [
    "c_preds_total_train = torch.empty(0, train_dl.dataset[0][1].shape[-1])\n",
    "for X_train, c_train, y_train in train_dl:\n",
    "    \n",
    "    y_prime = randomize_class(y_test, include=False)\n",
    "    if y_train.shape[-1] == 1:\n",
    "        y_prime = None\n",
    "    (c_preds, y_preds, explanations,\n",
    "    c_cf, y_cf, y_cf_target, explanation_cf, \n",
    "    p_z2, qz2_x, pz3_z2_c_y, qz3_z2_c_y_y_prime,\n",
    "    pcprime_z3, py_c, py_c_cf, pc_z2, c_cf_true, weights, z2, z3, c_pred_d) = net.forward(X_train, test=True, y_prime=y_prime, explain=True, include=False, inference=True)\n",
    "\n",
    "    if not net.bool_concepts:\n",
    "        c_preds = torch.sigmoid(c_preds)\n",
    "\n",
    "    c_preds_total_train = torch.cat((c_preds_total_train, c_preds), dim=0)\n",
    "\n",
    "idx = CLASS_TO_VISUALISE[str(c_preds_total_train.shape[-1])]\n",
    "print_concept_importance(net, idx, c_preds_total_train, c_preds_total, show=True)"
   ]
  },
  {
   "cell_type": "code",
   "execution_count": 26,
   "metadata": {},
   "outputs": [
    {
     "name": "stdout",
     "output_type": "stream",
     "text": [
      "Flipped labels (%):  0.634765625\n"
     ]
    }
   ],
   "source": [
    "y_preds = net.reasoner(c_preds_total)\n",
    "\n",
    "identity = torch.Tensor([[0, 0, 1], [0, 0, 1], [1, 0, 0]])\n",
    "c_preds_total_int = c_preds_total.clone()\n",
    "c_preds_total_int[:, -3:] = identity[c_preds_total_int[:, -3:].argmax(dim=-1)]\n",
    "\n",
    "y_preds_int = net.reasoner(c_preds_total_int)\n",
    "tot = ((y_preds > 0) == (y_preds_int > 0)).float().sum().item()\n",
    "print('Flipped labels (%): ', (1 - tot/c_preds_total.shape[0])*100)"
   ]
  },
  {
   "attachments": {},
   "cell_type": "markdown",
   "metadata": {},
   "source": [
    "## Standard CBM "
   ]
  },
  {
   "attachments": {},
   "cell_type": "markdown",
   "metadata": {},
   "source": [
    "### Selecting the model "
   ]
  },
  {
   "cell_type": "code",
   "execution_count": 27,
   "metadata": {},
   "outputs": [
    {
     "name": "stderr",
     "output_type": "stream",
     "text": [
      "/Users/gabri/Desktop/USI/PhD/GitHub/Counterfactual-CBM/.venv/lib/python3.12/site-packages/pytorch_lightning/utilities/seed.py:48: LightningDeprecationWarning: `pytorch_lightning.utilities.seed.seed_everything` has been deprecated in v1.8.0 and will be removed in v1.10.0. Please use `lightning_lite.utilities.seed.seed_everything` instead.\n",
      "  rank_zero_deprecation(\n",
      "Global seed set to 0\n"
     ]
    }
   ],
   "source": [
    "model = 'StandardCBM'\n",
    "seed_everything(seed, workers=True)\n",
    "net = models[model]"
   ]
  },
  {
   "attachments": {},
   "cell_type": "markdown",
   "metadata": {},
   "source": [
    "### Training the model "
   ]
  },
  {
   "cell_type": "code",
   "execution_count": 28,
   "metadata": {},
   "outputs": [
    {
     "name": "stderr",
     "output_type": "stream",
     "text": [
      "GPU available: True (mps), used: False\n",
      "TPU available: False, using: 0 TPU cores\n",
      "IPU available: False, using: 0 IPUs\n",
      "HPU available: False, using: 0 HPUs\n",
      "/Users/gabri/Desktop/USI/PhD/GitHub/Counterfactual-CBM/.venv/lib/python3.12/site-packages/pytorch_lightning/trainer/setup.py:200: UserWarning: MPS available but not used. Set `accelerator` and `devices` using `Trainer(accelerator='mps', devices=1)`.\n",
      "  rank_zero_warn(\n",
      "`Trainer(limit_train_batches=1.0)` was configured so 100% of the batches per epoch will be used..\n",
      "`Trainer(limit_val_batches=1.0)` was configured so 100% of the batches will be used..\n",
      "Global seed set to 0\n",
      "/Users/gabri/Desktop/USI/PhD/GitHub/Counterfactual-CBM/.venv/lib/python3.12/site-packages/pytorch_lightning/callbacks/model_checkpoint.py:604: UserWarning: Checkpoint directory ./lightning_logs/abfpjzcl/checkpoints exists and is not empty.\n",
      "  rank_zero_warn(f\"Checkpoint directory {dirpath} exists and is not empty.\")\n",
      "\n",
      "  | Name                 | Type              | Params\n",
      "-----------------------------------------------------------\n",
      "0 | cross_entropy        | BCEWithLogitsLoss | 0     \n",
      "1 | bce                  | BCELoss           | 0     \n",
      "2 | bce_log              | BCEWithLogitsLoss | 0     \n",
      "3 | model                | Sequential        | 82.3 K\n",
      "4 | encoder              | Sequential        | 82.2 K\n",
      "5 | relation_classifiers | Sequential        | 903   \n",
      "6 | reasoner             | Sequential        | 8     \n",
      "-----------------------------------------------------------\n",
      "165 K     Trainable params\n",
      "0         Non-trainable params\n",
      "165 K     Total params\n",
      "0.662     Total estimated model params size (MB)\n"
     ]
    },
    {
     "name": "stdout",
     "output_type": "stream",
     "text": [
      "Running StandardCBM(\n",
      "  (cross_entropy): BCEWithLogitsLoss()\n",
      "  (bce): BCELoss()\n",
      "  (bce_log): BCEWithLogitsLoss()\n",
      "  (model): Sequential(\n",
      "    (0): Linear(in_features=512, out_features=128, bias=True)\n",
      "    (1): LeakyReLU(negative_slope=0.01)\n",
      "    (2): Linear(in_features=128, out_features=128, bias=True)\n",
      "    (3): LeakyReLU(negative_slope=0.01)\n",
      "    (4): Linear(in_features=128, out_features=1, bias=True)\n",
      "  )\n",
      "  (encoder): Sequential(\n",
      "    (0): Linear(in_features=512, out_features=128, bias=True)\n",
      "    (1): LeakyReLU(negative_slope=0.01)\n",
      "    (2): Linear(in_features=128, out_features=128, bias=True)\n",
      "    (3): LeakyReLU(negative_slope=0.01)\n",
      "  )\n",
      "  (relation_classifiers): Sequential(\n",
      "    (0): Linear(in_features=128, out_features=7, bias=True)\n",
      "  )\n",
      "  (reasoner): Sequential(\n",
      "    (0): Linear(in_features=7, out_features=1, bias=True)\n",
      "  )\n",
      "  (classification_loss): BCELoss()\n",
      "), epochs=75, learning_rate=0.005\n"
     ]
    },
    {
     "data": {
      "application/vnd.jupyter.widget-view+json": {
       "model_id": "ad08aa3239e34e30992de020c7195dec",
       "version_major": 2,
       "version_minor": 0
      },
      "text/plain": [
       "Sanity Checking: 0it [00:00, ?it/s]"
      ]
     },
     "metadata": {},
     "output_type": "display_data"
    },
    {
     "name": "stderr",
     "output_type": "stream",
     "text": [
      "/Users/gabri/Desktop/USI/PhD/GitHub/Counterfactual-CBM/.venv/lib/python3.12/site-packages/pytorch_lightning/trainer/connectors/data_connector.py:224: PossibleUserWarning: The dataloader, val_dataloader 0, does not have many workers which may be a bottleneck. Consider increasing the value of the `num_workers` argument` (try 14 which is the number of cpus on this machine) in the `DataLoader` init to improve performance.\n",
      "  rank_zero_warn(\n",
      "/Users/gabri/Desktop/USI/PhD/GitHub/Counterfactual-CBM/.venv/lib/python3.12/site-packages/pytorch_lightning/trainer/connectors/data_connector.py:224: PossibleUserWarning: The dataloader, train_dataloader, does not have many workers which may be a bottleneck. Consider increasing the value of the `num_workers` argument` (try 14 which is the number of cpus on this machine) in the `DataLoader` init to improve performance.\n",
      "  rank_zero_warn(\n",
      "/Users/gabri/Desktop/USI/PhD/GitHub/Counterfactual-CBM/.venv/lib/python3.12/site-packages/pytorch_lightning/trainer/trainer.py:1595: PossibleUserWarning: The number of training batches (7) is smaller than the logging interval Trainer(log_every_n_steps=50). Set a lower value for log_every_n_steps if you want to see logs for the training epoch.\n",
      "  rank_zero_warn(\n"
     ]
    },
    {
     "data": {
      "application/vnd.jupyter.widget-view+json": {
       "model_id": "e1c147812c4f478eaba26310f0b0dfb3",
       "version_major": 2,
       "version_minor": 0
      },
      "text/plain": [
       "Training: 0it [00:00, ?it/s]"
      ]
     },
     "metadata": {},
     "output_type": "display_data"
    },
    {
     "data": {
      "application/vnd.jupyter.widget-view+json": {
       "model_id": "2c26ae62c18e4991a626c607267c243b",
       "version_major": 2,
       "version_minor": 0
      },
      "text/plain": [
       "Validation: 0it [00:00, ?it/s]"
      ]
     },
     "metadata": {},
     "output_type": "display_data"
    },
    {
     "data": {
      "application/vnd.jupyter.widget-view+json": {
       "model_id": "afbb27e2f58b453aa85ba708f624b34f",
       "version_major": 2,
       "version_minor": 0
      },
      "text/plain": [
       "Validation: 0it [00:00, ?it/s]"
      ]
     },
     "metadata": {},
     "output_type": "display_data"
    },
    {
     "data": {
      "application/vnd.jupyter.widget-view+json": {
       "model_id": "3797e86b5a424a838b5a705498385fa9",
       "version_major": 2,
       "version_minor": 0
      },
      "text/plain": [
       "Validation: 0it [00:00, ?it/s]"
      ]
     },
     "metadata": {},
     "output_type": "display_data"
    },
    {
     "data": {
      "application/vnd.jupyter.widget-view+json": {
       "model_id": "82b584c46c1047dba8fa4d6da2bee0b8",
       "version_major": 2,
       "version_minor": 0
      },
      "text/plain": [
       "Validation: 0it [00:00, ?it/s]"
      ]
     },
     "metadata": {},
     "output_type": "display_data"
    },
    {
     "data": {
      "application/vnd.jupyter.widget-view+json": {
       "model_id": "dd37e66ebf054cd8bcb8b343be6bde7e",
       "version_major": 2,
       "version_minor": 0
      },
      "text/plain": [
       "Validation: 0it [00:00, ?it/s]"
      ]
     },
     "metadata": {},
     "output_type": "display_data"
    },
    {
     "data": {
      "application/vnd.jupyter.widget-view+json": {
       "model_id": "9e454e4e26b841d88a860e2296582390",
       "version_major": 2,
       "version_minor": 0
      },
      "text/plain": [
       "Validation: 0it [00:00, ?it/s]"
      ]
     },
     "metadata": {},
     "output_type": "display_data"
    },
    {
     "data": {
      "application/vnd.jupyter.widget-view+json": {
       "model_id": "0e23322f584b467882a7272f1f8a1907",
       "version_major": 2,
       "version_minor": 0
      },
      "text/plain": [
       "Validation: 0it [00:00, ?it/s]"
      ]
     },
     "metadata": {},
     "output_type": "display_data"
    },
    {
     "data": {
      "application/vnd.jupyter.widget-view+json": {
       "model_id": "da9efffa071b473bb2886e6bd9c7de94",
       "version_major": 2,
       "version_minor": 0
      },
      "text/plain": [
       "Validation: 0it [00:00, ?it/s]"
      ]
     },
     "metadata": {},
     "output_type": "display_data"
    },
    {
     "data": {
      "application/vnd.jupyter.widget-view+json": {
       "model_id": "c7507a83061f401ab68cedfc577b5790",
       "version_major": 2,
       "version_minor": 0
      },
      "text/plain": [
       "Validation: 0it [00:00, ?it/s]"
      ]
     },
     "metadata": {},
     "output_type": "display_data"
    },
    {
     "data": {
      "application/vnd.jupyter.widget-view+json": {
       "model_id": "484863206d354e5d928bd14b6a7f8add",
       "version_major": 2,
       "version_minor": 0
      },
      "text/plain": [
       "Validation: 0it [00:00, ?it/s]"
      ]
     },
     "metadata": {},
     "output_type": "display_data"
    },
    {
     "data": {
      "application/vnd.jupyter.widget-view+json": {
       "model_id": "474e446a121046ac913c38810756e78c",
       "version_major": 2,
       "version_minor": 0
      },
      "text/plain": [
       "Validation: 0it [00:00, ?it/s]"
      ]
     },
     "metadata": {},
     "output_type": "display_data"
    },
    {
     "data": {
      "application/vnd.jupyter.widget-view+json": {
       "model_id": "27a4f1b23fd844dfb408ffbdbf86ad8d",
       "version_major": 2,
       "version_minor": 0
      },
      "text/plain": [
       "Validation: 0it [00:00, ?it/s]"
      ]
     },
     "metadata": {},
     "output_type": "display_data"
    },
    {
     "data": {
      "application/vnd.jupyter.widget-view+json": {
       "model_id": "5b71e0d8125b4960a1df8017072ae6e0",
       "version_major": 2,
       "version_minor": 0
      },
      "text/plain": [
       "Validation: 0it [00:00, ?it/s]"
      ]
     },
     "metadata": {},
     "output_type": "display_data"
    },
    {
     "data": {
      "application/vnd.jupyter.widget-view+json": {
       "model_id": "14cc6b14f4474fa39ead7b503b1d0957",
       "version_major": 2,
       "version_minor": 0
      },
      "text/plain": [
       "Validation: 0it [00:00, ?it/s]"
      ]
     },
     "metadata": {},
     "output_type": "display_data"
    },
    {
     "data": {
      "application/vnd.jupyter.widget-view+json": {
       "model_id": "0ee620d10f2849f59384a33f341a6bf0",
       "version_major": 2,
       "version_minor": 0
      },
      "text/plain": [
       "Validation: 0it [00:00, ?it/s]"
      ]
     },
     "metadata": {},
     "output_type": "display_data"
    },
    {
     "data": {
      "application/vnd.jupyter.widget-view+json": {
       "model_id": "2f2b0d9e27b5476a9f093757b7b7a95d",
       "version_major": 2,
       "version_minor": 0
      },
      "text/plain": [
       "Validation: 0it [00:00, ?it/s]"
      ]
     },
     "metadata": {},
     "output_type": "display_data"
    },
    {
     "data": {
      "application/vnd.jupyter.widget-view+json": {
       "model_id": "d10a07ded4714d74a4a20bbebd49245f",
       "version_major": 2,
       "version_minor": 0
      },
      "text/plain": [
       "Validation: 0it [00:00, ?it/s]"
      ]
     },
     "metadata": {},
     "output_type": "display_data"
    },
    {
     "data": {
      "application/vnd.jupyter.widget-view+json": {
       "model_id": "2716d35a0a96492199a4fd84ea3ca832",
       "version_major": 2,
       "version_minor": 0
      },
      "text/plain": [
       "Validation: 0it [00:00, ?it/s]"
      ]
     },
     "metadata": {},
     "output_type": "display_data"
    },
    {
     "data": {
      "application/vnd.jupyter.widget-view+json": {
       "model_id": "ee06ed9561c049acab4111631163608e",
       "version_major": 2,
       "version_minor": 0
      },
      "text/plain": [
       "Validation: 0it [00:00, ?it/s]"
      ]
     },
     "metadata": {},
     "output_type": "display_data"
    },
    {
     "data": {
      "application/vnd.jupyter.widget-view+json": {
       "model_id": "f61e3d91f7e140ff9b030c229d7db693",
       "version_major": 2,
       "version_minor": 0
      },
      "text/plain": [
       "Validation: 0it [00:00, ?it/s]"
      ]
     },
     "metadata": {},
     "output_type": "display_data"
    },
    {
     "data": {
      "application/vnd.jupyter.widget-view+json": {
       "model_id": "53298e8b13f64965b0f39980a288d001",
       "version_major": 2,
       "version_minor": 0
      },
      "text/plain": [
       "Validation: 0it [00:00, ?it/s]"
      ]
     },
     "metadata": {},
     "output_type": "display_data"
    },
    {
     "data": {
      "application/vnd.jupyter.widget-view+json": {
       "model_id": "a15d56ce69214ab8a4ff2dcf45366fe9",
       "version_major": 2,
       "version_minor": 0
      },
      "text/plain": [
       "Validation: 0it [00:00, ?it/s]"
      ]
     },
     "metadata": {},
     "output_type": "display_data"
    },
    {
     "data": {
      "application/vnd.jupyter.widget-view+json": {
       "model_id": "a6dd40f8fb0a469e9dee520b5c415869",
       "version_major": 2,
       "version_minor": 0
      },
      "text/plain": [
       "Validation: 0it [00:00, ?it/s]"
      ]
     },
     "metadata": {},
     "output_type": "display_data"
    },
    {
     "data": {
      "application/vnd.jupyter.widget-view+json": {
       "model_id": "f3e3ebd325974e62bc9e8cc45adf7eaf",
       "version_major": 2,
       "version_minor": 0
      },
      "text/plain": [
       "Validation: 0it [00:00, ?it/s]"
      ]
     },
     "metadata": {},
     "output_type": "display_data"
    },
    {
     "data": {
      "application/vnd.jupyter.widget-view+json": {
       "model_id": "c585647d765246aa85c520651f7ce60f",
       "version_major": 2,
       "version_minor": 0
      },
      "text/plain": [
       "Validation: 0it [00:00, ?it/s]"
      ]
     },
     "metadata": {},
     "output_type": "display_data"
    },
    {
     "data": {
      "application/vnd.jupyter.widget-view+json": {
       "model_id": "1894399eca7c4ef6be46770ed565d9e5",
       "version_major": 2,
       "version_minor": 0
      },
      "text/plain": [
       "Validation: 0it [00:00, ?it/s]"
      ]
     },
     "metadata": {},
     "output_type": "display_data"
    },
    {
     "data": {
      "application/vnd.jupyter.widget-view+json": {
       "model_id": "3af9ff54ab9642dda8515e310b0c6ec3",
       "version_major": 2,
       "version_minor": 0
      },
      "text/plain": [
       "Validation: 0it [00:00, ?it/s]"
      ]
     },
     "metadata": {},
     "output_type": "display_data"
    },
    {
     "data": {
      "application/vnd.jupyter.widget-view+json": {
       "model_id": "a1c5a8cf2298480b9f82c940484f12a9",
       "version_major": 2,
       "version_minor": 0
      },
      "text/plain": [
       "Validation: 0it [00:00, ?it/s]"
      ]
     },
     "metadata": {},
     "output_type": "display_data"
    },
    {
     "data": {
      "application/vnd.jupyter.widget-view+json": {
       "model_id": "68059388fc6f48368d04a2532165ad6d",
       "version_major": 2,
       "version_minor": 0
      },
      "text/plain": [
       "Validation: 0it [00:00, ?it/s]"
      ]
     },
     "metadata": {},
     "output_type": "display_data"
    },
    {
     "data": {
      "application/vnd.jupyter.widget-view+json": {
       "model_id": "d8dcac30faab409298ca86273f4e6e55",
       "version_major": 2,
       "version_minor": 0
      },
      "text/plain": [
       "Validation: 0it [00:00, ?it/s]"
      ]
     },
     "metadata": {},
     "output_type": "display_data"
    },
    {
     "data": {
      "application/vnd.jupyter.widget-view+json": {
       "model_id": "45b4187b736e47da926d06cce2ebe60f",
       "version_major": 2,
       "version_minor": 0
      },
      "text/plain": [
       "Validation: 0it [00:00, ?it/s]"
      ]
     },
     "metadata": {},
     "output_type": "display_data"
    },
    {
     "data": {
      "application/vnd.jupyter.widget-view+json": {
       "model_id": "a64b6eef03864e1184dc0b241b29edb7",
       "version_major": 2,
       "version_minor": 0
      },
      "text/plain": [
       "Validation: 0it [00:00, ?it/s]"
      ]
     },
     "metadata": {},
     "output_type": "display_data"
    },
    {
     "data": {
      "application/vnd.jupyter.widget-view+json": {
       "model_id": "66bc832bf4fc41e1a40b278c6eb278d2",
       "version_major": 2,
       "version_minor": 0
      },
      "text/plain": [
       "Validation: 0it [00:00, ?it/s]"
      ]
     },
     "metadata": {},
     "output_type": "display_data"
    },
    {
     "data": {
      "application/vnd.jupyter.widget-view+json": {
       "model_id": "c47de2af9c3a4c0e9a1b03ac0c99637a",
       "version_major": 2,
       "version_minor": 0
      },
      "text/plain": [
       "Validation: 0it [00:00, ?it/s]"
      ]
     },
     "metadata": {},
     "output_type": "display_data"
    },
    {
     "data": {
      "application/vnd.jupyter.widget-view+json": {
       "model_id": "ef1c4687489d4667bfa96a4c7745e0f7",
       "version_major": 2,
       "version_minor": 0
      },
      "text/plain": [
       "Validation: 0it [00:00, ?it/s]"
      ]
     },
     "metadata": {},
     "output_type": "display_data"
    },
    {
     "data": {
      "application/vnd.jupyter.widget-view+json": {
       "model_id": "fc1f89d322764928aaf030cffec36437",
       "version_major": 2,
       "version_minor": 0
      },
      "text/plain": [
       "Validation: 0it [00:00, ?it/s]"
      ]
     },
     "metadata": {},
     "output_type": "display_data"
    },
    {
     "data": {
      "application/vnd.jupyter.widget-view+json": {
       "model_id": "f6ec8da3556e4ed49d3716f753e455ed",
       "version_major": 2,
       "version_minor": 0
      },
      "text/plain": [
       "Validation: 0it [00:00, ?it/s]"
      ]
     },
     "metadata": {},
     "output_type": "display_data"
    },
    {
     "data": {
      "application/vnd.jupyter.widget-view+json": {
       "model_id": "be4134f2f94947c5ba7a01b6370ecf9b",
       "version_major": 2,
       "version_minor": 0
      },
      "text/plain": [
       "Validation: 0it [00:00, ?it/s]"
      ]
     },
     "metadata": {},
     "output_type": "display_data"
    },
    {
     "data": {
      "application/vnd.jupyter.widget-view+json": {
       "model_id": "7bf42d5289f2472f86cc04efe9b619a5",
       "version_major": 2,
       "version_minor": 0
      },
      "text/plain": [
       "Validation: 0it [00:00, ?it/s]"
      ]
     },
     "metadata": {},
     "output_type": "display_data"
    },
    {
     "data": {
      "application/vnd.jupyter.widget-view+json": {
       "model_id": "12ddca1d3eaa479395dfc08346b84d8c",
       "version_major": 2,
       "version_minor": 0
      },
      "text/plain": [
       "Validation: 0it [00:00, ?it/s]"
      ]
     },
     "metadata": {},
     "output_type": "display_data"
    },
    {
     "data": {
      "application/vnd.jupyter.widget-view+json": {
       "model_id": "527cd5f33c304ff18cd676823d7feb7d",
       "version_major": 2,
       "version_minor": 0
      },
      "text/plain": [
       "Validation: 0it [00:00, ?it/s]"
      ]
     },
     "metadata": {},
     "output_type": "display_data"
    },
    {
     "data": {
      "application/vnd.jupyter.widget-view+json": {
       "model_id": "0463a88356b54a299570c9335fc4c52a",
       "version_major": 2,
       "version_minor": 0
      },
      "text/plain": [
       "Validation: 0it [00:00, ?it/s]"
      ]
     },
     "metadata": {},
     "output_type": "display_data"
    },
    {
     "data": {
      "application/vnd.jupyter.widget-view+json": {
       "model_id": "c535ece4b496413da6bf26bb48354418",
       "version_major": 2,
       "version_minor": 0
      },
      "text/plain": [
       "Validation: 0it [00:00, ?it/s]"
      ]
     },
     "metadata": {},
     "output_type": "display_data"
    },
    {
     "data": {
      "application/vnd.jupyter.widget-view+json": {
       "model_id": "2576c8a1341f4fb69d629f7249b5615c",
       "version_major": 2,
       "version_minor": 0
      },
      "text/plain": [
       "Validation: 0it [00:00, ?it/s]"
      ]
     },
     "metadata": {},
     "output_type": "display_data"
    },
    {
     "data": {
      "application/vnd.jupyter.widget-view+json": {
       "model_id": "a9f86415f39c43ce9f80f0bc1d22f280",
       "version_major": 2,
       "version_minor": 0
      },
      "text/plain": [
       "Validation: 0it [00:00, ?it/s]"
      ]
     },
     "metadata": {},
     "output_type": "display_data"
    },
    {
     "data": {
      "application/vnd.jupyter.widget-view+json": {
       "model_id": "b546d77d07e84df9bfc11498c99c8843",
       "version_major": 2,
       "version_minor": 0
      },
      "text/plain": [
       "Validation: 0it [00:00, ?it/s]"
      ]
     },
     "metadata": {},
     "output_type": "display_data"
    },
    {
     "data": {
      "application/vnd.jupyter.widget-view+json": {
       "model_id": "3f2a8aa61da44db28b8d4ef88ffd66be",
       "version_major": 2,
       "version_minor": 0
      },
      "text/plain": [
       "Validation: 0it [00:00, ?it/s]"
      ]
     },
     "metadata": {},
     "output_type": "display_data"
    },
    {
     "data": {
      "application/vnd.jupyter.widget-view+json": {
       "model_id": "2bcc436781fe45a5889934a92d740e94",
       "version_major": 2,
       "version_minor": 0
      },
      "text/plain": [
       "Validation: 0it [00:00, ?it/s]"
      ]
     },
     "metadata": {},
     "output_type": "display_data"
    },
    {
     "data": {
      "application/vnd.jupyter.widget-view+json": {
       "model_id": "f871226e62034325ac4799f66a1a2433",
       "version_major": 2,
       "version_minor": 0
      },
      "text/plain": [
       "Validation: 0it [00:00, ?it/s]"
      ]
     },
     "metadata": {},
     "output_type": "display_data"
    },
    {
     "data": {
      "application/vnd.jupyter.widget-view+json": {
       "model_id": "35efe7ff355e4bd2aa39085af3cabfa4",
       "version_major": 2,
       "version_minor": 0
      },
      "text/plain": [
       "Validation: 0it [00:00, ?it/s]"
      ]
     },
     "metadata": {},
     "output_type": "display_data"
    },
    {
     "data": {
      "application/vnd.jupyter.widget-view+json": {
       "model_id": "687cd614dc8547ee9b6a7a4797cfc4b0",
       "version_major": 2,
       "version_minor": 0
      },
      "text/plain": [
       "Validation: 0it [00:00, ?it/s]"
      ]
     },
     "metadata": {},
     "output_type": "display_data"
    },
    {
     "data": {
      "application/vnd.jupyter.widget-view+json": {
       "model_id": "aa18f3b597bb4001b949a4f003712584",
       "version_major": 2,
       "version_minor": 0
      },
      "text/plain": [
       "Validation: 0it [00:00, ?it/s]"
      ]
     },
     "metadata": {},
     "output_type": "display_data"
    },
    {
     "data": {
      "application/vnd.jupyter.widget-view+json": {
       "model_id": "83f7b5ab792f433082fe83fc303962a7",
       "version_major": 2,
       "version_minor": 0
      },
      "text/plain": [
       "Validation: 0it [00:00, ?it/s]"
      ]
     },
     "metadata": {},
     "output_type": "display_data"
    },
    {
     "data": {
      "application/vnd.jupyter.widget-view+json": {
       "model_id": "2e1ebac1dd144fe4983da5b250485ce0",
       "version_major": 2,
       "version_minor": 0
      },
      "text/plain": [
       "Validation: 0it [00:00, ?it/s]"
      ]
     },
     "metadata": {},
     "output_type": "display_data"
    },
    {
     "data": {
      "application/vnd.jupyter.widget-view+json": {
       "model_id": "b1adb7469b6e478998dec78c2cdcb94d",
       "version_major": 2,
       "version_minor": 0
      },
      "text/plain": [
       "Validation: 0it [00:00, ?it/s]"
      ]
     },
     "metadata": {},
     "output_type": "display_data"
    },
    {
     "data": {
      "application/vnd.jupyter.widget-view+json": {
       "model_id": "79ed848cfcae43469cd6a9d57cc78652",
       "version_major": 2,
       "version_minor": 0
      },
      "text/plain": [
       "Validation: 0it [00:00, ?it/s]"
      ]
     },
     "metadata": {},
     "output_type": "display_data"
    },
    {
     "data": {
      "application/vnd.jupyter.widget-view+json": {
       "model_id": "cdc2e78c199d43cfa8c455cca5d4118b",
       "version_major": 2,
       "version_minor": 0
      },
      "text/plain": [
       "Validation: 0it [00:00, ?it/s]"
      ]
     },
     "metadata": {},
     "output_type": "display_data"
    },
    {
     "data": {
      "application/vnd.jupyter.widget-view+json": {
       "model_id": "e35afc3dffab4729a9fd28b494ba1828",
       "version_major": 2,
       "version_minor": 0
      },
      "text/plain": [
       "Validation: 0it [00:00, ?it/s]"
      ]
     },
     "metadata": {},
     "output_type": "display_data"
    },
    {
     "data": {
      "application/vnd.jupyter.widget-view+json": {
       "model_id": "00ddc6ca7b61421e9b9f1d6d71f46df6",
       "version_major": 2,
       "version_minor": 0
      },
      "text/plain": [
       "Validation: 0it [00:00, ?it/s]"
      ]
     },
     "metadata": {},
     "output_type": "display_data"
    },
    {
     "data": {
      "application/vnd.jupyter.widget-view+json": {
       "model_id": "7c8c2a23d70d40769c22e78497bc96da",
       "version_major": 2,
       "version_minor": 0
      },
      "text/plain": [
       "Validation: 0it [00:00, ?it/s]"
      ]
     },
     "metadata": {},
     "output_type": "display_data"
    },
    {
     "data": {
      "application/vnd.jupyter.widget-view+json": {
       "model_id": "722499d1554646f896d1126900f5ca27",
       "version_major": 2,
       "version_minor": 0
      },
      "text/plain": [
       "Validation: 0it [00:00, ?it/s]"
      ]
     },
     "metadata": {},
     "output_type": "display_data"
    },
    {
     "data": {
      "application/vnd.jupyter.widget-view+json": {
       "model_id": "f6bfd11caac94ecdb372791e63a9c969",
       "version_major": 2,
       "version_minor": 0
      },
      "text/plain": [
       "Validation: 0it [00:00, ?it/s]"
      ]
     },
     "metadata": {},
     "output_type": "display_data"
    },
    {
     "data": {
      "application/vnd.jupyter.widget-view+json": {
       "model_id": "61ff96f9766c49588fe22d73c07c4b99",
       "version_major": 2,
       "version_minor": 0
      },
      "text/plain": [
       "Validation: 0it [00:00, ?it/s]"
      ]
     },
     "metadata": {},
     "output_type": "display_data"
    },
    {
     "data": {
      "application/vnd.jupyter.widget-view+json": {
       "model_id": "4e3e95f262724d56a87b6f00c4ea41a5",
       "version_major": 2,
       "version_minor": 0
      },
      "text/plain": [
       "Validation: 0it [00:00, ?it/s]"
      ]
     },
     "metadata": {},
     "output_type": "display_data"
    },
    {
     "data": {
      "application/vnd.jupyter.widget-view+json": {
       "model_id": "41af02ea7ecc429ea4493c160d04186e",
       "version_major": 2,
       "version_minor": 0
      },
      "text/plain": [
       "Validation: 0it [00:00, ?it/s]"
      ]
     },
     "metadata": {},
     "output_type": "display_data"
    },
    {
     "data": {
      "application/vnd.jupyter.widget-view+json": {
       "model_id": "172167c10ee540bcaf095dcd397db607",
       "version_major": 2,
       "version_minor": 0
      },
      "text/plain": [
       "Validation: 0it [00:00, ?it/s]"
      ]
     },
     "metadata": {},
     "output_type": "display_data"
    },
    {
     "data": {
      "application/vnd.jupyter.widget-view+json": {
       "model_id": "b5cd40a48fcc4758882d5f2d84b15182",
       "version_major": 2,
       "version_minor": 0
      },
      "text/plain": [
       "Validation: 0it [00:00, ?it/s]"
      ]
     },
     "metadata": {},
     "output_type": "display_data"
    },
    {
     "data": {
      "application/vnd.jupyter.widget-view+json": {
       "model_id": "d3d00d2dc3b74b4db30b0e4ce0dba741",
       "version_major": 2,
       "version_minor": 0
      },
      "text/plain": [
       "Validation: 0it [00:00, ?it/s]"
      ]
     },
     "metadata": {},
     "output_type": "display_data"
    },
    {
     "data": {
      "application/vnd.jupyter.widget-view+json": {
       "model_id": "1214a5b9636c4f10816907d6b5dbc304",
       "version_major": 2,
       "version_minor": 0
      },
      "text/plain": [
       "Validation: 0it [00:00, ?it/s]"
      ]
     },
     "metadata": {},
     "output_type": "display_data"
    },
    {
     "data": {
      "application/vnd.jupyter.widget-view+json": {
       "model_id": "57c6d154d7dd4a17b5e1caaa4929e0d3",
       "version_major": 2,
       "version_minor": 0
      },
      "text/plain": [
       "Validation: 0it [00:00, ?it/s]"
      ]
     },
     "metadata": {},
     "output_type": "display_data"
    },
    {
     "data": {
      "application/vnd.jupyter.widget-view+json": {
       "model_id": "80a4f25b1ddb43d7a490e128edc28e73",
       "version_major": 2,
       "version_minor": 0
      },
      "text/plain": [
       "Validation: 0it [00:00, ?it/s]"
      ]
     },
     "metadata": {},
     "output_type": "display_data"
    },
    {
     "data": {
      "application/vnd.jupyter.widget-view+json": {
       "model_id": "fc74de153797429f8091405c5dcc1e2a",
       "version_major": 2,
       "version_minor": 0
      },
      "text/plain": [
       "Validation: 0it [00:00, ?it/s]"
      ]
     },
     "metadata": {},
     "output_type": "display_data"
    },
    {
     "data": {
      "application/vnd.jupyter.widget-view+json": {
       "model_id": "cd655ab703a9416d82c4f60b9d747d52",
       "version_major": 2,
       "version_minor": 0
      },
      "text/plain": [
       "Validation: 0it [00:00, ?it/s]"
      ]
     },
     "metadata": {},
     "output_type": "display_data"
    },
    {
     "data": {
      "application/vnd.jupyter.widget-view+json": {
       "model_id": "54ce17e5711940998b35b3c4241558fc",
       "version_major": 2,
       "version_minor": 0
      },
      "text/plain": [
       "Validation: 0it [00:00, ?it/s]"
      ]
     },
     "metadata": {},
     "output_type": "display_data"
    },
    {
     "data": {
      "application/vnd.jupyter.widget-view+json": {
       "model_id": "eb90bb32eedb46abacb45d98ba9b418a",
       "version_major": 2,
       "version_minor": 0
      },
      "text/plain": [
       "Validation: 0it [00:00, ?it/s]"
      ]
     },
     "metadata": {},
     "output_type": "display_data"
    },
    {
     "name": "stderr",
     "output_type": "stream",
     "text": [
      "`Trainer.fit` stopped: `max_epochs=75` reached.\n"
     ]
    },
    {
     "name": "stdout",
     "output_type": "stream",
     "text": [
      "Best train acc: 0.9897473614581771, Epoch: 27\n"
     ]
    }
   ],
   "source": [
    "net = train_model(net, epochs, learning_rate, seed, train_dl, test_dl, results_dir, accelerator, wandb_logger)"
   ]
  },
  {
   "attachments": {},
   "cell_type": "markdown",
   "metadata": {},
   "source": [
    "### Testing the model, saving the output and computing metrics"
   ]
  },
  {
   "cell_type": "code",
   "execution_count": 29,
   "metadata": {},
   "outputs": [],
   "source": [
    "y_preds_total = torch.empty(0, train_dl.dataset[0][-1].shape[-1])\n",
    "y_total = torch.empty(0, train_dl.dataset[0][-1].shape[-1])\n",
    "c_preds_total = torch.empty(0, train_dl.dataset[0][1].shape[-1])\n",
    "c_total = torch.empty(0, train_dl.dataset[0][1].shape[-1])\n",
    "\n",
    "for X_test, c_test, y_test in test_dl:\n",
    "\n",
    "    c_preds, y_preds, _ = net.forward(X_test)\n",
    "\n",
    "    if not net.bool_concepts:\n",
    "        c_preds = torch.sigmoid(c_preds)\n",
    "\n",
    "    c_preds_total = torch.cat((c_preds_total, c_preds), dim=0)\n",
    "    c_total = torch.cat((c_total, c_test), dim=0)\n",
    "    y_preds_total = torch.cat((y_preds_total, y_preds), dim=0)\n",
    "    y_total = torch.cat((y_total, y_test), dim=0)\n",
    "\n",
    "concept_accuracy = roc_auc_score(c_total.cpu(), c_preds_total.detach().cpu())\n",
    "concept_acc = (c_preds_total > 0.5).float().eq(c_total).float().all(dim=-1).float().mean()\n",
    "p_c = (c_preds_total > 0.5).float().eq(c_total).float().mean(dim=-1).float().mean()\n",
    "task_accuracy = roc_auc_score(y_total.cpu(), y_preds_total.detach().cpu())"
   ]
  },
  {
   "attachments": {},
   "cell_type": "markdown",
   "metadata": {},
   "source": [
    "### Computing concept importance"
   ]
  },
  {
   "cell_type": "code",
   "execution_count": 30,
   "metadata": {},
   "outputs": [
    {
     "name": "stderr",
     "output_type": "stream",
     "text": [
      "/Users/gabri/Desktop/USI/PhD/GitHub/Counterfactual-CBM/ccbm/utils.py:188: UserWarning: Matplotlib is currently using module://matplotlib_inline.backend_inline, which is a non-GUI backend, so cannot show the figure.\n",
      "  fig.show()\n"
     ]
    },
    {
     "data": {
      "image/png": "[encoded data removed]",
      "text/plain": [
       "<Figure size 800x430 with 2 Axes>"
      ]
     },
     "metadata": {},
     "output_type": "display_data"
    }
   ],
   "source": [
    "c_preds_total_train = torch.empty(0, train_dl.dataset[0][1].shape[-1])\n",
    "for X_train, c_train, y_train in train_dl:\n",
    "\n",
    "    c_preds, y_preds, _ = net.forward(X_train)\n",
    "\n",
    "    if not net.bool_concepts:\n",
    "        c_preds = torch.sigmoid(c_preds)\n",
    "\n",
    "    c_preds_total_train = torch.cat((c_preds_total_train, c_preds), dim=0)\n",
    "\n",
    "idx = CLASS_TO_VISUALISE[str(c_preds_total_train.shape[-1])]\n",
    "print_concept_importance(net, idx, c_preds_total_train, c_preds_total, show=True)"
   ]
  },
  {
   "attachments": {},
   "cell_type": "markdown",
   "metadata": {},
   "source": [
    "#### You can notice a greater importance given by this model to colors concepts compared to the Counterfactual CBM."
   ]
  },
  {
   "cell_type": "code",
   "execution_count": 31,
   "metadata": {},
   "outputs": [
    {
     "name": "stdout",
     "output_type": "stream",
     "text": [
      "Flipped labels (%):  16.162109375\n"
     ]
    }
   ],
   "source": [
    "y_preds = net.reasoner(c_preds_total)\n",
    "\n",
    "identity = torch.Tensor([[0, 0, 1], [0, 0, 1], [1, 0, 0]])\n",
    "c_preds_total_int = c_preds_total.clone()\n",
    "c_preds_total_int[:, -3:] = identity[c_preds_total_int[:, -3:].argmax(dim=-1)]\n",
    "\n",
    "y_preds_int = net.reasoner(c_preds_total_int)\n",
    "tot = ((y_preds > 0) == (y_preds_int > 0)).float().sum().item()\n",
    "print('Flipped labels (%): ', (1 - tot/c_preds_total.shape[0])*100)"
   ]
  }
 ],
 "metadata": {
  "kernelspec": {
   "display_name": ".venv",
   "language": "python",
   "name": "python3"
  },
  "language_info": {
   "codemirror_mode": {
    "name": "ipython",
    "version": 3
   },
   "file_extension": ".py",
   "mimetype": "text/x-python",
   "name": "python",
   "nbconvert_exporter": "python",
   "pygments_lexer": "ipython3",
   "version": "3.12.4"
  },
  "orig_nbformat": 4
 },
 "nbformat": 4,
 "nbformat_minor": 2
}
