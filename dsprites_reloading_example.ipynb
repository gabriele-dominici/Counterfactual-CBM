{
  "cells": [
    {
      "attachments": {},
      "cell_type": "markdown",
      "metadata": {
        "colab_type": "text",
        "id": "26ScWNvYSgQg"
      },
      "source": [
        "Copyright 2017 Google Inc.\n",
        "\n",
        "Licensed under the Apache License, Version 2.0 (the \"License\");\n",
        "you may not use this file except in compliance with the License.\n",
        "You may obtain a copy of the License at\n",
        "\n",
        "    http://www.apache.org/licenses/LICENSE-2.0\n",
        "\n",
        "Unless required by applicable law or agreed to in writing, software\n",
        "distributed under the License is distributed on an \"AS IS\" BASIS,\n",
        "WITHOUT WARRANTIES OR CONDITIONS OF ANY KIND, either express or implied.\n",
        "See the License for the specific language governing permissions and\n",
        "limitations under the License.\n",
        "\n",
        "\n",
        "# dSprites - Disentanglement testing Sprites dataset\n",
        "\n",
        "## Description\n",
        "Procedurally generated 2D shapes dataset. This dataset uses 6 latents, controlling the color, shape, scale, rotation and position of a sprite (color isn't varying here, its value is fixed).\n",
        "\n",
        "All possible combinations of the latents are present.\n",
        "\n",
        "The ordering of images in the dataset (i.e. shape[0] in all ndarrays) is fixed and meaningful, see below.\n",
        "\n",
        "We chose the smallest changes in latent values that generated different pixel outputs at our 64x64 resolution after rasterization.\n",
        "\n",
        "No noise added, single image sample for a given latent setting.\n",
        "\n",
        "## Details about the ordering of the dataset\n",
        "\n",
        "The dataset was generated procedurally, and its order is deterministic.\n",
        "For example, the image at index 0 corresponds to the latents (0, 0, 0, 0, 0, 0).\n",
        "\n",
        "Then the image at index 1 increases the least significant \"bit\" of the latent:\n",
        "(0, 0, 0, 0, 0, 1)\n",
        "\n",
        "And similarly, till we reach index 32, where we get (0, 0, 0, 0, 1, 0). \n",
        "\n",
        "Hence the dataset is sequentially addressable using variable bases for every \"bit\".\n",
        "Using dataset['metadata']['latents_sizes'] makes this conversion trivial, see below."
      ]
    },
    {
      "cell_type": "code",
      "execution_count": 1,
      "metadata": {
        "cellView": "both",
        "colab": {
          "autoexec": {
            "startup": false,
            "wait_interval": 0
          }
        },
        "colab_type": "code",
        "id": "jJ02BsnqSa96"
      },
      "outputs": [],
      "source": [
        "from __future__ import absolute_import\n",
        "from __future__ import division\n",
        "from __future__ import print_function\n",
        "from matplotlib import pyplot as plt\n",
        "import numpy as np\n",
        "import seaborn as sns\n",
        "\n",
        "# Change figure aesthetics\n",
        "%matplotlib inline\n",
        "sns.set_context('talk', font_scale=1.2, rc={'lines.linewidth': 1.5})\n"
      ]
    },
    {
      "cell_type": "code",
      "execution_count": 2,
      "metadata": {
        "colab": {
          "autoexec": {
            "startup": false,
            "wait_interval": 0
          },
          "output_extras": [
            {
              "item_id": 2
            }
          ]
        },
        "colab_type": "code",
        "executionInfo": {
          "elapsed": 10952,
          "status": "ok",
          "timestamp": 1495021223246,
          "user": {
            "displayName": "",
            "photoUrl": "",
            "userId": ""
          },
          "user_tz": -60
        },
        "id": "uDL3Iw0WFw1L",
        "outputId": "1a3ce845-1add-41c3-ee3d-6018d09423bc"
      },
      "outputs": [
        {
          "ename": "FileNotFoundError",
          "evalue": "[Errno 2] No such file or directory: 'dsprites_ndarray_co1sh3sc6or40x32y32_64x64.npz'",
          "output_type": "error",
          "traceback": [
            "\u001b[0;31m---------------------------------------------------------------------------\u001b[0m",
            "\u001b[0;31mFileNotFoundError\u001b[0m                         Traceback (most recent call last)",
            "Cell \u001b[0;32mIn[2], line 2\u001b[0m\n\u001b[1;32m      1\u001b[0m \u001b[39m# Load dataset\u001b[39;00m\n\u001b[0;32m----> 2\u001b[0m dataset_zip \u001b[39m=\u001b[39m np\u001b[39m.\u001b[39;49mload(\u001b[39m'\u001b[39;49m\u001b[39mdsprites_ndarray_co1sh3sc6or40x32y32_64x64.npz\u001b[39;49m\u001b[39m'\u001b[39;49m, allow_pickle\u001b[39m=\u001b[39;49m\u001b[39mTrue\u001b[39;49;00m, encoding\u001b[39m=\u001b[39;49m\u001b[39m'\u001b[39;49m\u001b[39mlatin1\u001b[39;49m\u001b[39m'\u001b[39;49m)\n\u001b[1;32m      4\u001b[0m \u001b[39mprint\u001b[39m(\u001b[39m'\u001b[39m\u001b[39mKeys in the dataset:\u001b[39m\u001b[39m'\u001b[39m, dataset_zip\u001b[39m.\u001b[39mkeys())\n\u001b[1;32m      5\u001b[0m imgs \u001b[39m=\u001b[39m dataset_zip[\u001b[39m'\u001b[39m\u001b[39mimgs\u001b[39m\u001b[39m'\u001b[39m]\n",
            "File \u001b[0;32m~/Desktop/USI/PhD/CCM_IJCAI/.venv/lib/python3.9/site-packages/numpy/lib/npyio.py:405\u001b[0m, in \u001b[0;36mload\u001b[0;34m(file, mmap_mode, allow_pickle, fix_imports, encoding, max_header_size)\u001b[0m\n\u001b[1;32m    403\u001b[0m     own_fid \u001b[39m=\u001b[39m \u001b[39mFalse\u001b[39;00m\n\u001b[1;32m    404\u001b[0m \u001b[39melse\u001b[39;00m:\n\u001b[0;32m--> 405\u001b[0m     fid \u001b[39m=\u001b[39m stack\u001b[39m.\u001b[39menter_context(\u001b[39mopen\u001b[39;49m(os_fspath(file), \u001b[39m\"\u001b[39;49m\u001b[39mrb\u001b[39;49m\u001b[39m\"\u001b[39;49m))\n\u001b[1;32m    406\u001b[0m     own_fid \u001b[39m=\u001b[39m \u001b[39mTrue\u001b[39;00m\n\u001b[1;32m    408\u001b[0m \u001b[39m# Code to distinguish from NumPy binary files and pickles.\u001b[39;00m\n",
            "\u001b[0;31mFileNotFoundError\u001b[0m: [Errno 2] No such file or directory: 'dsprites_ndarray_co1sh3sc6or40x32y32_64x64.npz'"
          ]
        }
      ],
      "source": [
        "# Load dataset\n",
        "dataset_zip = np.load('dsprites_ndarray_co1sh3sc6or40x32y32_64x64.npz', allow_pickle=True, encoding='latin1')\n",
        "\n",
        "print('Keys in the dataset:', dataset_zip.keys())\n",
        "imgs = dataset_zip['imgs']\n",
        "latents_values = dataset_zip['latents_values']\n",
        "latents_classes = dataset_zip['latents_classes']\n",
        "metadata = dataset_zip['metadata'][()]\n",
        "\n",
        "print('Metadata: \\n', metadata)\n"
      ]
    },
    {
      "cell_type": "code",
      "execution_count": null,
      "metadata": {
        "colab": {
          "autoexec": {
            "startup": false,
            "wait_interval": 0
          }
        },
        "colab_type": "code",
        "id": "9RWpIJtiHYUL"
      },
      "outputs": [],
      "source": [
        "# Define number of values per latents and functions to convert to indices\n",
        "latents_sizes = metadata['latents_sizes']\n",
        "latents_bases = np.concatenate((latents_sizes[::-1].cumprod()[::-1][1:],\n",
        "                                np.array([1,])))\n",
        "\n",
        "def latent_to_index(latents):\n",
        "  return np.dot(latents, latents_bases).astype(int)\n",
        "\n",
        "\n",
        "def sample_latent(size=1):\n",
        "  samples = np.zeros((size, latents_sizes.size))\n",
        "  for lat_i, lat_size in enumerate(latents_sizes):\n",
        "    samples[:, lat_i] = np.random.randint(lat_size, size=size)\n",
        "\n",
        "  return samples\n"
      ]
    },
    {
      "cell_type": "code",
      "execution_count": null,
      "metadata": {
        "colab": {
          "autoexec": {
            "startup": false,
            "wait_interval": 0
          }
        },
        "colab_type": "code",
        "id": "W8LKpGjGKaiN"
      },
      "outputs": [],
      "source": [
        "# Helper function to show images\n",
        "def show_images_grid(imgs_, num_images=25):\n",
        "  ncols = int(np.ceil(num_images**0.5))\n",
        "  nrows = int(np.ceil(num_images / ncols))\n",
        "  _, axes = plt.subplots(ncols, nrows, figsize=(nrows * 3, ncols * 3))\n",
        "  axes = axes.flatten()\n",
        "\n",
        "  for ax_i, ax in enumerate(axes):\n",
        "    if ax_i < num_images:\n",
        "      ax.imshow(imgs_[ax_i], cmap='Greys_r',  interpolation='nearest')\n",
        "      ax.set_xticks([])\n",
        "      ax.set_yticks([])\n",
        "    else:\n",
        "      ax.axis('off')\n",
        "\n",
        "def show_density(imgs):\n",
        "  _, ax = plt.subplots()\n",
        "  ax.imshow(imgs.mean(axis=0), interpolation='nearest', cmap='Greys_r')\n",
        "  ax.grid('off')\n",
        "  ax.set_xticks([])\n",
        "  ax.set_yticks([])"
      ]
    },
    {
      "cell_type": "code",
      "execution_count": null,
      "metadata": {},
      "outputs": [],
      "source": [
        "## Fix posX latent to left\n",
        "latents_sampled_dx = sample_latent(size=3000)\n",
        "latents_sampled_dx[:, -2] = 31\n",
        "indices_sampled_dx = latent_to_index(latents_sampled_dx)\n",
        "imgs_sampled_dx = imgs[indices_sampled_dx]\n",
        "y_dx = (latents_sampled_dx[:, 1] == 0) + (latents_sampled_dx[:, 1] == 2).astype(float)\n",
        "c_dx = (np.arange(4) == latents_sampled_dx[:, 1][:,None]).astype(np.float32) "
      ]
    },
    {
      "cell_type": "code",
      "execution_count": null,
      "metadata": {},
      "outputs": [],
      "source": [
        "## Fix posX latent to left\n",
        "latents_sampled_sx = sample_latent(size=3000)\n",
        "latents_sampled_sx[:, -2] = 0\n",
        "indices_sampled_sx = latent_to_index(latents_sampled_sx)\n",
        "imgs_sampled_sx = imgs[indices_sampled_sx]\n",
        "y_sx = (latents_sampled_sx[:, 1] == 0) + (latents_sampled_sx[:, 1] == 2).astype(float)\n",
        "c_sx = (np.arange(4) == latents_sampled_sx[:, 1][:,None]).astype(np.float32) "
      ]
    },
    {
      "cell_type": "code",
      "execution_count": null,
      "metadata": {},
      "outputs": [
        {
          "data": {
            "image/png": "[encoded data removed]",
            "text/plain": [
              "<Figure size 900x900 with 9 Axes>"
            ]
          },
          "metadata": {},
          "output_type": "display_data"
        }
      ],
      "source": [
        "image_fused = np.clip(imgs_sampled_dx - imgs_sampled_sx, a_max=1, a_min=0)\n",
        "y_fused = np.clip((latents_sampled_dx[:, 1] == 0) + (latents_sampled_sx[:, 1] == 2), a_max=1, a_min=0)\n",
        "c_fused =  np.clip(c_sx + c_dx, a_max=1, a_min=0)\n",
        "c_fused[:, 3] = 1\n",
        "show_images_grid(image_fused, 9)"
      ]
    },
    {
      "cell_type": "code",
      "execution_count": null,
      "metadata": {},
      "outputs": [
        {
          "data": {
            "image/png": "[encoded data removed]",
            "text/plain": [
              "<Figure size 900x900 with 9 Axes>"
            ]
          },
          "metadata": {},
          "output_type": "display_data"
        }
      ],
      "source": [
        "no_sq_no_heart = image_fused[((latents_sampled_sx[:, 1] != 0).astype(float) * (latents_sampled_dx[:, 1] != 2).astype(float)).astype(bool), :, :]\n",
        "y_no_sq_no_heart = y_fused[((latents_sampled_sx[:, 1] != 0).astype(float) * (latents_sampled_dx[:, 1] != 2).astype(float)).astype(bool)]\n",
        "c_no_sq_no_heart = c_fused[((latents_sampled_sx[:, 1] != 0).astype(float) * (latents_sampled_dx[:, 1] != 2).astype(float)).astype(bool)]\n",
        "show_images_grid(no_sq_no_heart, 9)"
      ]
    },
    {
      "cell_type": "code",
      "execution_count": null,
      "metadata": {
        "colab": {
          "autoexec": {
            "startup": false,
            "wait_interval": 0
          }
        },
        "colab_type": "code",
        "id": "-FCACtAlqKTA"
      },
      "outputs": [
        {
          "data": {
            "image/png": "[encoded data removed]",
            "text/plain": [
              "<Figure size 900x900 with 9 Axes>"
            ]
          },
          "metadata": {},
          "output_type": "display_data"
        }
      ],
      "source": [
        "no_heart_no_sq = image_fused[((latents_sampled_sx[:, 1] != 2).astype(float) * (latents_sampled_dx[:, 1] != 0).astype(float)).astype(bool), :, :]\n",
        "y_no_heart_no_sq = y_fused[((latents_sampled_sx[:, 1] != 2).astype(float) * (latents_sampled_dx[:, 1] != 0).astype(float)).astype(bool)]\n",
        "c_no_heart_no_sq = c_fused[((latents_sampled_sx[:, 1] != 2).astype(float) * (latents_sampled_dx[:, 1] != 0).astype(float)).astype(bool)]\n",
        "show_images_grid(no_heart_no_sq, 9)\n"
      ]
    },
    {
      "cell_type": "code",
      "execution_count": null,
      "metadata": {},
      "outputs": [
        {
          "data": {
            "image/png": "[encoded data removed]",
            "text/plain": [
              "<Figure size 900x900 with 9 Axes>"
            ]
          },
          "metadata": {},
          "output_type": "display_data"
        }
      ],
      "source": [
        "hh = image_fused[((latents_sampled_sx[:, 1] == 2).astype(float) * (latents_sampled_dx[:, 1] == 2).astype(float)).astype(bool), :, :]\n",
        "y_hh = np.ones(len(hh))\n",
        "c_hh = c_fused[((latents_sampled_sx[:, 1] == 2).astype(float) * (latents_sampled_dx[:, 1] == 2).astype(float)).astype(bool)]\n",
        "show_images_grid(hh, 9)"
      ]
    },
    {
      "cell_type": "code",
      "execution_count": null,
      "metadata": {},
      "outputs": [
        {
          "data": {
            "image/png": "[encoded data removed]",
            "text/plain": [
              "<Figure size 900x900 with 9 Axes>"
            ]
          },
          "metadata": {},
          "output_type": "display_data"
        }
      ],
      "source": [
        "sqsq = image_fused[((latents_sampled_sx[:, 1] == 0).astype(float) * (latents_sampled_dx[:, 1] == 0).astype(float)).astype(bool), :, :]\n",
        "y_sqsq = np.ones(len(sqsq))\n",
        "c_sqsq = c_fused[((latents_sampled_sx[:, 1] == 0).astype(float) * (latents_sampled_dx[:, 1] == 0).astype(float)).astype(bool)]\n",
        "show_images_grid(sqsq, 9)"
      ]
    },
    {
      "cell_type": "code",
      "execution_count": 3,
      "metadata": {},
      "outputs": [
        {
          "ename": "NameError",
          "evalue": "name 'imgs_sampled_dx' is not defined",
          "output_type": "error",
          "traceback": [
            "\u001b[0;31m---------------------------------------------------------------------------\u001b[0m",
            "\u001b[0;31mNameError\u001b[0m                                 Traceback (most recent call last)",
            "Cell \u001b[0;32mIn[3], line 1\u001b[0m\n\u001b[0;32m----> 1\u001b[0m \u001b[39mprint\u001b[39m(\u001b[39mlen\u001b[39m(imgs_sampled_dx), \u001b[39mlen\u001b[39m(y_dx), \u001b[39mlen\u001b[39m(c_dx), \u001b[39mlen\u001b[39m(imgs_sampled_sx), \u001b[39mlen\u001b[39m(y_sx), \u001b[39mlen\u001b[39m(c_sx))\n",
            "\u001b[0;31mNameError\u001b[0m: name 'imgs_sampled_dx' is not defined"
          ]
        }
      ],
      "source": [
        "print(len(imgs_sampled_dx), len(y_dx), len(c_dx), len(imgs_sampled_sx), len(y_sx), len(c_sx))"
      ]
    },
    {
      "cell_type": "code",
      "execution_count": 206,
      "metadata": {},
      "outputs": [
        {
          "name": "stdout",
          "output_type": "stream",
          "text": [
            "1363 1363 1363 1317 1317 1317\n"
          ]
        }
      ],
      "source": [
        "print(len(no_sq_no_heart), len(y_no_sq_no_heart), len(c_no_sq_no_heart), len(no_heart_no_sq), len(y_no_heart_no_sq), len(c_no_heart_no_sq))"
      ]
    },
    {
      "cell_type": "code",
      "execution_count": 207,
      "metadata": {},
      "outputs": [
        {
          "name": "stdout",
          "output_type": "stream",
          "text": [
            "353 353 353 316 316 316\n"
          ]
        }
      ],
      "source": [
        "print(len(hh), len(y_hh), len(c_hh), len(sqsq), len(y_sqsq), len(c_sqsq))"
      ]
    },
    {
      "cell_type": "code",
      "execution_count": 208,
      "metadata": {},
      "outputs": [],
      "source": [
        "train_set_imgs = np.concatenate([imgs_sampled_dx[:int(len(imgs_sampled_dx)*0.8)], \n",
        "                                    imgs_sampled_sx[:int(len(imgs_sampled_sx)*0.8)], \n",
        "                                    no_sq_no_heart[:int(len(no_sq_no_heart)*0.8)], \n",
        "                                    no_heart_no_sq[:int(len(no_heart_no_sq)*0.8)], \n",
        "                                    hh[:int(len(no_heart_no_sq)*0.8)]], axis=0)\n",
        "y_train = np.concatenate([y_dx[:int(len(imgs_sampled_dx)*0.8)],\n",
        "                            y_sx[:int(len(imgs_sampled_sx)*0.8)],\n",
        "                            y_no_sq_no_heart[:int(len(no_sq_no_heart)*0.8)],\n",
        "                            y_no_heart_no_sq[:int(len(no_heart_no_sq)*0.8)],\n",
        "                            y_hh[:int(len(no_heart_no_sq)*0.8)]], axis=0)\n",
        "c_train = np.concatenate([c_dx[:int(len(imgs_sampled_dx)*0.8)],\n",
        "                            c_sx[:int(len(imgs_sampled_sx)*0.8)],\n",
        "                            c_no_sq_no_heart[:int(len(no_sq_no_heart)*0.8)],\n",
        "                            c_no_heart_no_sq[:int(len(no_heart_no_sq)*0.8)],\n",
        "                            c_hh[:int(len(no_heart_no_sq)*0.8)]], axis=0)"
      ]
    },
    {
      "cell_type": "code",
      "execution_count": 209,
      "metadata": {},
      "outputs": [],
      "source": [
        "test_set_imgs = np.concatenate([imgs_sampled_dx[int(len(imgs_sampled_dx)*0.8):],\n",
        "                                    imgs_sampled_sx[int(len(imgs_sampled_sx)*0.8):],\n",
        "                                    no_sq_no_heart[int(len(no_sq_no_heart)*0.8):],\n",
        "                                    no_heart_no_sq[int(len(no_heart_no_sq)*0.8):],\n",
        "                                    hh[int(len(no_heart_no_sq)*0.8):],\n",
        "                                    sqsq], axis=0)\n",
        "y_test = np.concatenate([y_dx[int(len(imgs_sampled_dx)*0.8):],\n",
        "                            y_sx[int(len(imgs_sampled_sx)*0.8):],\n",
        "                            y_no_sq_no_heart[int(len(no_sq_no_heart)*0.8):],\n",
        "                            y_no_heart_no_sq[int(len(no_heart_no_sq)*0.8):],\n",
        "                            y_hh[int(len(no_heart_no_sq)*0.8):],\n",
        "                            y_sqsq], axis=0)\n",
        "c_test = np.concatenate([c_dx[int(len(imgs_sampled_dx)*0.8):],\n",
        "                            c_sx[int(len(imgs_sampled_sx)*0.8):],\n",
        "                            c_no_sq_no_heart[int(len(no_sq_no_heart)*0.8):],\n",
        "                            c_no_heart_no_sq[int(len(no_heart_no_sq)*0.8):],\n",
        "                            c_hh[int(len(no_heart_no_sq)*0.8):],\n",
        "                            c_sqsq], axis=0)"
      ]
    },
    {
      "cell_type": "code",
      "execution_count": 210,
      "metadata": {},
      "outputs": [],
      "source": [
        "import os\n",
        "save_dir = './datasets/dsprites'\n",
        "os.makedirs(save_dir, exist_ok=True)\n",
        "\n",
        "train_images_file = os.path.join(save_dir, 'train_images.npy')\n",
        "test_images_file = os.path.join(save_dir, 'test_images.npy')\n",
        "train_labels_file = os.path.join(save_dir, 'train_labels.npy')\n",
        "test_labels_file = os.path.join(save_dir, 'test_labels.npy')\n",
        "train_concepts_file = os.path.join(save_dir, 'train_concepts.npy')\n",
        "test_concepts_file = os.path.join(save_dir, 'test_concepts.npy')\n",
        "\n",
        "np.save(train_images_file, train_set_imgs)\n",
        "np.save(test_images_file, test_set_imgs)\n",
        "np.save(train_labels_file, y_train)\n",
        "np.save(test_labels_file, y_test)\n",
        "np.save(train_concepts_file, c_train)\n",
        "np.save(test_concepts_file, c_test)"
      ]
    },
    {
      "cell_type": "code",
      "execution_count": null,
      "metadata": {},
      "outputs": [],
      "source": []
    }
  ],
  "metadata": {
    "colab": {
      "default_view": {},
      "last_runtime": {
        "build_target": "",
        "kind": "local"
      },
      "name": "deepmind_2d_shapes_dataset_public.ipynb",
      "provenance": [
        {
          "file_id": "/piper/depot/google3/experimental/deepmind/concepts/dataset2dshapes/public/deepmind_2d_shapes_dataset.ipynb?workspaceId=lmatthey:lmatthey-2dshapes-dataset:580:citc",
          "timestamp": 1493149332589
        },
        {
          "file_id": "0BxLiVtkN33-wbmVnbVQwcUhjY0U",
          "timestamp": 1493149291483
        }
      ],
      "version": "0.3.2",
      "views": {}
    },
    "kernelspec": {
      "display_name": ".venv",
      "language": "python",
      "name": "python3"
    },
    "language_info": {
      "codemirror_mode": {
        "name": "ipython",
        "version": 3
      },
      "file_extension": ".py",
      "mimetype": "text/x-python",
      "name": "python",
      "nbconvert_exporter": "python",
      "pygments_lexer": "ipython3",
      "version": "3.9.6"
    }
  },
  "nbformat": 4,
  "nbformat_minor": 0
}
